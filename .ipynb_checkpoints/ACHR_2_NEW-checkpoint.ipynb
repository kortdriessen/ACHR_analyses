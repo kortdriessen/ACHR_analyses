{
 "cells": [
  {
   "cell_type": "markdown",
   "id": "7d019453-3709-49a0-a331-f89a400d14c7",
   "metadata": {
    "execution": {
     "iopub.execute_input": "2021-11-14T19:43:16.527071Z",
     "iopub.status.busy": "2021-11-14T19:43:16.527071Z",
     "iopub.status.idle": "2021-11-14T19:43:16.758369Z",
     "shell.execute_reply": "2021-11-14T19:43:16.757394Z",
     "shell.execute_reply.started": "2021-11-14T19:43:16.527071Z"
    },
    "tags": []
   },
   "source": [
    "# ACHR_2_NEW"
   ]
  },
  {
   "cell_type": "code",
   "execution_count": 3,
   "id": "3a426ffd-70a5-4696-be20-4b8efc9dacd6",
   "metadata": {
    "execution": {
     "iopub.execute_input": "2021-11-14T19:46:04.517545Z",
     "iopub.status.busy": "2021-11-14T19:46:04.517545Z",
     "iopub.status.idle": "2021-11-14T19:46:04.747536Z",
     "shell.execute_reply": "2021-11-14T19:46:04.746884Z",
     "shell.execute_reply.started": "2021-11-14T19:46:04.517545Z"
    },
    "tags": []
   },
   "outputs": [],
   "source": [
    "%matplotlib widget\n",
    "%reload_ext autoreload\n",
    "%autoreload 2\n",
    "\n",
    "import numpy as np\n",
    "import scipy\n",
    "import pandas as pd\n",
    "import tdt\n",
    "from pathlib import Path\n",
    "import matplotlib.pyplot as plt\n",
    "import seaborn as sns\n",
    "import xarray as xr\n",
    "import yaml\n",
    "import re\n",
    "\n",
    "import hypnogram as hp\n",
    "from ecephys.utils import replace_outliers\n",
    "import ecephys.plot as eplt\n",
    "import ecephys.signal.timefrequency as tfr\n",
    "import ecephys.signal.kd_utils as kd\n",
    "import ecephys.signal.kd_plotting as kp\n",
    "import ecephys.signal.kd_pax as kpx\n",
    "import tdt_xarray as tx\n",
    "\n",
    "bands_def = dict(delta=(0.5, 4.0), theta=(4.0, 8), sigma=(11,16), beta = (13, 20), low_gamma = (40, 55), high_gamma = (65, 80))\n",
    "\n",
    "kd_ref = {}\n",
    "kd_ref['echans'] = [1,2,3]\n",
    "kd_ref['fchans']=[1,2,3,4,5,6,7,8,9,10,11,12,13,14,15,16]\n",
    "kd_ref['analysis_root'] = Path('/Volumes/opto_loc/Data/ACHR_PROJECT_MATERIALS/ACHR_2/ACHR_2-analysis-data')\n",
    "kd_ref['tank_root'] = Path('/Volumes/opto_loc/Data/ACHR_2_TANK')"
   ]
  },
  {
   "cell_type": "code",
   "execution_count": 44,
   "id": "6f2d694b-4883-4675-8d28-5ec4f38840bf",
   "metadata": {},
   "outputs": [],
   "source": [
    "def plot_bp_set(spg, bands, hyp, channel, start_time, end_time, ss=12, figsize=(15,5), title=None):\n",
    "    spg = spg.sel(channel=channel, time=slice(start_time, end_time))\n",
    "    bp_set = kd.get_bp_set2(spg, bands)\n",
    "    bp_set = kd.get_smoothed_ds(bp_set, smoothing_sigma=ss)\n",
    "    ax_index = np.arange(0, len(bands))\n",
    "    keys = kd.get_key_list(bands)\n",
    "\n",
    "    fig, axes = plt.subplots(ncols=1, nrows=len(bands), figsize=figsize)\n",
    "\n",
    "    for i, k in zip(ax_index, keys):\n",
    "        fr = bp_set[k].f_range\n",
    "        fr_str = '('+str(fr[0]) + ' -> ' +str(fr[1])+' Hz)'\n",
    "        ax = sns.lineplot(x=bp_set[k].time, y=bp_set[k], ax=axes[i])\n",
    "        ax.set_ylabel('Raw '+k.capitalize()+' Power')\n",
    "        ax.set_title(k.capitalize()+' Bandpower '+fr_str)\n",
    "    fig.suptitle(title)\n",
    "    fig.tight_layout(pad=1)\n",
    "    return fig, axes"
   ]
  },
  {
   "cell_type": "markdown",
   "id": "211b3cd4-6536-4ca2-bd3b-20784c5365f4",
   "metadata": {
    "tags": []
   },
   "source": [
    "# Test-a1"
   ]
  },
  {
   "cell_type": "code",
   "execution_count": 2,
   "id": "31a7730e-64c1-4051-855e-30f9361c04f4",
   "metadata": {
    "execution": {
     "iopub.execute_input": "2021-10-17T01:39:39.623976Z",
     "iopub.status.busy": "2021-10-17T01:39:39.623976Z",
     "iopub.status.idle": "2021-10-17T01:39:39.741066Z",
     "shell.execute_reply": "2021-10-17T01:39:39.740064Z",
     "shell.execute_reply.started": "2021-10-17T01:39:39.623976Z"
    },
    "tags": []
   },
   "outputs": [],
   "source": [
    "a1p = '/Volumes/opto_loc/Data/ACHR_2_TANK/ACHR_2-test-a1'\n",
    "a2p = '/Volumes/opto_loc/Data/ACHR_2_TANK/ACHR_2-test-a2'\n",
    "a3p = '/Volumes/opto_loc/Data/ACHR_2_TANK/ACHR_2-test-a3'\n",
    "a4p = '/Volumes/opto_loc/Data/ACHR_2_TANK/ACHR_2-test-a4'\n",
    "a5p = '/Volumes/opto_loc/Data/ACHR_2_TANK/ACHR_2-test-a5'"
   ]
  },
  {
   "cell_type": "code",
   "execution_count": 23,
   "id": "ebd25184-cf50-40fa-9d01-ed39ce0e73a9",
   "metadata": {},
   "outputs": [],
   "source": [
    "tt = {}"
   ]
  },
  {
   "cell_type": "code",
   "execution_count": 26,
   "id": "487795c6-9f86-4e62-a4e7-1971269c1f0a",
   "metadata": {},
   "outputs": [
    {
     "name": "stdout",
     "output_type": "stream",
     "text": [
      "read from t=0s to t=52197.43s\n",
      "Using 1017.2526 Hz as SEV sampling rate for EEGr\n",
      "Remember to save all data in xset-style dictionary, and to add experiment name key (key = \"name\") before using save_xset\n",
      "read from t=0s to t=52197.43s\n",
      "Using 1017.2526 Hz as SEV sampling rate for EEG_\n",
      "Remember to save all data in xset-style dictionary, and to add experiment name key (key = \"name\") before using save_xset\n",
      "read from t=0s to t=52197.43s\n",
      "Using 1017.2526 Hz as SEV sampling rate for LFP_\n",
      "Remember to save all data in xset-style dictionary, and to add experiment name key (key = \"name\") before using save_xset\n",
      "read from t=0s to t=21661.76s\n",
      "Using 1017.2526 Hz as SEV sampling rate for EEGr\n",
      "Remember to save all data in xset-style dictionary, and to add experiment name key (key = \"name\") before using save_xset\n",
      "read from t=0s to t=21661.76s\n",
      "Using 1017.2526 Hz as SEV sampling rate for EEG_\n",
      "Remember to save all data in xset-style dictionary, and to add experiment name key (key = \"name\") before using save_xset\n",
      "read from t=0s to t=21661.76s\n",
      "Using 1017.2526 Hz as SEV sampling rate for LFP_\n",
      "Remember to save all data in xset-style dictionary, and to add experiment name key (key = \"name\") before using save_xset\n",
      "read from t=0s to t=12944.59s\n",
      "Using 1017.2526 Hz as SEV sampling rate for EEGr\n",
      "Remember to save all data in xset-style dictionary, and to add experiment name key (key = \"name\") before using save_xset\n",
      "read from t=0s to t=12944.59s\n",
      "Using 1017.2526 Hz as SEV sampling rate for EEG_\n",
      "Remember to save all data in xset-style dictionary, and to add experiment name key (key = \"name\") before using save_xset\n",
      "read from t=0s to t=12944.59s\n",
      "Using 1017.2526 Hz as SEV sampling rate for LFP_\n",
      "Remember to save all data in xset-style dictionary, and to add experiment name key (key = \"name\") before using save_xset\n",
      "read from t=0s to t=8305.34s\n",
      "Using 1017.2526 Hz as SEV sampling rate for EEGr\n",
      "Remember to save all data in xset-style dictionary, and to add experiment name key (key = \"name\") before using save_xset\n",
      "read from t=0s to t=8305.34s\n",
      "Using 1017.2526 Hz as SEV sampling rate for EEG_\n",
      "Remember to save all data in xset-style dictionary, and to add experiment name key (key = \"name\") before using save_xset\n",
      "read from t=0s to t=8305.34s\n",
      "Using 1017.2526 Hz as SEV sampling rate for LFP_\n",
      "Remember to save all data in xset-style dictionary, and to add experiment name key (key = \"name\") before using save_xset\n"
     ]
    }
   ],
   "source": [
    "tt['a1_er'], tt['a1_erspg'] = kd.get_data_spg(a1p, store='EEGr', t1=0, t2=0, channel=kd_ref['echans'])\n",
    "tt['a1_e'], tt['a1_espg'] = kd.get_data_spg(a1p, store='EEG_', t1=0, t2=0, channel=kd_ref['echans'])\n",
    "tt['a1_f'], tt['a1_fspg'] = kd.get_data_spg(a1p, store='LFP_', t1=0, t2=0, channel=kd_ref['fchans'])\n",
    "\n",
    "tt['a2_er'], tt['a2_erspg'] = kd.get_data_spg(a2p, store='EEGr', t1=0, t2=0, channel=kd_ref['echans'])\n",
    "tt['a2_e'], tt['a2_espg'] = kd.get_data_spg(a2p, store='EEG_', t1=0, t2=0, channel=kd_ref['echans'])\n",
    "tt['a2_f'], tt['a2_fspg'] = kd.get_data_spg(a2p, store='LFP_', t1=0, t2=0, channel=kd_ref['fchans'])\n",
    "\n",
    "tt['a3_er'], tt['a3_erspg'] = kd.get_data_spg(a3p, store='EEGr', t1=0, t2=0, channel=kd_ref['echans'])\n",
    "tt['a3_e'], tt['a3_espg'] = kd.get_data_spg(a3p, store='EEG_', t1=0, t2=0, channel=kd_ref['echans'])\n",
    "tt['a3_f'], tt['a3_fspg'] = kd.get_data_spg(a3p, store='LFP_', t1=0, t2=0, channel=kd_ref['fchans'])\n",
    "\n",
    "tt['a4_er'], tt['a4_erspg'] = kd.get_data_spg(a4p, store='EEGr', t1=0, t2=0, channel=kd_ref['echans'])\n",
    "tt['a4_e'], tt['a4_espg'] = kd.get_data_spg(a4p, store='EEG_', t1=0, t2=0, channel=kd_ref['echans'])\n",
    "tt['a4_f'], tt['a4_fspg'] = kd.get_data_spg(a4p, store='LFP_', t1=0, t2=0, channel=kd_ref['fchans'])"
   ]
  },
  {
   "cell_type": "code",
   "execution_count": 82,
   "id": "23957e3a-49b1-4de5-83db-81d56f462bb5",
   "metadata": {},
   "outputs": [],
   "source": [
    "keys = ['a1-Filtered-EEG', 'a3-Filtered-EEG']\n",
    "test = 'Recording-Config'\n",
    "def comp_psd(spg1, spg2, median=True, keys=keys, test=test):\n",
    "    psd1 = spg1.median(dim='time')\n",
    "    psd2 = spg2.median(dim='time')\n",
    "    if median is not True: \n",
    "        psd1 = spg1.mean(dim='time')\n",
    "        psd2 = spg2.mean(dim='time')\n",
    "    psd_df = pd.concat([psd1.to_dataframe('power'), psd2.to_dataframe('power')], keys=keys).rename_axis(index={None: test})\n",
    "    ax = sns.relplot(data=psd_df, x='frequency', y='power', hue='Recording-Config', col='channel', kind='line')\n",
    "    x = ax.axes\n",
    "    x[0,0].set_ylim(0, 250)\n",
    "    x[0,0].set_xlim(0, 120)\n",
    "    return ax"
   ]
  },
  {
   "cell_type": "code",
   "execution_count": null,
   "id": "0e80ad2a-1fe8-488d-b8cc-fde0f4af52ca",
   "metadata": {},
   "outputs": [],
   "source": [
    "\n",
    "def comp_psd_lfp(spg1, spg2, median=True, keys=keys, test=test, chans=chans):\n",
    "    psd1 = spg1.sel(channel=chans).median(dim='time')\n",
    "    psd2 = spg2.sel(channel=chans).median(dim='time')\n",
    "    if median is not True: \n",
    "        psd1 = spg1.sel(channel=chans).mean(dim='time')\n",
    "        psd2 = spg2.sel(channel=chans).mean(dim='time')\n",
    "    psd_df = pd.concat([psd1.to_dataframe('power'), psd2.to_dataframe('power')], keys=keys).rename_axis(index={None: test})\n",
    "    ax = sns.relplot(data=psd_df, x='frequency', y='power', hue='Recording-Config', col='channel', kind='line')\n",
    "    return ax"
   ]
  },
  {
   "cell_type": "code",
   "execution_count": null,
   "id": "a1feb8c3-539a-4ed0-99a1-8ee51dc9f8f7",
   "metadata": {},
   "outputs": [],
   "source": [
    "\n",
    "fkeys = ['a2-Filtered-LFP', 'a3-Filtered-LFP']\n",
    "test = 'Recording-Config'\n",
    "chans = [3,7,11,15]\n",
    "plt.close('all')\n",
    "ax = comp_psd_lfp(tt['a2_fspg'], tt['a3_fspg'], keys=fkeys)\n",
    "\n",
    "x = ax.axes\n",
    "#x[0,0].set_ylim(0, 250)\n",
    "x[0,0].set_xlim(0, 70)"
   ]
  },
  {
   "cell_type": "code",
   "execution_count": 30,
   "id": "ec5c4aa1-c2b8-44c4-833a-03752435b7df",
   "metadata": {},
   "outputs": [],
   "source": [
    "plt.close('all')\n",
    "band='delta'\n",
    "chans = [3,8,15]\n",
    "for chan in chans:\n",
    "    b, s = kp.plot_spectrogram_with_bandpower(tt['a1_espg'], bands_def, band, hyp=None, channel=chan, start_time=0, end_time=spg.time.max(), title=band.capitalize()+\" Power, LFP/EEG-\"+str(chan)+\", EXPERIMENT\")\n",
    "    #b.set_ylim(0, 300000)"
   ]
  },
  {
   "cell_type": "markdown",
   "id": "68bcf13c-884d-4e47-9032-c4686680afc3",
   "metadata": {
    "tags": []
   },
   "source": [
    "# Exp-1"
   ]
  },
  {
   "cell_type": "code",
   "execution_count": 39,
   "id": "72adbb06-e72c-482b-8b1d-27f9d6d539d5",
   "metadata": {},
   "outputs": [],
   "source": [
    "def stim_durations(onsets, offsets, num):\n",
    "    durations = list()\n",
    "    num=num+1\n",
    "    stims = np.arange(1,num,1)\n",
    "    for on, off in zip(onsets, offsets):\n",
    "        dur = off-on\n",
    "        durations.append(dur)\n",
    "    return durations\n",
    "def stim_values(onsets, offsets, num):\n",
    "    for pulse in zip(onsets, offsets):\n",
    "        print(pulse)"
   ]
  },
  {
   "cell_type": "code",
   "execution_count": 62,
   "id": "cf770a8a-7eff-42c3-a66f-da4003b5fd8e",
   "metadata": {},
   "outputs": [
    {
     "data": {
      "text/plain": [
       "[7.349411840000002,\n",
       " 21.18291456,\n",
       " 29.18399999999997,\n",
       " 19.456204799999966,\n",
       " 28.540641280000045,\n",
       " 56.31496191999997,\n",
       " 27.641896960000054,\n",
       " 21.77564671999994,\n",
       " 22.02136575999998,\n",
       " 17.584046080000007,\n",
       " 3706.6069196800004]"
      ]
     },
     "execution_count": 62,
     "metadata": {},
     "output_type": "execute_result"
    }
   ],
   "source": [
    "d = stim_durations(a2x1['stim_on'], a2x1['stim_off'], 11)\n",
    "d"
   ]
  },
  {
   "cell_type": "code",
   "execution_count": 46,
   "id": "fa02c5ed-17e7-47b0-8c14-eed5a7bebd86",
   "metadata": {},
   "outputs": [
    {
     "name": "stdout",
     "output_type": "stream",
     "text": [
      "(117.543936, 124.89334784)\n",
      "(231.6222464, 252.80516096)\n",
      "(403.63577344000004, 432.81977344)\n",
      "(492.07574528000004, 511.53195008)\n",
      "(578.16850432, 606.7091456)\n",
      "(733.3888000000001, 789.70376192)\n",
      "(890.42927616, 918.07117312)\n",
      "(1051.33924352, 1073.11489024)\n",
      "(1190.7805184000001, 1212.80188416)\n",
      "(1248.8187904000001, 1266.4028364800001)\n",
      "(1328.69398528, 5035.3009049600005)\n"
     ]
    }
   ],
   "source": [
    "stim_values(a2x1['stim_on'], a2x1['stim_off'], 11)"
   ]
  },
  {
   "cell_type": "code",
   "execution_count": 220,
   "id": "49765b6a-557c-40ca-b8b4-32de98b565fc",
   "metadata": {},
   "outputs": [],
   "source": [
    "x1p = '/Volumes/opto_loc/Data/ACHR_2/ACHR_2_TANK/ACHR_2-exp1'\n",
    "#comment"
   ]
  },
  {
   "cell_type": "code",
   "execution_count": 221,
   "id": "0ce6f067-6193-422c-babf-fd256b221a08",
   "metadata": {},
   "outputs": [
    {
     "name": "stdout",
     "output_type": "stream",
     "text": [
      "read from t=0s to t=26071.67s\n",
      "Using 1017.2526 Hz as SEV sampling rate for EEG_\n",
      "Remember to save all data in xset-style dictionary, and to add experiment name key (key = \"name\") before using save_xset\n",
      "read from t=0s to t=26071.67s\n",
      "Using 1017.2526 Hz as SEV sampling rate for LFP_\n",
      "Remember to save all data in xset-style dictionary, and to add experiment name key (key = \"name\") before using save_xset\n"
     ]
    }
   ],
   "source": [
    "a2x1 = {}\n",
    "a2x1['e'], a2x1['espg'] = kd.get_data_spg(x1p, store='EEG_', t1=0, t2=0, channel=kd_ref['echans'])\n",
    "a2x1['f'], a2x1['fspg'] = kd.get_data_spg(x1p, store='LFP_', t1=0, t2=0, channel=kd_ref['fchans'])"
   ]
  },
  {
   "cell_type": "code",
   "execution_count": 222,
   "id": "04ba2ae5-d9f1-487f-87f7-fd09f7fba6d6",
   "metadata": {},
   "outputs": [
    {
     "name": "stdout",
     "output_type": "stream",
     "text": [
      "read from t=0s to t=26071.67s\n",
      "read from t=0s to t=26071.67s\n"
     ]
    }
   ],
   "source": [
    "a2x1['stim_on'] = tdt.read_block(x1p, evtype=['epocs']).epocs.Bn1_.onset \n",
    "a2x1['stim_off'] = tdt.read_block(x1p, evtype=['epocs']).epocs.Bn1_.offset "
   ]
  },
  {
   "cell_type": "markdown",
   "id": "0fa03c16-fc8d-4de7-9869-82a247072614",
   "metadata": {
    "tags": []
   },
   "source": [
    "# Exp-2"
   ]
  },
  {
   "cell_type": "code",
   "execution_count": 3,
   "id": "d6a606af-4073-4941-a403-2395241daff2",
   "metadata": {
    "execution": {
     "iopub.execute_input": "2021-11-14T19:29:55.228763Z",
     "iopub.status.busy": "2021-11-14T19:29:55.228763Z",
     "iopub.status.idle": "2021-11-14T19:29:55.433681Z",
     "shell.execute_reply": "2021-11-14T19:29:55.433681Z",
     "shell.execute_reply.started": "2021-11-14T19:29:55.228763Z"
    }
   },
   "outputs": [],
   "source": [
    "x4p = '/Volumes/opto_loc/Data/ACHR_2/ACHR_2_TANK/ACHR_2-exp4-laser-recovery'\n",
    "x4sdp = '/Volumes/opto_loc/Data/ACHR_2/ACHR_2_TANK/ACHR_2-exp4-laser-sd'\n",
    "b4p = '/Volumes/opto_loc/Data/ACHR_2/ACHR_2_TANK/ACHR_2-exp4-laser-bl'"
   ]
  },
  {
   "cell_type": "code",
   "execution_count": 4,
   "id": "8c41e35c-c7b1-4ccb-8f2a-965d5bfd404b",
   "metadata": {
    "collapsed": true,
    "jupyter": {
     "outputs_hidden": true
    },
    "tags": []
   },
   "outputs": [
    {
     "name": "stdout",
     "output_type": "stream",
     "text": [
      "read from t=0s to t=86419.11s\n",
      "Using 1017.2526 Hz as SEV sampling rate for EEG_\n",
      "Remember to save all data in xset-style dictionary, and to add experiment name key (key = \"name\") before using save_xset\n",
      "read from t=0s to t=86419.11s\n",
      "Using 1017.2526 Hz as SEV sampling rate for LFP_\n",
      "Remember to save all data in xset-style dictionary, and to add experiment name key (key = \"name\") before using save_xset\n",
      "read from t=0s to t=88278.97s\n",
      "Using 1017.2526 Hz as SEV sampling rate for EEG_\n",
      "Remember to save all data in xset-style dictionary, and to add experiment name key (key = \"name\") before using save_xset\n",
      "read from t=0s to t=88278.97s\n",
      "Using 1017.2526 Hz as SEV sampling rate for LFP_\n",
      "Remember to save all data in xset-style dictionary, and to add experiment name key (key = \"name\") before using save_xset\n",
      "read from t=0s to t=17927.46s\n",
      "Using 1017.2526 Hz as SEV sampling rate for EEG_\n",
      "Remember to save all data in xset-style dictionary, and to add experiment name key (key = \"name\") before using save_xset\n",
      "read from t=0s to t=17927.46s\n",
      "Using 1017.2526 Hz as SEV sampling rate for LFP_\n",
      "Remember to save all data in xset-style dictionary, and to add experiment name key (key = \"name\") before using save_xset\n"
     ]
    }
   ],
   "source": [
    "a2x4 = {}\n",
    "a2x4['bl-ze'], a2x4['blspg-ze'] = kd.get_data_spg(b4p, store='EEG_', t1=0, t2=0, channel=kd_ref['echans'])\n",
    "\n",
    "a2x4['bl-zf'], a2x4['blspg-zf'] = kd.get_data_spg(b4p, store='LFP_', t1=0, t2=0, channel=kd_ref['fchans'])\n",
    "\n",
    "a2x4['rec-ze'], a2x4['recspg-ze'] = kd.get_data_spg(x4p, store='EEG_', t1=0, t2=0, channel=kd_ref['echans'])\n",
    "a2x4['rec-zf'], a2x4['recspg-zf'] = kd.get_data_spg(x4p, store='LFP_', t1=0, t2=0, channel=kd_ref['fchans'])\n",
    "\n",
    "a2x4['sd-ze'], a2x4['sdspg-ze'] = kd.get_data_spg(x4sdp, store='EEG_', t1=0, t2=0, channel=kd_ref['echans'])\n",
    "a2x4['sd-zf'], a2x4['sdspg-zf'] = kd.get_data_spg(x4sdp, store='LFP_', t1=0, t2=0, channel=kd_ref['fchans'])"
   ]
  },
  {
   "cell_type": "code",
   "execution_count": 6,
   "id": "f28cd4d0-acdd-4ecf-8421-1917415b07cc",
   "metadata": {},
   "outputs": [
    {
     "name": "stdout",
     "output_type": "stream",
     "text": [
      "read from t=0s to t=102476.04s\n",
      "read from t=0s to t=102476.04s\n"
     ]
    }
   ],
   "source": [
    "a2x2['stim_on'] = tdt.read_block(x2p, evtype=['epocs']).epocs.Bn1_.onset \n",
    "a2x2['stim_off'] = tdt.read_block(x2p, evtype=['epocs']).epocs.Bn1_.offset "
   ]
  },
  {
   "cell_type": "markdown",
   "id": "35d2dd2a-df58-4689-abba-8e3faf14391b",
   "metadata": {
    "tags": []
   },
   "source": [
    "# EXPERIMENT #4"
   ]
  },
  {
   "cell_type": "code",
   "execution_count": 4,
   "id": "148bedc1-af7f-4be9-9d3f-9380fe81334d",
   "metadata": {
    "execution": {
     "iopub.execute_input": "2021-11-14T19:46:06.441599Z",
     "iopub.status.busy": "2021-11-14T19:46:06.440599Z",
     "iopub.status.idle": "2021-11-14T19:46:06.639238Z",
     "shell.execute_reply": "2021-11-14T19:46:06.639238Z",
     "shell.execute_reply.started": "2021-11-14T19:46:06.440599Z"
    },
    "tags": []
   },
   "outputs": [],
   "source": [
    "b4p_local = 'L:\\Data\\ACHR_2\\ACHR_2_TANK\\ACHR_2-exp4-laser-bl'"
   ]
  },
  {
   "cell_type": "code",
   "execution_count": 5,
   "id": "e5c0e0a3-5575-4bfa-9426-a4c3c60bd032",
   "metadata": {
    "execution": {
     "iopub.execute_input": "2021-11-14T19:46:09.161039Z",
     "iopub.status.busy": "2021-11-14T19:46:09.161039Z",
     "iopub.status.idle": "2021-11-14T19:47:53.314196Z",
     "shell.execute_reply": "2021-11-14T19:47:53.314196Z",
     "shell.execute_reply.started": "2021-11-14T19:46:09.161039Z"
    },
    "tags": []
   },
   "outputs": [
    {
     "name": "stdout",
     "output_type": "stream",
     "text": [
      "read from t=0s to t=86419.11s\n",
      "Using 1017.2526 Hz as SEV sampling rate for EEG_\n",
      "Remember to save all data in xset-style dictionary, and to add experiment name key (key = \"name\") before using save_xset\n"
     ]
    }
   ],
   "source": [
    "a2x4 = {}\n",
    "a2x4['bl-ze'], a2x4['blspg-ze'] = kd.get_data_spg(b4p_local, store='EEG_', t1=0, t2=0, channel=kd_ref['echans'])"
   ]
  },
  {
   "cell_type": "code",
   "execution_count": 6,
   "id": "07243ade-0145-4fd0-8f37-c0a2a7021e86",
   "metadata": {
    "execution": {
     "iopub.execute_input": "2021-11-14T19:47:53.316193Z",
     "iopub.status.busy": "2021-11-14T19:47:53.316193Z",
     "iopub.status.idle": "2021-11-14T19:47:56.046106Z",
     "shell.execute_reply": "2021-11-14T19:47:56.045132Z",
     "shell.execute_reply.started": "2021-11-14T19:47:53.316193Z"
    },
    "tags": []
   },
   "outputs": [
    {
     "data": {
      "application/vnd.jupyter.widget-view+json": {
       "model_id": "c697e49bd9294aa4ada8836eee82751a",
       "version_major": 2,
       "version_minor": 0
      },
      "text/plain": [
       "Canvas(toolbar=Toolbar(toolitems=[('Home', 'Reset original view', 'home', 'home'), ('Back', 'Back to previous …"
      ]
     },
     "metadata": {},
     "output_type": "display_data"
    },
    {
     "data": {
      "application/vnd.jupyter.widget-view+json": {
       "model_id": "91d1f4d32f8f453b99a04318393b74bd",
       "version_major": 2,
       "version_minor": 0
      },
      "text/plain": [
       "Canvas(toolbar=Toolbar(toolitems=[('Home', 'Reset original view', 'home', 'home'), ('Back', 'Back to previous …"
      ]
     },
     "metadata": {},
     "output_type": "display_data"
    },
    {
     "data": {
      "application/vnd.jupyter.widget-view+json": {
       "model_id": "c58810db817b40b5a5b4fc3736b43b3d",
       "version_major": 2,
       "version_minor": 0
      },
      "text/plain": [
       "Canvas(toolbar=Toolbar(toolitems=[('Home', 'Reset original view', 'home', 'home'), ('Back', 'Back to previous …"
      ]
     },
     "metadata": {},
     "output_type": "display_data"
    }
   ],
   "source": [
    "plt.close('all')\n",
    "band='delta'\n",
    "spg = a2x4['blspg-ze']\n",
    "chans = [1,2,3]\n",
    "for chan in chans:\n",
    "    b, s = kp.plot_spectrogram_with_bandpower(spg, bands_def, band, hyp=None, channel=chan, start_time=0, end_time=43200, title=band.capitalize()+\" Power, LFP-\"+str(chan)+\", ACHR_2, Experiment-4 Baseline\")\n",
    "    #b.set_ylim(0, 10000)"
   ]
  }
 ],
 "metadata": {
  "kernelspec": {
   "display_name": "Python 3 (ipykernel)",
   "language": "python",
   "name": "python3"
  },
  "language_info": {
   "codemirror_mode": {
    "name": "ipython",
    "version": 3
   },
   "file_extension": ".py",
   "mimetype": "text/x-python",
   "name": "python",
   "nbconvert_exporter": "python",
   "pygments_lexer": "ipython3",
   "version": "3.9.6"
  }
 },
 "nbformat": 4,
 "nbformat_minor": 5
}
