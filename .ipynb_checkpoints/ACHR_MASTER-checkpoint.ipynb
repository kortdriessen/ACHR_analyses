{
 "cells": [
  {
   "cell_type": "markdown",
   "id": "06b56022-deec-489c-a221-e02de7587e07",
   "metadata": {},
   "source": [
    "# ACHR - MASTER"
   ]
  },
  {
   "cell_type": "code",
   "execution_count": null,
   "id": "b87e4d37-c872-4a9a-9697-7d524a55bb21",
   "metadata": {},
   "outputs": [],
   "source": []
  }
 ],
 "metadata": {
  "kernelspec": {
   "display_name": "Python 3 (ipykernel)",
   "language": "python",
   "name": "python3"
  },
  "language_info": {
   "codemirror_mode": {
    "name": "ipython",
    "version": 3
   },
   "file_extension": ".py",
   "mimetype": "text/x-python",
   "name": "python",
   "nbconvert_exporter": "python",
   "pygments_lexer": "ipython3",
   "version": "3.9.7"
  }
 },
 "nbformat": 4,
 "nbformat_minor": 5
}
