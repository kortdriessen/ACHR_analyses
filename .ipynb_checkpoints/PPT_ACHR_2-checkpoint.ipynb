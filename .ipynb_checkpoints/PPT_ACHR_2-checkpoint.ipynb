{
 "cells": [
  {
   "cell_type": "markdown",
   "metadata": {
    "tags": []
   },
   "source": [
    "# PPT_ACHR_2"
   ]
  },
  {
   "cell_type": "code",
   "execution_count": 1,
   "metadata": {
    "execution": {
     "iopub.execute_input": "2021-09-04T00:19:38.669120Z",
     "iopub.status.busy": "2021-09-04T00:19:38.669120Z",
     "iopub.status.idle": "2021-09-04T00:19:38.768734Z",
     "shell.execute_reply": "2021-09-04T00:19:38.768734Z",
     "shell.execute_reply.started": "2021-09-04T00:19:38.669120Z"
    },
    "tags": []
   },
   "outputs": [],
   "source": [
    "%matplotlib widget\n",
    "%reload_ext autoreload\n",
    "%autoreload 2\n",
    "\n",
    "import numpy as np\n",
    "import scipy\n",
    "import pandas as pd\n",
    "import tdt\n",
    "from pathlib import Path\n",
    "import matplotlib.pyplot as plt\n",
    "import seaborn as sns\n",
    "import xarray as xr\n",
    "import yaml\n",
    "import re\n",
    "\n",
    "import hypnogram as hp\n",
    "from ecephys.utils import replace_outliers\n",
    "import ecephys.plot as eplt\n",
    "import ecephys.signal.timefrequency as tfr\n",
    "import ecephys.signal.kd_utils as kd\n",
    "import ecephys.signal.kd_plotting as kp\n",
    "import ecephys.signal.kd_pax as kpx\n",
    "import tdt_xarray as tx\n",
    "\n",
    "bands_def = dict(delta=(0.5, 4.1), theta=(4.1, 8), sigma=(11,16), beta = (13, 20), low_gamma = (40, 55), high_gamma = (65, 80))\n",
    "\n",
    "kd_ref = {}\n",
    "kd_ref['echans'] = [1,2,3]\n",
    "kd_ref['fchans']=[1,2,3,4,5,6,7,8,9,10,11,12,13,14,15,16]\n",
    "kd_ref['analysis_root'] = Path(r\"L:\\Data\\ACHR_PROJECT_MATERIALS\\PPT_ACHR_2\\analysis_data\")\n",
    "kd_ref['tank_root'] = Path(r\"L:\\Data\\PPT_ACHR_2_TANK\")"
   ]
  },
  {
   "cell_type": "markdown",
   "metadata": {
    "tags": []
   },
   "source": [
    "# Test-a1"
   ]
  },
  {
   "cell_type": "code",
   "execution_count": 2,
   "metadata": {
    "execution": {
     "iopub.execute_input": "2021-08-28T15:41:36.614299Z",
     "iopub.status.busy": "2021-08-28T15:41:36.614299Z",
     "iopub.status.idle": "2021-08-28T15:41:36.622268Z",
     "shell.execute_reply": "2021-08-28T15:41:36.621293Z",
     "shell.execute_reply.started": "2021-08-28T15:41:36.614299Z"
    },
    "tags": []
   },
   "outputs": [],
   "source": [
    "a1p = \"L:\\Data\\ACHR_2_TANK\\ACHR_2-test-a1\""
   ]
  },
  {
   "cell_type": "code",
   "execution_count": 3,
   "id": "84127819",
   "metadata": {},
   "outputs": [
    {
     "name": "stdout",
     "output_type": "stream",
     "text": [
      "read from t=0s to t=52197.43s\n",
      "Using 1017.2526 Hz as SEV sampling rate for EEGr\n",
      "Remember to save all data in xset-style dictionary, and to add experiment name key (key = \"name\") before using save_xset\n",
      "read from t=0s to t=52197.43s\n",
      "Using 1017.2526 Hz as SEV sampling rate for EEG_\n",
      "Remember to save all data in xset-style dictionary, and to add experiment name key (key = \"name\") before using save_xset\n",
      "read from t=0s to t=52197.43s\n",
      "Using 1017.2526 Hz as SEV sampling rate for LFP_\n",
      "Remember to save all data in xset-style dictionary, and to add experiment name key (key = \"name\") before using save_xset\n"
     ]
    }
   ],
   "source": [
    "a2a1 = {}\n",
    "a2a1['er'], a2a1['er_spg'] = kd.get_data_spg(a1p, store='EEGr', t1=0, t2=0, channel=kd_ref['echans'])\n",
    "a2a1['e'], a2a1['e_spg'] = kd.get_data_spg(a1p, store='EEG_', t1=0, t2=0, channel=kd_ref['echans'])\n",
    "a2a1['f'], a2a1['f_spg'] = kd.get_data_spg(a1p, store='LFP_', t1=0, t2=0, channel=kd_ref['fchans'])"
   ]
  },
  {
   "cell_type": "code",
   "execution_count": null,
   "id": "5dcdc22b",
   "metadata": {},
   "outputs": [],
   "source": [
    "band='delta'\n",
    "chans = [1,2,3]\n",
    "for chan in chans:\n",
    "    b, s = kp.plot_spectrogram_with_bandpower(a2a1['er_spg'], bands_def, band, hyp=None, channel=chan, start_time=0, end_time=a2a1['er_spg'].time.max(), title=band.capitalize()+\" Power, Raw EEG-\"+str(chan)+\", ACHR_2 Recording\")\n",
    "    #b.set_ylim(0, 300000)"
   ]
  },
  {
   "cell_type": "code",
   "execution_count": null,
   "id": "4a1a083c",
   "metadata": {},
   "outputs": [],
   "source": []
  }
 ],
 "metadata": {
  "interpreter": {
   "hash": "f43608876f49eb59662039e914f1622581ce242a9f40390c01ad83dbb0e66dc9"
  },
  "kernelspec": {
   "display_name": "Python 3.9.6 64-bit ('ecephys': conda)",
   "name": "python3"
  },
  "language_info": {
   "codemirror_mode": {
    "name": "ipython",
    "version": 3
   },
   "file_extension": ".py",
   "mimetype": "text/x-python",
   "name": "python",
   "nbconvert_exporter": "python",
   "pygments_lexer": "ipython3",
   "version": "3.9.6"
  }
 },
 "nbformat": 4,
 "nbformat_minor": 5
}
