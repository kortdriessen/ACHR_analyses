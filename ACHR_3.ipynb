{
 "cells": [
  {
   "cell_type": "markdown",
   "id": "7d019453-3709-49a0-a331-f89a400d14c7",
   "metadata": {
    "execution": {
     "iopub.execute_input": "2021-11-14T19:43:16.527071Z",
     "iopub.status.busy": "2021-11-14T19:43:16.527071Z",
     "iopub.status.idle": "2021-11-14T19:43:16.758369Z",
     "shell.execute_reply": "2021-11-14T19:43:16.757394Z",
     "shell.execute_reply.started": "2021-11-14T19:43:16.527071Z"
    },
    "tags": []
   },
   "source": [
    "# ACHR_3 Analysis Notebook"
   ]
  },
  {
   "cell_type": "code",
   "execution_count": null,
   "id": "3a426ffd-70a5-4696-be20-4b8efc9dacd6",
   "metadata": {
    "execution": {
     "iopub.execute_input": "2021-11-14T19:46:04.517545Z",
     "iopub.status.busy": "2021-11-14T19:46:04.517545Z",
     "iopub.status.idle": "2021-11-14T19:46:04.747536Z",
     "shell.execute_reply": "2021-11-14T19:46:04.746884Z",
     "shell.execute_reply.started": "2021-11-14T19:46:04.517545Z"
    },
    "tags": []
   },
   "outputs": [],
   "source": [
    "%matplotlib inline \n",
    "%reload_ext autoreload\n",
    "%autoreload 2\n",
    "\n",
    "import numpy as np\n",
    "import scipy\n",
    "import pandas as pd\n",
    "import tdt\n",
    "from pathlib import Path\n",
    "import matplotlib.pyplot as plt\n",
    "import seaborn as sns\n",
    "import xarray as xr\n",
    "import yaml\n",
    "import re\n",
    "\n",
    "import hypnogram as hp\n",
    "from ecephys.utils import replace_outliers\n",
    "import ecephys.plot as eplt\n",
    "import ecephys.signal.timefrequency as tfr\n",
    "import ecephys.signal.kd_utils as kd\n",
    "import ecephys.signal.kd_plotting as kp\n",
    "import ecephys.signal.kd_pax as kpx\n",
    "import tdt_xarray as tx\n",
    "\n",
    "bands_def = dict(delta=(1, 4.0), theta=(4.0, 8), sigma=(11,16), beta = (13, 20), low_gamma = (40, 55), high_gamma = (65, 80))\n",
    "\n",
    "kd_ref = {}\n",
    "kd_ref['echans'] = [1,2,3]\n",
    "kd_ref['fchans']=[1,2,3,4,5,6,7,8,9,10,11,12,13,14,15,16]\n",
    "kd_ref['analysis_root'] = Path('/Volumes/opto_loc/Data/ACHR_PROJECT_MATERIALS/ACHR_2/ACHR_2-analysis-data')\n",
    "kd_ref['tank_root'] = Path('/Volumes/opto_loc/Data/ACHR_2_TANK')"
   ]
  },
  {
   "cell_type": "code",
   "execution_count": 2,
   "id": "fabb421c",
   "metadata": {},
   "outputs": [],
   "source": [
    "#Pulse times and numbers for calibration experiment on 12/5/21\n",
    "cal_pulse_times = [(0, 0),\n",
    " (1, 36.5201408),\n",
    " (2, 395.50402560000003),\n",
    " (3, 490.70768128000003),\n",
    " (4, 566.81271296),\n",
    " (5, 706.79146496),\n",
    " (6, 830.4766976),\n",
    " (7, 923.4967347200001),\n",
    " (8, 1028.20081664),\n",
    " (9, 1110.9107712),\n",
    " (10, 1327.42586368),\n",
    " (11, 1545.248768),\n",
    " (12, 1675.74687744),\n",
    " (13, 1883.81134848),\n",
    " (14, 1932.29529088)]"
   ]
  }
 ],
 "metadata": {
  "kernelspec": {
   "display_name": "Python 3 (ipykernel)",
   "language": "python",
   "name": "python3"
  },
  "language_info": {
   "codemirror_mode": {
    "name": "ipython",
    "version": 3
   },
   "file_extension": ".py",
   "mimetype": "text/x-python",
   "name": "python",
   "nbconvert_exporter": "python",
   "pygments_lexer": "ipython3",
   "version": "3.9.7"
  }
 },
 "nbformat": 4,
 "nbformat_minor": 5
}
