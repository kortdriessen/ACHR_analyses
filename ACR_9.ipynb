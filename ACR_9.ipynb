{
 "cells": [
  {
   "cell_type": "markdown",
   "metadata": {},
   "source": [
    "# ACR_9"
   ]
  },
  {
   "cell_type": "code",
   "execution_count": null,
   "metadata": {},
   "outputs": [],
   "source": [
    "%matplotlib widget\n",
    "%reload_ext autoreload\n",
    "%autoreload 2\n",
    "\n",
    "import numpy as np\n",
    "import pandas as pd\n",
    "import tdt\n",
    "from pathlib import Path\n",
    "import matplotlib.pyplot as plt\n",
    "import seaborn as sns\n",
    "\n",
    "import kd_analysis.main.kd_utils as kd\n",
    "import kd_analysis.main.kd_plotting as kp\n",
    "import kd_analysis.main.kd_hypno as kh\n",
    "import kd_analysis.ACR.acr_utils as acu\n",
    "import sleep_score_for_me.v4 as ssfm\n",
    "\n",
    "bp_def = dict(delta=(0.75, 4), theta=(4, 8), alpha = (8, 13), sigma = (11, 16), beta = (13, 30), gamma=(35, 55))\n",
    "\n",
    "kd_ref = {}\n",
    "kd_ref['echans'] = [1,2]\n",
    "kd_ref['fchans']=[1,2,3,4,5,6,7,8,9,10,11,12,13,14,15,16]\n",
    "kd_ref['analysis_root'] = Path('/Volumes/opto_loc/Data/ACHR_PROJECT_MATERIALS/ACHR_3/ACHR_3-analysis-data')\n",
    "kd_ref['tank_root'] = Path('/Volumes/opto_loc/Data/ACHR_3/ACHR_3_TANK')\n",
    "\n",
    "import plotly.express as px\n",
    "import plotly.io as pio\n",
    "\n",
    "pio.templates.default = \"plotly_dark\"\n"
   ]
  },
  {
   "cell_type": "code",
   "execution_count": null,
   "metadata": {},
   "outputs": [],
   "source": [
    "acr9_info = {}\n",
    "acr9_info['subject'] = 'ACR_9'\n",
    "acr9_info['complete_key_list'] = ['control1', 'laser1']"
   ]
  },
  {
   "cell_type": "code",
   "execution_count": null,
   "metadata": {},
   "outputs": [],
   "source": [
    "cds = ['white', 'cyan']"
   ]
  },
  {
   "cell_type": "markdown",
   "metadata": {},
   "source": [
    "# Functions"
   ]
  },
  {
   "cell_type": "code",
   "execution_count": null,
   "metadata": {},
   "outputs": [],
   "source": [
    "def ss_times(sub, exp):\n",
    "    def acr_get_times(sub, exp):\n",
    "        block_path = '/Volumes/opto_loc/Data/'+sub+'/'+sub+'-'+exp\n",
    "        ep = tdt.read_block(block_path, t1=0, t2=0, evtype=['epocs'])\n",
    "        times = {}\n",
    "        times['bl_sleep_start'] = ep.epocs.Bttn.onset[0]\n",
    "        times['stim_on'] = ep.epocs.Wdr_.onset[-1]\n",
    "        times['stim_off'] = ep.epocs.Wdr_.offset[-1]\n",
    "\n",
    "        dt_start = pd.to_datetime(ep.info.start_date)\n",
    "\n",
    "        on_sec = pd.to_timedelta(times['stim_on'], unit='S')\n",
    "        off_sec = pd.to_timedelta(times['stim_off'], unit='S')\n",
    "\n",
    "        times['stim_on_dt'] = dt_start+on_sec\n",
    "        times['stim_off_dt'] = dt_start+off_sec\n",
    "        return times\n",
    "    \n",
    "    times = acr_get_times(sub, exp)\n",
    "\n",
    "    start1 = times['bl_sleep_start'] - 30\n",
    "    end1 = start1 + 7200\n",
    "    print('FILE #1'), print(start1), print(end1)\n",
    "\n",
    "    start2 = end1\n",
    "    end2 = times['stim_off']\n",
    "    print('FILE #2'), print(start2), print(end2)\n",
    "    return times"
   ]
  },
  {
   "cell_type": "code",
   "execution_count": null,
   "metadata": {},
   "outputs": [],
   "source": [
    "def load_data(sub_info, exp_list=None, add_time=None):\n",
    "    sub = sub_info['subject']\n",
    "    times = {}\n",
    "\n",
    "    if exp_list == None:\n",
    "        exp_list = sub_info['complete_key_list']\n",
    "    \n",
    "    for condition in exp_list:\n",
    "        times[condition] = ss_times(sub, condition)\n",
    "    paths = acu.get_paths(sub, sub_info['complete_key_list'])   \n",
    "\n",
    "    a = {}\n",
    "    h={}\n",
    "    for condition in exp_list:\n",
    "       if add_time is not None:\n",
    "           a[condition+'-e-d'], a[condition+'-e-s'] = kd.get_data_spg(paths[condition], store='EEGr', t1=times[condition]['bl_sleep_start']-30, t2=times[condition]['stim_off']+add_time, channel=[1,2])\n",
    "           a[condition+'-f-d'], a[condition+'-f-s'] = kd.get_data_spg(paths[condition], store='LFP_', t1=times[condition]['bl_sleep_start']-30, t2=times[condition]['stim_off']+add_time, channel=[2, 8, 15])\n",
    "       else:\n",
    "           a[condition+'-e-d'], a[condition+'-e-s'] = kd.get_data_spg(paths[condition], store='EEGr', t1=times[condition]['bl_sleep_start']-30, t2=times[condition]['stim_off'], channel=[1,2])\n",
    "           a[condition+'-f-d'], a[condition+'-f-s'] = kd.get_data_spg(paths[condition], store='LFP_', t1=times[condition]['bl_sleep_start']-30, t2=times[condition]['stim_off'], channel=[2, 8, 15])\n",
    "       start_time = a[condition+'-e-d'].datetime.values[0]\n",
    "       h[condition] = acu.load_hypno_set(sub, condition, scoring_start_time=start_time)\n",
    "    return a, h, times\n"
   ]
  },
  {
   "cell_type": "code",
   "execution_count": null,
   "metadata": {},
   "outputs": [],
   "source": [
    "def acr_rel2peak(spg, hyp, times, band='delta', ylim=None):\n",
    "    \"\"\"\n",
    "    spg --> xarray.dataarray\n",
    "    hyp --> hypnogram object\n",
    "    times --> dictionary (make sure to select the condition)\n",
    "     \"\"\"\n",
    "    \n",
    "    bp = kd.get_bp_set2(spg, bp_def)\n",
    "    smooth_bp = kd.get_smoothed_ds(bp, smoothing_sigma=6)\n",
    "    smooth_nrem_bp = kh.keep_states(smooth_bp, hyp, ['NREM'])\n",
    "\n",
    "    nrem_spg = kh.keep_states(spg, hyp, ['NREM'])\n",
    "    nrem_bp = kd.get_bp_set2(nrem_spg, bands=bp_def)\n",
    "    rel_time_index = np.arange(0, len(smooth_nrem_bp.datetime.values))\n",
    "\n",
    "    t1 = smooth_nrem_bp.datetime.values[0]\n",
    "    t2 = times['stim_on_dt']\n",
    "    avg_period = slice(t1, t2)\n",
    "    avgs = smooth_nrem_bp.sel(datetime=avg_period).mean(dim='datetime')\n",
    "\n",
    "    bp_nrem_rel2peak = smooth_nrem_bp/avgs\n",
    "\n",
    "    bp_nrem_rel2peak = bp_nrem_rel2peak.assign_coords(time_rel=('datetime', rel_time_index))\n",
    "\n",
    "    return bp_nrem_rel2peak.to_dataframe().reset_index()"
   ]
  },
  {
   "cell_type": "code",
   "execution_count": null,
   "metadata": {},
   "outputs": [],
   "source": [
    "def acr_rel_allstates(spg, hyp, times, band='delta', ylim=None):\n",
    "    \"\"\"\n",
    "    spg --> xarray.dataarray\n",
    "    hyp --> hypnogram object\n",
    "    times --> dictionary (make sure to select the condition)\n",
    "     \"\"\"\n",
    "    \n",
    "    bp = kd.get_bp_set2(spg, bp_def)\n",
    "    smooth_bp = kd.get_smoothed_ds(bp, smoothing_sigma=6)\n",
    "    smooth_nrem_bp = kh.keep_states(smooth_bp, hyp, ['NREM'])\n",
    "\n",
    "    nrem_spg = kh.keep_states(spg, hyp, ['NREM'])\n",
    "    nrem_bp = kd.get_bp_set2(nrem_spg, bands=bp_def)\n",
    "    rel_time_index = np.arange(0, len(smooth_bp.datetime.values))\n",
    "\n",
    "    t1 = smooth_nrem_bp.datetime.values[0]\n",
    "    t2 = times['stim_on_dt']\n",
    "    avg_period = slice(t1, t2)\n",
    "    avgs = smooth_nrem_bp.sel(datetime=avg_period).mean(dim='datetime')\n",
    "\n",
    "    bp_rel2peak = smooth_bp/avgs\n",
    "\n",
    "    bp_rel2peak = bp_rel2peak.assign_coords(time_rel=('datetime', rel_time_index))\n",
    "\n",
    "    return bp_rel2peak.to_dataframe().reset_index()"
   ]
  },
  {
   "cell_type": "code",
   "execution_count": null,
   "metadata": {},
   "outputs": [],
   "source": [
    "def acr(spg, hyp, times, band='delta', ylim=None):\n",
    "    \"\"\"\n",
    "    spg --> xarray.dataarray\n",
    "    hyp --> hypnogram object\n",
    "    times --> dictionary (make sure to select the condition)\n",
    "     \"\"\"\n",
    "    \n",
    "    bp = kd.get_bp_set2(spg, bp_def)\n",
    "    smooth_bp = kd.get_smoothed_ds(bp, smoothing_sigma=6)\n",
    "    smooth_nrem_bp = kh.keep_states(smooth_bp, hyp, ['NREM'])\n",
    "\n",
    "    nrem_spg = kh.keep_states(spg, hyp, ['NREM'])\n",
    "    nrem_bp = kd.get_bp_set2(nrem_spg, bands=bp_def)\n",
    "    rel_time_index = np.arange(0, len(smooth_nrem_bp.datetime.values))\n",
    "\n",
    "    t1 = smooth_nrem_bp.datetime.values[0]\n",
    "    t2 = times['stim_on_dt']\n",
    "    avg_period = slice(t1, t2)\n",
    "    avgs = smooth_nrem_bp.sel(datetime=avg_period).mean(dim='datetime')\n",
    "\n",
    "    bp_nrem_rel2peak = smooth_nrem_bp/avgs\n",
    "\n",
    "    bp_nrem_rel2peak = bp_nrem_rel2peak.assign_coords(time_rel=('datetime', rel_time_index))\n",
    "\n",
    "    df4plot = bp_nrem_rel2peak.to_dataframe()\n",
    "    df4plot.reset_index(inplace=True)\n",
    "    \n",
    "    g = sns.FacetGrid(df4plot, row='channel', ylim=ylim, height=3, aspect=6)\n",
    "    g.map(sns.lineplot, 'time_rel', band)\n",
    "\n",
    "    return g"
   ]
  },
  {
   "cell_type": "markdown",
   "metadata": {},
   "source": [
    "# Nights"
   ]
  },
  {
   "cell_type": "code",
   "execution_count": null,
   "metadata": {},
   "outputs": [],
   "source": [
    "t1 = np.datetime64('2022-06-10T21:00')\n",
    "t2 = np.datetime64('2022-06-11T09:00')\n",
    "t3 = np.datetime64('2022-06-11T21:00')\n",
    "t4 = np.datetime64('2022-06-12T09:00')\n",
    "t5 = np.datetime64('2022-06-12T21:00')\n",
    "t6 = np.datetime64('2022-06-13T09:00')\n",
    "\n",
    "s1 = slice(t1, t2)\n",
    "s2 = slice(t2, t3)\n",
    "s3 = slice(t3, t4)\n",
    "s4 = slice(t4, t5)\n",
    "s5 = slice(t5, t6)"
   ]
  },
  {
   "cell_type": "code",
   "execution_count": null,
   "metadata": {},
   "outputs": [],
   "source": [
    "#Friday Night\n",
    "en1 = a9ed['test1'].sel(datetime=s1)\n",
    "mn1 = a9md['test1'].sel(datetime=s1)\n",
    "hyp1 = ssfm.ssfm_v4(en1, mn1, 1)"
   ]
  },
  {
   "cell_type": "code",
   "execution_count": null,
   "metadata": {},
   "outputs": [],
   "source": [
    "#Saturday Night\n",
    "en2 = a9ed['test1'].sel(datetime=s3)\n",
    "mn2 = a9md['test1'].sel(datetime=s3)\n",
    "hyp2 = ssfm.ssfm_v4(en2, mn2, 1)"
   ]
  },
  {
   "cell_type": "code",
   "execution_count": null,
   "metadata": {},
   "outputs": [],
   "source": [
    "#Sunday Night\n",
    "en3 = a9ed['test1'].sel(datetime=s5)\n",
    "mn3 = a9md['test1'].sel(datetime=s5)\n",
    "hyp3 = ssfm.ssfm_v4(en3, mn3, 1)"
   ]
  },
  {
   "cell_type": "markdown",
   "metadata": {},
   "source": [
    "# Peak in Morn"
   ]
  },
  {
   "cell_type": "code",
   "execution_count": null,
   "metadata": {},
   "outputs": [],
   "source": [
    "m1 = np.datetime64('2022-06-15T09:00')\n",
    "m2 = np.datetime64('2022-06-15T21:00')\n",
    "m3 = np.datetime64('2022-06-16T09:00')\n",
    "m4 = np.datetime64('2022-06-16T15:00')\n",
    "\n",
    "ms1 = slice(m1, m2)\n",
    "ms2 = slice(m2, m3)\n",
    "ms3 = slice(m3, m4)"
   ]
  },
  {
   "cell_type": "code",
   "execution_count": null,
   "metadata": {},
   "outputs": [],
   "source": [
    "#Tuesday night - Light was incorrectly ON\n",
    "t1 = np.datetime64('2022-06-14T21:00')\n",
    "t2 = np.datetime64('2022-06-15T09:00')\n",
    "ts = slice(t1, t2)\n",
    "ec = a9ed['control1'].sel(datetime=ts)\n",
    "mc = a9md['control1'].sel(datetime=ts)\n",
    "hyp1 = ssfm.ssfm_v4(ec, mc, 1)"
   ]
  },
  {
   "cell_type": "code",
   "execution_count": null,
   "metadata": {},
   "outputs": [],
   "source": [
    "# Wednesday-light\n",
    "e1 = a9ed['mon1'].sel(datetime=ms1)\n",
    "m1 = a9md['mon1'].sel(datetime=ms1)\n",
    "hyp1 = ssfm.ssfm_v4(e1, m1, 1)"
   ]
  },
  {
   "cell_type": "code",
   "execution_count": null,
   "metadata": {},
   "outputs": [],
   "source": [
    "# Wednesday NIGHT into thursday morn (DARK)\n",
    "e2 = a9ed['mon1'].sel(datetime=ms2)\n",
    "m2 = a9md['mon1'].sel(datetime=ms2)\n",
    "ssfm.ssfm_v4(e2, m2, 1)"
   ]
  },
  {
   "cell_type": "code",
   "execution_count": null,
   "metadata": {},
   "outputs": [],
   "source": [
    "# Thursday morn (light)\n",
    "e3 = a9ed['mon1'].sel(datetime=ms3)\n",
    "m3 = a9md['mon1'].sel(datetime=ms3)\n",
    "ssfm.ssfm_v4(e3, m3, 1)"
   ]
  },
  {
   "cell_type": "markdown",
   "metadata": {},
   "source": [
    "# Relevant Times for Scoring/Analysis"
   ]
  },
  {
   "cell_type": "markdown",
   "metadata": {},
   "source": [
    "Scoring plan \n",
    "- start 30 sec before Bttn sleep start\n",
    "- score all of 15-min 'baseline' period, and entire 4-hour stim"
   ]
  },
  {
   "cell_type": "code",
   "execution_count": null,
   "metadata": {},
   "outputs": [],
   "source": [
    "ctrl_times = ss_times('ACR_9', 'control1')"
   ]
  },
  {
   "cell_type": "code",
   "execution_count": null,
   "metadata": {},
   "outputs": [],
   "source": [
    "lsr_times = ss_times('ACR_9', 'laser1')"
   ]
  },
  {
   "cell_type": "markdown",
   "metadata": {},
   "source": [
    "# Load Data + Quick Plots"
   ]
  },
  {
   "cell_type": "code",
   "execution_count": null,
   "metadata": {},
   "outputs": [],
   "source": [
    "a9, h9, a9_times = load_data(acr9_info, add_time=None)"
   ]
  },
  {
   "cell_type": "code",
   "execution_count": null,
   "metadata": {},
   "outputs": [],
   "source": [
    "f, ax = plt.subplots()\n",
    "kp.plot_shaded_bp(a9['control1-e-s'], 1, bp_def, 'delta', h9['control1'], ax=ax)"
   ]
  },
  {
   "cell_type": "markdown",
   "metadata": {},
   "source": [
    "# Quantify relative to \"Sleep Peak\""
   ]
  },
  {
   "cell_type": "markdown",
   "metadata": {},
   "source": [
    "Procedure:\n",
    "- Get nrem only\n",
    "- chunk in some way\n",
    "    - or take the average of the entire sleep period\n",
    "- express everything relative to that peak\n",
    "\n",
    "Then should have the option to plot NREM only, or all states expressed relative to NREM peak"
   ]
  },
  {
   "cell_type": "markdown",
   "metadata": {},
   "source": [
    "Need:\n",
    "- A way to get continuous NREM Data, (i.e. w/o gaps from other states)"
   ]
  },
  {
   "cell_type": "code",
   "execution_count": null,
   "metadata": {},
   "outputs": [],
   "source": [
    "c = acr_rel2peak(a9['control1-e-s'], h9['control1'], a9_times['control1'])\n",
    "l = acr_rel2peak(a9['laser1-e-s'], h9['laser1'], a9_times['laser1'])\n",
    "cf = acr_rel2peak(a9['control1-f-s'], h9['control1'], a9_times['control1'])\n",
    "lf = acr_rel2peak(a9['laser1-f-s'], h9['laser1'], a9_times['laser1'])\n",
    "c['Condition'] = 'Control'\n",
    "l['Condition'] = 'Laser'\n",
    "cf['Condition'] = 'Control'\n",
    "lf['Condition'] = 'Laser'\n",
    "cl = pd.concat([c, l])\n",
    "clf = pd.concat([cf, lf])"
   ]
  },
  {
   "cell_type": "code",
   "execution_count": null,
   "metadata": {},
   "outputs": [],
   "source": [
    "title = \"Delta Power (0.75-4Hz) During Sinusoidal Laser Stimulation vs Control - LFP | NREM Only\"\n",
    "fig = px.line(clf, x='time_rel', y='delta', color='Condition', facet_row='channel', height=600, width=2200, color_discrete_sequence=['lightgray', 'cyan'], title=title)\n",
    "fig.update_xaxes(range=[0, 4000], title='Time')\n",
    "fig.update_yaxes(range=[0, 2], title='Norm. Delta Power')\n",
    "fig.add_vrect(x0=307, x1=4000, line_width=0, fillcolor=\"turquoise\", opacity=0.05)\n",
    "fig.add_vline(x=307, line_width=2, opacity=1, line_color='red')\n",
    "fig.update_traces(line=dict(width=3))\n",
    "fig"
   ]
  },
  {
   "cell_type": "code",
   "execution_count": null,
   "metadata": {},
   "outputs": [],
   "source": [
    "title = \"Delta Power (0.75-4Hz) During Sinusoidal Laser Stimulation vs Control - EEG | NREM Only\"\n",
    "fig = px.line(cl, x='time_rel', y='delta', color='Condition', facet_row='channel', height=600, width=2200, color_discrete_sequence=['lightgray', 'cyan'], title=title)\n",
    "fig.update_xaxes(range=[0, 4000], title='Time')\n",
    "fig.update_yaxes(range=[0, 2], title='Norm. Delta Power')\n",
    "fig.add_vrect(x0=307, x1=4000, line_width=0, fillcolor=\"turquoise\", opacity=0.05)\n",
    "fig.add_vline(x=307, line_width=2, opacity=1, line_color='red')\n",
    "fig.update_traces(line=dict(width=2))\n",
    "fig"
   ]
  },
  {
   "cell_type": "markdown",
   "metadata": {},
   "source": [
    "# Histograms/Quantify"
   ]
  },
  {
   "cell_type": "code",
   "execution_count": null,
   "metadata": {},
   "outputs": [],
   "source": [
    "def x2df(xl, keys):\n",
    "    dfs = []\n",
    "    for x, key in zip(xl, keys):\n",
    "        x = x.to_dataframe(name=key)\n",
    "        x.reset_index(inplace=True)\n",
    "        x['key'] = key\n",
    "        dfs.append(x)\n",
    "    df = pd.concat(dfs)\n",
    "    return df"
   ]
  },
  {
   "cell_type": "code",
   "execution_count": null,
   "metadata": {},
   "outputs": [],
   "source": [
    "def acr_bp(spg, hyp, times, state=['NREM'], type='df', key=''):\n",
    "    t1 = times['stim_on_dt']\n",
    "    t2 = times['stim_off_dt']\n",
    "    bp = kd.get_bp_set2(spg, bp_def)\n",
    "\n",
    "    bp = bp.sel(datetime=slice(t1, t2))\n",
    "\n",
    "    bp = kh.keep_states(bp, hyp, state)\n",
    "\n",
    "\n",
    "    if type == 'xr':\n",
    "        return bp\n",
    "    elif type == 'df':\n",
    "        bp_df = bp.to_dataframe()\n",
    "        bp_df = bp_df.reset_index()\n",
    "        bp_df['key'] = key\n",
    "        return bp_df\n",
    "    "
   ]
  },
  {
   "cell_type": "code",
   "execution_count": null,
   "metadata": {},
   "outputs": [],
   "source": [
    "def acr_bp_rel(spg, hyp, times, state=['NREM'], type='df', key=''):\n",
    "    #Time values that we will need\n",
    "    start = spg.datetime.values[0]\n",
    "    t1 = times['stim_on_dt']\n",
    "    t2 = times['stim_off_dt']\n",
    "    \n",
    "    #Calculate the bandpower values, then cut out only the desired states \n",
    "    bp = kd.get_bp_set2(spg, bp_def)\n",
    "    bp = kh.keep_states(bp, hyp, state)\n",
    "\n",
    "    #Gets the average bandpowers over the peak period (for the given state)\n",
    "    avg_period = slice(start, t1)\n",
    "    avgs = bp.sel(datetime=avg_period).mean(dim='datetime')\n",
    "\n",
    "    #This expresses everything relative to that mean value over the peak period\n",
    "    bp = bp/avgs\n",
    "\n",
    "    #This selects out only the stim period\n",
    "    bp = bp.sel(datetime=slice(t1, t2))\n",
    "    \n",
    "    # NOW HAVE: Stim period bandpower values, from only the desired state(s), relative to their mean value during the peak period\n",
    "\n",
    "    #This outputs the data in the desired format:\n",
    "    if type == 'xr':\n",
    "        return bp\n",
    "    elif type == 'df':\n",
    "        bp_df = bp.to_dataframe()\n",
    "        bp_df = bp_df.reset_index()\n",
    "        bp_df['Key'] = key\n",
    "        return bp_df\n",
    "    "
   ]
  },
  {
   "cell_type": "code",
   "execution_count": null,
   "metadata": {},
   "outputs": [],
   "source": [
    "ct_eeg = acr_bp_rel(a9['control1-e-s'], h9['control1'], a9_times['control1'], key='Control')\n",
    "ls_eeg = acr_bp_rel(a9['laser1-e-s'], h9['laser1'], a9_times['laser1'], key='Laser')\n",
    "ct_lfp = acr_bp_rel(a9['control1-f-s'], h9['control1'], a9_times['control1'], key='Control')\n",
    "ls_lfp = acr_bp_rel(a9['laser1-f-s'], h9['laser1'], a9_times['laser1'], key='Laser')"
   ]
  },
  {
   "cell_type": "code",
   "execution_count": null,
   "metadata": {},
   "outputs": [],
   "source": [
    "rel_stim_bp = pd.concat([ct_eeg, ls_eeg])\n",
    "rel_stim_bp_lfp = pd.concat([ct_lfp, ls_lfp])\n",
    "new_rsbp = rel_stim_bp.melt(id_vars=['Key', 'channel'], value_vars=['delta', 'theta', 'alpha', 'beta', 'gamma'], var_name='band', value_name='power')\n",
    "new_rsbp_lfp = rel_stim_bp_lfp.melt(id_vars=['Key', 'channel'], value_vars=['delta', 'theta', 'alpha', 'beta', 'gamma'], var_name='band', value_name='power')"
   ]
  },
  {
   "cell_type": "code",
   "execution_count": null,
   "metadata": {},
   "outputs": [],
   "source": [
    "bp1eeg = rel_stim_bp[rel_stim_bp['channel']==1]"
   ]
  },
  {
   "cell_type": "code",
   "execution_count": null,
   "metadata": {},
   "outputs": [],
   "source": [
    "title = 'Contralateral-EEG Delta Values During Sinusoidal Laser Stimulation vs Control, Normalized to Baseline Period | NREM Only'\n",
    "f = px.histogram(rel_stim_bp.loc[(rel_stim_bp['channel']==1)], x='delta', color='key', barmode='overlay', opacity=0.6, marginal='box', color_discrete_sequence=['white', 'cornflowerblue'], title=title)\n",
    "f.update_xaxes(title='Normalized Delta Power')"
   ]
  },
  {
   "cell_type": "code",
   "execution_count": null,
   "metadata": {},
   "outputs": [],
   "source": [
    "title = 'Ipsilateral-EEG Delta Values During Sinusoidal Laser Stimulation vs Control, Normalized to Baseline Period | NREM Only'\n",
    "f = px.histogram(rel_stim_bp.loc[(rel_stim_bp['channel']==2)], x='delta', color='key', barmode='overlay', opacity=0.6, marginal='box', color_discrete_sequence=['white', 'cornflowerblue'], title=title)\n",
    "f.update_xaxes(title='Normalized Delta Power')"
   ]
  },
  {
   "cell_type": "code",
   "execution_count": null,
   "metadata": {},
   "outputs": [],
   "source": [
    "title = 'Superficial-LFP Delta Values During Sinusoidal Laser Stimulation vs Control, Normalized to Baseline Period | NREM Only'\n",
    "f = px.histogram(rel_stim_bp_lfp.loc[(rel_stim_bp_lfp['channel']==2)], x='delta', color='key', barmode='overlay', opacity=0.6, marginal='box', color_discrete_sequence=['white', 'cornflowerblue'], title=title, nbins=250)\n",
    "f.update_xaxes(title='Normalized Delta Power', range=[0, 2.5])"
   ]
  },
  {
   "cell_type": "code",
   "execution_count": null,
   "metadata": {},
   "outputs": [],
   "source": [
    "title = 'Mid-LFP Delta Values During Sinusoidal Laser Stimulation vs Control, Normalized to Baseline Period | NREM Only'\n",
    "f = px.histogram(rel_stim_bp_lfp.loc[(rel_stim_bp_lfp['channel']==8)], x='delta', color='key', barmode='overlay', opacity=0.6, marginal='box', color_discrete_sequence=['white', 'cornflowerblue'], title=title, nbins=250)\n",
    "f.update_xaxes(title='Normalized Delta Power', range=[0, 2.5])"
   ]
  },
  {
   "cell_type": "code",
   "execution_count": null,
   "metadata": {},
   "outputs": [],
   "source": [
    "title = 'Deep-LFP Delta Values During Sinusoidal Laser Stimulation vs Control, Normalized to Baseline Period | NREM Only'\n",
    "f = px.histogram(rel_stim_bp_lfp.loc[(rel_stim_bp_lfp['channel']==15)], x='delta', color='key', barmode='overlay', opacity=0.6, marginal='box', color_discrete_sequence=['white', 'cornflowerblue'], title=title, nbins=250)\n",
    "f.update_xaxes(title='Normalized Delta Power', range=[0, 2.5])"
   ]
  },
  {
   "cell_type": "code",
   "execution_count": null,
   "metadata": {},
   "outputs": [],
   "source": [
    "sns.set(style=\"ticks\", context=\"talk\")\n",
    "plt.style.use(\"dark_background\")"
   ]
  },
  {
   "cell_type": "code",
   "execution_count": null,
   "metadata": {},
   "outputs": [],
   "source": [
    "rel_stim_bp.reset_index(inplace=True)\n",
    "rel_stim_bp_lfp.reset_index(inplace=True)"
   ]
  },
  {
   "cell_type": "code",
   "execution_count": null,
   "metadata": {},
   "outputs": [],
   "source": [
    "%matplotlib inline"
   ]
  },
  {
   "cell_type": "code",
   "execution_count": null,
   "metadata": {},
   "outputs": [],
   "source": [
    "#f, ax = plt.subplots(figsize=(15, 5))\n",
    "f = sns.displot(rel_stim_bp, x=\"delta\", hue=\"Key\", palette=cds, row='channel', kind=\"kde\", fill=True)\n",
    "f.set_axis_labels(\"Delta Power Normalized to Baseline\", \"\")\n",
    "f.set_titles(\"\")"
   ]
  },
  {
   "cell_type": "code",
   "execution_count": null,
   "metadata": {},
   "outputs": [],
   "source": [
    "#f, ax = plt.subplots(figsize=(15, 5))\n",
    "f = sns.displot(rel_stim_bp_lfp, x=\"delta\", hue=\"Key\", palette=cds, row='channel', kind=\"kde\", fill=True)\n",
    "f.set_axis_labels(\"Delta Power Normalized to Baseline\", \"\")\n",
    "f.set_titles(\"\")"
   ]
  },
  {
   "cell_type": "code",
   "execution_count": null,
   "metadata": {},
   "outputs": [],
   "source": [
    "#f, ax = plt.subplots(figsize=(5, 7))\n",
    "f = sns.catplot(x=\"Key\", y=\"delta\", data=bp1eeg, palette=cds, kind=\"box\", height=8, aspect=1)\n",
    "f.set(ylim=(0,1.5))\n",
    "f.set_axis_labels(\"Condition\", \"Delta Power Normalized to Baseline\")\n",
    "f.set_titles(\"\")"
   ]
  },
  {
   "cell_type": "code",
   "execution_count": null,
   "metadata": {},
   "outputs": [],
   "source": [
    "#f, ax = plt.subplots(figsize=(5, 7))\n",
    "f = sns.catplot(x=\"Key\", y=\"delta\", row='channel', data=rel_stim_bp_lfp, palette=cds, kind=\"box\", height=8, aspect=1)\n",
    "f.set(ylim=(0,2))\n",
    "f.set_axis_labels(\"Condition\", \"Delta Power Normalized to Baseline\")\n",
    "f.set_titles(\"\")"
   ]
  },
  {
   "cell_type": "code",
   "execution_count": null,
   "metadata": {},
   "outputs": [],
   "source": [
    "#f, ax = plt.subplots(figsize=(15, 5))\n",
    "f = sns.displot(rel_stim_bp_lfp, x=\"delta\", hue=\"Key\", palette=cds, row='channel', kind=\"kde\", fill=True)\n",
    "f.set_axis_labels(\"Delta Power as % of Baseline\", \"\")\n",
    "f.set_titles(\"\")"
   ]
  },
  {
   "cell_type": "code",
   "execution_count": null,
   "metadata": {},
   "outputs": [],
   "source": [
    "f = sns.catplot(x='band', y='power', hue='Key', kind='box', row='channel', data=new_rsbp, palette=cds)\n",
    "f.set_axis_labels( \"\", \"Delta Power Normalized to Baseline\")\n",
    "f.set_titles(\"\")\n",
    "f.set(ylim=(0,2))"
   ]
  },
  {
   "cell_type": "code",
   "execution_count": null,
   "metadata": {},
   "outputs": [],
   "source": [
    "bands=['delta', 'theta', 'alpha', 'beta']\n",
    "f = sns.catplot(x='band', y='power', hue='Key', kind='box', row='channel', data=new_rsbp_lfp, palette=cds)\n",
    "f.set_axis_labels( \"\", \"Delta Power Normalized to Baseline\")\n",
    "f.set_titles(\"\")\n",
    "f.set(ylim=(0,2))"
   ]
  },
  {
   "cell_type": "code",
   "execution_count": null,
   "metadata": {},
   "outputs": [],
   "source": [
    "f, ax = plt.subplots(figsize=(10, 18))\n",
    "ax = sns.catplot(x=\"band\", y=\"power\", kind=\"boxen\",\n",
    "            data=new_rsbp, fig=f)"
   ]
  },
  {
   "cell_type": "markdown",
   "metadata": {},
   "source": [
    "# Boxplots"
   ]
  },
  {
   "cell_type": "code",
   "execution_count": null,
   "metadata": {},
   "outputs": [],
   "source": [
    "fig = px.box(x='band', y='power', data_frame=new_rsbp, color='key', points=False, notched=True, facet_row='channel', color_discrete_sequence=['white', 'cornflowerblue'])\n",
    "fig"
   ]
  },
  {
   "cell_type": "code",
   "execution_count": null,
   "metadata": {},
   "outputs": [],
   "source": [
    "fig = px.box(x='band', y='power', data_frame=new_rsbp_lfp, color='key', points=False, notched=True, facet_row='channel', color_discrete_sequence=['white', 'cornflowerblue'])\n",
    "fig"
   ]
  },
  {
   "cell_type": "markdown",
   "metadata": {},
   "source": [
    "# PSD Plots"
   ]
  },
  {
   "cell_type": "code",
   "execution_count": null,
   "metadata": {},
   "outputs": [],
   "source": [
    "control_peak = slice(a9['control1-e-d'].datetime.values[0], a9_times['control1']['stim_on_dt'])\n",
    "control_stim = slice(a9_times['control1']['stim_on_dt'], a9_times['control1']['stim_off_dt'])"
   ]
  },
  {
   "cell_type": "code",
   "execution_count": null,
   "metadata": {},
   "outputs": [],
   "source": [
    "laser_peak = slice(a9['laser1-e-d'].datetime.values[0], a9_times['laser1']['stim_on_dt'])\n",
    "laser_stim = slice(a9_times['laser1']['stim_on_dt'], a9_times['laser1']['stim_off_dt'])"
   ]
  },
  {
   "cell_type": "code",
   "execution_count": null,
   "metadata": {},
   "outputs": [],
   "source": [
    "control_psd_nrem_peak = kd.get_ss_psd(a9['control1-e-s'].sel(datetime=control_peak), h9['control1'], ['NREM'])\n",
    "control_psd_nrem_stim = kd.get_ss_psd(a9['control1-e-s'].sel(datetime=control_stim), h9['control1'], ['NREM'])"
   ]
  },
  {
   "cell_type": "code",
   "execution_count": null,
   "metadata": {},
   "outputs": [],
   "source": [
    "laser_psd_nrem_peak = kd.get_ss_psd(a9['laser1-e-s'].sel(datetime=laser_peak), h9['laser1'], ['NREM'])\n",
    "laser_psd_nrem_stim = kd.get_ss_psd(a9['laser1-e-s'].sel(datetime=laser_stim), h9['laser1'], ['NREM'])"
   ]
  },
  {
   "cell_type": "code",
   "execution_count": null,
   "metadata": {},
   "outputs": [],
   "source": [
    "control_psd_eeg = control_psd_nrem_stim/control_psd_nrem_peak"
   ]
  },
  {
   "cell_type": "code",
   "execution_count": null,
   "metadata": {},
   "outputs": [],
   "source": [
    "laser_psd_eeg = laser_psd_nrem_stim/laser_psd_nrem_peak"
   ]
  },
  {
   "cell_type": "code",
   "execution_count": null,
   "metadata": {},
   "outputs": [],
   "source": [
    "c1 = control_psd_eeg.sel(channel=1)\n",
    "l1 = laser_psd_eeg.sel(channel=1)"
   ]
  },
  {
   "cell_type": "code",
   "execution_count": null,
   "metadata": {},
   "outputs": [],
   "source": [
    "f = kp.compare_psd(l1, c1, 'NREM', keys=['Laser', 'Control'], scale='linear')\n",
    "f.set(ylim=(0,1.25), xlim=(0.75,30))"
   ]
  },
  {
   "cell_type": "code",
   "execution_count": null,
   "metadata": {},
   "outputs": [],
   "source": [
    "f = kp.compare_psd(laser_psd_nrem_peak, control_psd_nrem_peak, 'NREM', scale='linear')\n",
    "f.set(xlim=(0,10))"
   ]
  },
  {
   "cell_type": "code",
   "execution_count": null,
   "metadata": {},
   "outputs": [],
   "source": [
    "f = kp.compare_psd(laser_psd_nrem_stim.sel(channel=1), control_psd_nrem_stim.sel(channel=1), 'NREM', scale='linear')\n",
    "f.set(xlim=(0,20), ylabel='NREM Power Spectral Density')"
   ]
  },
  {
   "cell_type": "code",
   "execution_count": null,
   "metadata": {},
   "outputs": [],
   "source": [
    "control_psd_nrem_peak_lfp = kd.get_ss_psd(a9['control1-f-s'].sel(datetime=control_peak), h9['control1'], ['NREM'])\n",
    "control_psd_nrem_stim_lfp = kd.get_ss_psd(a9['control1-f-s'].sel(datetime=control_stim), h9['control1'], ['NREM'])"
   ]
  },
  {
   "cell_type": "code",
   "execution_count": null,
   "metadata": {},
   "outputs": [],
   "source": [
    "laser_psd_nrem_peak_lfp = kd.get_ss_psd(a9['laser1-f-s'].sel(datetime=laser_peak), h9['laser1'], ['NREM'])\n",
    "laser_psd_nrem_stim_lfp = kd.get_ss_psd(a9['laser1-f-s'].sel(datetime=laser_stim), h9['laser1'], ['NREM'])"
   ]
  },
  {
   "cell_type": "code",
   "execution_count": null,
   "metadata": {},
   "outputs": [],
   "source": [
    "control_psd_lfp = control_psd_nrem_stim_lfp/control_psd_nrem_peak_lfp"
   ]
  },
  {
   "cell_type": "code",
   "execution_count": null,
   "metadata": {},
   "outputs": [],
   "source": [
    "laser_psd_lfp = laser_psd_nrem_stim_lfp/laser_psd_nrem_peak_lfp"
   ]
  },
  {
   "cell_type": "code",
   "execution_count": null,
   "metadata": {
    "tags": []
   },
   "outputs": [],
   "source": [
    "kp.compare_psd(laser_psd_nrem_peak_lfp, control_psd_nrem_peak_lfp, 'NREM', scale='linear')"
   ]
  },
  {
   "cell_type": "code",
   "execution_count": null,
   "metadata": {
    "tags": []
   },
   "outputs": [],
   "source": [
    "f = kp.compare_psd(laser_psd_nrem_stim_lfp.sel(channel=15), control_psd_nrem_stim_lfp.sel(channel=15), 'NREM', scale='linear')\n",
    "f.set(xlim=(0,20), ylabel='NREM Power Spectral Density')"
   ]
  },
  {
   "cell_type": "code",
   "execution_count": null,
   "metadata": {
    "tags": []
   },
   "outputs": [],
   "source": [
    "f = kp.compare_psd(laser_psd_lfp, control_psd_lfp, 'NREM', keys=['Laser', 'Control'], scale='linear')\n",
    "f.set(ylim=(0,1.25), xlim=(0.75,30))"
   ]
  },
  {
   "cell_type": "code",
   "execution_count": null,
   "metadata": {},
   "outputs": [],
   "source": [
    "bp = kd.get_bp_set2(a9['control1-e-s'], bp_def, pandas=True).reset_index()"
   ]
  }
 ],
 "metadata": {
  "interpreter": {
   "hash": "8b4e5f83c5c43fbba261d328a2df1f0567bfa5b389d8ccfa34ce3cfd2f216fff"
  },
  "kernelspec": {
   "display_name": "Python 3.9.7 ('ecephys_t2')",
   "language": "python",
   "name": "python3"
  },
  "language_info": {
   "codemirror_mode": {
    "name": "ipython",
    "version": 3
   },
   "file_extension": ".py",
   "mimetype": "text/x-python",
   "name": "python",
   "nbconvert_exporter": "python",
   "pygments_lexer": "ipython3",
   "version": "3.9.7"
  }
 },
 "nbformat": 4,
 "nbformat_minor": 4
}
