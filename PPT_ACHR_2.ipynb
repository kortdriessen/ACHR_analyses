{
 "cells": [
  {
   "cell_type": "markdown",
   "id": "0c8da74a",
   "metadata": {},
   "source": [
    "# ACHR_2"
   ]
  },
  {
   "cell_type": "code",
   "execution_count": 1,
   "id": "eecf1bff",
   "metadata": {
    "execution": {
     "iopub.execute_input": "2021-10-17T01:39:35.987671Z",
     "iopub.status.busy": "2021-10-17T01:39:35.987671Z",
     "iopub.status.idle": "2021-10-17T01:39:38.208901Z",
     "shell.execute_reply": "2021-10-17T01:39:38.207898Z",
     "shell.execute_reply.started": "2021-10-17T01:39:35.987671Z"
    },
    "tags": []
   },
   "outputs": [],
   "source": [
    "%matplotlib widget\n",
    "%reload_ext autoreload\n",
    "%autoreload 2\n",
    "\n",
    "import numpy as np\n",
    "import scipy\n",
    "import pandas as pd\n",
    "import tdt\n",
    "from pathlib import Path\n",
    "import matplotlib.pyplot as plt\n",
    "import seaborn as sns\n",
    "import xarray as xr\n",
    "import yaml\n",
    "import re\n",
    "\n",
    "import hypnogram as hp\n",
    "from ecephys.utils import replace_outliers\n",
    "import ecephys.plot as eplt\n",
    "import ecephys.signal.timefrequency as tfr\n",
    "import ecephys.signal.kd_utils as kd\n",
    "import ecephys.signal.kd_plotting as kp\n",
    "import ecephys.signal.kd_pax as kpx\n",
    "import tdt_xarray as tx\n",
    "\n",
    "bands_def = dict(delta=(1.5, 4.0), theta=(4.0, 8), sigma=(11,16), beta = (13, 20), low_gamma = (40, 55), high_gamma = (65, 80))\n",
    "\n",
    "kd_ref = {}\n",
    "kd_ref['echans'] = [1,2,3]\n",
    "kd_ref['fchans']=[1,2,3,4,5,6,7,8,9,10,11,12,13,14,15,16]\n",
    "kd_ref['analysis_root'] = Path('/Volumes/opto_loc/Data/ACHR_PROJECT_MATERIALS/ACHR_2/ACHR_2-analysis-data')\n",
    "kd_ref['tank_root'] = Path('/Volumes/opto_loc/Data/ACHR_2_TANK')"
   ]
  },
  {
   "cell_type": "markdown",
   "id": "fce00879",
   "metadata": {
    "tags": []
   },
   "source": [
    "# Test-a1"
   ]
  },
  {
   "cell_type": "code",
   "execution_count": 2,
   "id": "1dec46f7",
   "metadata": {
    "execution": {
     "iopub.execute_input": "2021-10-17T01:39:39.623976Z",
     "iopub.status.busy": "2021-10-17T01:39:39.623976Z",
     "iopub.status.idle": "2021-10-17T01:39:39.741066Z",
     "shell.execute_reply": "2021-10-17T01:39:39.740064Z",
     "shell.execute_reply.started": "2021-10-17T01:39:39.623976Z"
    },
    "tags": []
   },
   "outputs": [],
   "source": [
    "a1p = '/Volumes/opto_loc/Data/ACHR_2_TANK/ACHR_2-test-a1'\n",
    "a2p = '/Volumes/opto_loc/Data/ACHR_2_TANK/ACHR_2-test-a2'\n",
    "a3p = '/Volumes/opto_loc/Data/ACHR_2_TANK/ACHR_2-test-a3'\n",
    "a4p = '/Volumes/opto_loc/Data/ACHR_2_TANK/ACHR_2-test-a4'\n",
    "a5p = '/Volumes/opto_loc/Data/ACHR_2_TANK/ACHR_2-test-a5'"
   ]
  },
  {
   "cell_type": "code",
   "execution_count": 23,
   "metadata": {},
   "outputs": [],
   "source": [
    "tt = {}"
   ]
  },
  {
   "cell_type": "code",
   "execution_count": 26,
   "metadata": {},
   "outputs": [
    {
     "name": "stdout",
     "output_type": "stream",
     "text": [
      "read from t=0s to t=52197.43s\n",
      "Using 1017.2526 Hz as SEV sampling rate for EEGr\n",
      "Remember to save all data in xset-style dictionary, and to add experiment name key (key = \"name\") before using save_xset\n",
      "read from t=0s to t=52197.43s\n",
      "Using 1017.2526 Hz as SEV sampling rate for EEG_\n",
      "Remember to save all data in xset-style dictionary, and to add experiment name key (key = \"name\") before using save_xset\n",
      "read from t=0s to t=52197.43s\n",
      "Using 1017.2526 Hz as SEV sampling rate for LFP_\n",
      "Remember to save all data in xset-style dictionary, and to add experiment name key (key = \"name\") before using save_xset\n",
      "read from t=0s to t=21661.76s\n",
      "Using 1017.2526 Hz as SEV sampling rate for EEGr\n",
      "Remember to save all data in xset-style dictionary, and to add experiment name key (key = \"name\") before using save_xset\n",
      "read from t=0s to t=21661.76s\n",
      "Using 1017.2526 Hz as SEV sampling rate for EEG_\n",
      "Remember to save all data in xset-style dictionary, and to add experiment name key (key = \"name\") before using save_xset\n",
      "read from t=0s to t=21661.76s\n",
      "Using 1017.2526 Hz as SEV sampling rate for LFP_\n",
      "Remember to save all data in xset-style dictionary, and to add experiment name key (key = \"name\") before using save_xset\n",
      "read from t=0s to t=12944.59s\n",
      "Using 1017.2526 Hz as SEV sampling rate for EEGr\n",
      "Remember to save all data in xset-style dictionary, and to add experiment name key (key = \"name\") before using save_xset\n",
      "read from t=0s to t=12944.59s\n",
      "Using 1017.2526 Hz as SEV sampling rate for EEG_\n",
      "Remember to save all data in xset-style dictionary, and to add experiment name key (key = \"name\") before using save_xset\n",
      "read from t=0s to t=12944.59s\n",
      "Using 1017.2526 Hz as SEV sampling rate for LFP_\n",
      "Remember to save all data in xset-style dictionary, and to add experiment name key (key = \"name\") before using save_xset\n",
      "read from t=0s to t=8305.34s\n",
      "Using 1017.2526 Hz as SEV sampling rate for EEGr\n",
      "Remember to save all data in xset-style dictionary, and to add experiment name key (key = \"name\") before using save_xset\n",
      "read from t=0s to t=8305.34s\n",
      "Using 1017.2526 Hz as SEV sampling rate for EEG_\n",
      "Remember to save all data in xset-style dictionary, and to add experiment name key (key = \"name\") before using save_xset\n",
      "read from t=0s to t=8305.34s\n",
      "Using 1017.2526 Hz as SEV sampling rate for LFP_\n",
      "Remember to save all data in xset-style dictionary, and to add experiment name key (key = \"name\") before using save_xset\n"
     ]
    }
   ],
   "source": [
    "tt['a1_er'], tt['a1_erspg'] = kd.get_data_spg(a1p, store='EEGr', t1=0, t2=0, channel=kd_ref['echans'])\n",
    "tt['a1_e'], tt['a1_espg'] = kd.get_data_spg(a1p, store='EEG_', t1=0, t2=0, channel=kd_ref['echans'])\n",
    "tt['a1_f'], tt['a1_fspg'] = kd.get_data_spg(a1p, store='LFP_', t1=0, t2=0, channel=kd_ref['fchans'])\n",
    "\n",
    "tt['a2_er'], tt['a2_erspg'] = kd.get_data_spg(a2p, store='EEGr', t1=0, t2=0, channel=kd_ref['echans'])\n",
    "tt['a2_e'], tt['a2_espg'] = kd.get_data_spg(a2p, store='EEG_', t1=0, t2=0, channel=kd_ref['echans'])\n",
    "tt['a2_f'], tt['a2_fspg'] = kd.get_data_spg(a2p, store='LFP_', t1=0, t2=0, channel=kd_ref['fchans'])\n",
    "\n",
    "tt['a3_er'], tt['a3_erspg'] = kd.get_data_spg(a3p, store='EEGr', t1=0, t2=0, channel=kd_ref['echans'])\n",
    "tt['a3_e'], tt['a3_espg'] = kd.get_data_spg(a3p, store='EEG_', t1=0, t2=0, channel=kd_ref['echans'])\n",
    "tt['a3_f'], tt['a3_fspg'] = kd.get_data_spg(a3p, store='LFP_', t1=0, t2=0, channel=kd_ref['fchans'])\n",
    "\n",
    "tt['a4_er'], tt['a4_erspg'] = kd.get_data_spg(a4p, store='EEGr', t1=0, t2=0, channel=kd_ref['echans'])\n",
    "tt['a4_e'], tt['a4_espg'] = kd.get_data_spg(a4p, store='EEG_', t1=0, t2=0, channel=kd_ref['echans'])\n",
    "tt['a4_f'], tt['a4_fspg'] = kd.get_data_spg(a4p, store='LFP_', t1=0, t2=0, channel=kd_ref['fchans'])"
   ]
  },
  {
   "cell_type": "code",
   "execution_count": 82,
   "metadata": {},
   "outputs": [],
   "source": [
    "keys = ['a1-Filtered-EEG', 'a3-Filtered-EEG']\n",
    "test = 'Recording-Config'\n",
    "def comp_psd(spg1, spg2, median=True, keys=keys, test=test):\n",
    "    psd1 = spg1.median(dim='time')\n",
    "    psd2 = spg2.median(dim='time')\n",
    "    if median is not True: \n",
    "        psd1 = spg1.mean(dim='time')\n",
    "        psd2 = spg2.mean(dim='time')\n",
    "    psd_df = pd.concat([psd1.to_dataframe('power'), psd2.to_dataframe('power')], keys=keys).rename_axis(index={None: test})\n",
    "    ax = sns.relplot(data=psd_df, x='frequency', y='power', hue='Recording-Config', col='channel', kind='line')\n",
    "    x = ax.axes\n",
    "    x[0,0].set_ylim(0, 250)\n",
    "    x[0,0].set_xlim(0, 120)\n",
    "    return ax"
   ]
  },
  {
   "cell_type": "code",
   "execution_count": null,
   "id": "78921cc2",
   "metadata": {},
   "outputs": [],
   "source": [
    "\n",
    "def comp_psd_lfp(spg1, spg2, median=True, keys=keys, test=test, chans=chans):\n",
    "    psd1 = spg1.sel(channel=chans).median(dim='time')\n",
    "    psd2 = spg2.sel(channel=chans).median(dim='time')\n",
    "    if median is not True: \n",
    "        psd1 = spg1.sel(channel=chans).mean(dim='time')\n",
    "        psd2 = spg2.sel(channel=chans).mean(dim='time')\n",
    "    psd_df = pd.concat([psd1.to_dataframe('power'), psd2.to_dataframe('power')], keys=keys).rename_axis(index={None: test})\n",
    "    ax = sns.relplot(data=psd_df, x='frequency', y='power', hue='Recording-Config', col='channel', kind='line')\n",
    "    return ax"
   ]
  },
  {
   "cell_type": "code",
   "execution_count": null,
   "id": "846ffb0e",
   "metadata": {},
   "outputs": [],
   "source": [
    "\n",
    "fkeys = ['a2-Filtered-LFP', 'a3-Filtered-LFP']\n",
    "test = 'Recording-Config'\n",
    "chans = [3,7,11,15]\n",
    "plt.close('all')\n",
    "ax = comp_psd_lfp(tt['a2_fspg'], tt['a3_fspg'], keys=fkeys)\n",
    "\n",
    "x = ax.axes\n",
    "#x[0,0].set_ylim(0, 250)\n",
    "x[0,0].set_xlim(0, 70)"
   ]
  },
  {
   "cell_type": "code",
   "execution_count": 30,
   "metadata": {},
   "outputs": [],
   "source": [
    "plt.close('all')\n",
    "band='delta'\n",
    "chans = [3,8,15]\n",
    "for chan in chans:\n",
    "    b, s = kp.plot_spectrogram_with_bandpower(tt['a1_espg'], bands_def, band, hyp=None, channel=chan, start_time=0, end_time=spg.time.max(), title=band.capitalize()+\" Power, LFP/EEG-\"+str(chan)+\", EXPERIMENT\")\n",
    "    #b.set_ylim(0, 300000)"
   ]
  },
  {
   "cell_type": "markdown",
   "metadata": {},
   "source": [
    "# Exp-1"
   ]
  },
  {
   "cell_type": "code",
   "execution_count": 39,
   "id": "6c8813c7",
   "metadata": {},
   "outputs": [],
   "source": [
    "def stim_durations(onsets, offsets, num):\n",
    "    durations = list()\n",
    "    num=num+1\n",
    "    stims = np.arange(1,num,1)\n",
    "    for on, off in zip(onsets, offsets):\n",
    "        dur = off-on\n",
    "        durations.append(dur)\n",
    "    return durations\n",
    "def stim_values(onsets, offsets, num):\n",
    "    for pulse in zip(onsets, offsets):\n",
    "        print(pulse)"
   ]
  },
  {
   "cell_type": "code",
   "execution_count": 62,
   "id": "c79c6b5c",
   "metadata": {},
   "outputs": [
    {
     "data": {
      "text/plain": [
       "[7.349411840000002,\n",
       " 21.18291456,\n",
       " 29.18399999999997,\n",
       " 19.456204799999966,\n",
       " 28.540641280000045,\n",
       " 56.31496191999997,\n",
       " 27.641896960000054,\n",
       " 21.77564671999994,\n",
       " 22.02136575999998,\n",
       " 17.584046080000007,\n",
       " 3706.6069196800004]"
      ]
     },
     "execution_count": 62,
     "metadata": {},
     "output_type": "execute_result"
    }
   ],
   "source": [
    "d = stim_durations(a2x1['stim_on'], a2x1['stim_off'], 11)\n",
    "d"
   ]
  },
  {
   "cell_type": "code",
   "execution_count": 46,
   "id": "c79c6b5c",
   "metadata": {},
   "outputs": [
    {
     "name": "stdout",
     "output_type": "stream",
     "text": [
      "(117.543936, 124.89334784)\n",
      "(231.6222464, 252.80516096)\n",
      "(403.63577344000004, 432.81977344)\n",
      "(492.07574528000004, 511.53195008)\n",
      "(578.16850432, 606.7091456)\n",
      "(733.3888000000001, 789.70376192)\n",
      "(890.42927616, 918.07117312)\n",
      "(1051.33924352, 1073.11489024)\n",
      "(1190.7805184000001, 1212.80188416)\n",
      "(1248.8187904000001, 1266.4028364800001)\n",
      "(1328.69398528, 5035.3009049600005)\n"
     ]
    }
   ],
   "source": [
    "stim_values(a2x1['stim_on'], a2x1['stim_off'], 11)"
   ]
  },
  {
   "cell_type": "code",
   "execution_count": 220,
   "metadata": {},
   "outputs": [],
   "source": [
    "x1p = '/Volumes/opto_loc/Data/ACHR_2/ACHR_2_TANK/ACHR_2-exp1'\n",
    "#comment"
   ]
  },
  {
   "cell_type": "code",
   "execution_count": 221,
   "metadata": {},
   "outputs": [
    {
     "name": "stdout",
     "output_type": "stream",
     "text": [
      "read from t=0s to t=26071.67s\n",
      "Using 1017.2526 Hz as SEV sampling rate for EEG_\n",
      "Remember to save all data in xset-style dictionary, and to add experiment name key (key = \"name\") before using save_xset\n",
      "read from t=0s to t=26071.67s\n",
      "Using 1017.2526 Hz as SEV sampling rate for LFP_\n",
      "Remember to save all data in xset-style dictionary, and to add experiment name key (key = \"name\") before using save_xset\n"
     ]
    }
   ],
   "source": [
    "a2x1 = {}\n",
    "a2x1['e'], a2x1['espg'] = kd.get_data_spg(x1p, store='EEG_', t1=0, t2=0, channel=kd_ref['echans'])\n",
    "a2x1['f'], a2x1['fspg'] = kd.get_data_spg(x1p, store='LFP_', t1=0, t2=0, channel=kd_ref['fchans'])"
   ]
  },
  {
   "cell_type": "code",
   "execution_count": 222,
   "metadata": {},
   "outputs": [
    {
     "name": "stdout",
     "output_type": "stream",
     "text": [
      "read from t=0s to t=26071.67s\n",
      "read from t=0s to t=26071.67s\n"
     ]
    }
   ],
   "source": [
    "a2x1['stim_on'] = tdt.read_block(x1p, evtype=['epocs']).epocs.Bn1_.onset \n",
    "a2x1['stim_off'] = tdt.read_block(x1p, evtype=['epocs']).epocs.Bn1_.offset "
   ]
  },
  {
   "cell_type": "code",
   "execution_count": 234,
   "id": "975f7250",
   "metadata": {},
   "outputs": [
    {
     "name": "stdout",
     "output_type": "stream",
     "text": [
      "read from t=0s to t=26071.67s\n"
     ]
    }
   ],
   "source": [
    "a2x1['spikes'] = tdt.read_block(x1p, evtype=['snips']).snips.eSpk"
   ]
  },
  {
   "cell_type": "code",
   "execution_count": 233,
   "id": "f5a7b0e7",
   "metadata": {},
   "outputs": [
    {
     "data": {
      "text/plain": [
       "(4268197, 50)"
      ]
     },
     "execution_count": 233,
     "metadata": {},
     "output_type": "execute_result"
    }
   ],
   "source": [
    "a2x1['spikes']"
   ]
  },
  {
   "cell_type": "markdown",
   "id": "56b63f14",
   "metadata": {},
   "source": [
    "## Plots"
   ]
  },
  {
   "cell_type": "code",
   "execution_count": 20,
   "id": "5b7cbcd0",
   "metadata": {},
   "outputs": [
    {
     "data": {
      "text/html": [
       "<div><svg style=\"position: absolute; width: 0; height: 0; overflow: hidden\">\n",
       "<defs>\n",
       "<symbol id=\"icon-database\" viewBox=\"0 0 32 32\">\n",
       "<path d=\"M16 0c-8.837 0-16 2.239-16 5v4c0 2.761 7.163 5 16 5s16-2.239 16-5v-4c0-2.761-7.163-5-16-5z\"></path>\n",
       "<path d=\"M16 17c-8.837 0-16-2.239-16-5v6c0 2.761 7.163 5 16 5s16-2.239 16-5v-6c0 2.761-7.163 5-16 5z\"></path>\n",
       "<path d=\"M16 26c-8.837 0-16-2.239-16-5v6c0 2.761 7.163 5 16 5s16-2.239 16-5v-6c0 2.761-7.163 5-16 5z\"></path>\n",
       "</symbol>\n",
       "<symbol id=\"icon-file-text2\" viewBox=\"0 0 32 32\">\n",
       "<path d=\"M28.681 7.159c-0.694-0.947-1.662-2.053-2.724-3.116s-2.169-2.030-3.116-2.724c-1.612-1.182-2.393-1.319-2.841-1.319h-15.5c-1.378 0-2.5 1.121-2.5 2.5v27c0 1.378 1.122 2.5 2.5 2.5h23c1.378 0 2.5-1.122 2.5-2.5v-19.5c0-0.448-0.137-1.23-1.319-2.841zM24.543 5.457c0.959 0.959 1.712 1.825 2.268 2.543h-4.811v-4.811c0.718 0.556 1.584 1.309 2.543 2.268zM28 29.5c0 0.271-0.229 0.5-0.5 0.5h-23c-0.271 0-0.5-0.229-0.5-0.5v-27c0-0.271 0.229-0.5 0.5-0.5 0 0 15.499-0 15.5 0v7c0 0.552 0.448 1 1 1h7v19.5z\"></path>\n",
       "<path d=\"M23 26h-14c-0.552 0-1-0.448-1-1s0.448-1 1-1h14c0.552 0 1 0.448 1 1s-0.448 1-1 1z\"></path>\n",
       "<path d=\"M23 22h-14c-0.552 0-1-0.448-1-1s0.448-1 1-1h14c0.552 0 1 0.448 1 1s-0.448 1-1 1z\"></path>\n",
       "<path d=\"M23 18h-14c-0.552 0-1-0.448-1-1s0.448-1 1-1h14c0.552 0 1 0.448 1 1s-0.448 1-1 1z\"></path>\n",
       "</symbol>\n",
       "</defs>\n",
       "</svg>\n",
       "<style>/* CSS stylesheet for displaying xarray objects in jupyterlab.\n",
       " *\n",
       " */\n",
       "\n",
       ":root {\n",
       "  --xr-font-color0: var(--jp-content-font-color0, rgba(0, 0, 0, 1));\n",
       "  --xr-font-color2: var(--jp-content-font-color2, rgba(0, 0, 0, 0.54));\n",
       "  --xr-font-color3: var(--jp-content-font-color3, rgba(0, 0, 0, 0.38));\n",
       "  --xr-border-color: var(--jp-border-color2, #e0e0e0);\n",
       "  --xr-disabled-color: var(--jp-layout-color3, #bdbdbd);\n",
       "  --xr-background-color: var(--jp-layout-color0, white);\n",
       "  --xr-background-color-row-even: var(--jp-layout-color1, white);\n",
       "  --xr-background-color-row-odd: var(--jp-layout-color2, #eeeeee);\n",
       "}\n",
       "\n",
       "html[theme=dark],\n",
       "body.vscode-dark {\n",
       "  --xr-font-color0: rgba(255, 255, 255, 1);\n",
       "  --xr-font-color2: rgba(255, 255, 255, 0.54);\n",
       "  --xr-font-color3: rgba(255, 255, 255, 0.38);\n",
       "  --xr-border-color: #1F1F1F;\n",
       "  --xr-disabled-color: #515151;\n",
       "  --xr-background-color: #111111;\n",
       "  --xr-background-color-row-even: #111111;\n",
       "  --xr-background-color-row-odd: #313131;\n",
       "}\n",
       "\n",
       ".xr-wrap {\n",
       "  display: block;\n",
       "  min-width: 300px;\n",
       "  max-width: 700px;\n",
       "}\n",
       "\n",
       ".xr-text-repr-fallback {\n",
       "  /* fallback to plain text repr when CSS is not injected (untrusted notebook) */\n",
       "  display: none;\n",
       "}\n",
       "\n",
       ".xr-header {\n",
       "  padding-top: 6px;\n",
       "  padding-bottom: 6px;\n",
       "  margin-bottom: 4px;\n",
       "  border-bottom: solid 1px var(--xr-border-color);\n",
       "}\n",
       "\n",
       ".xr-header > div,\n",
       ".xr-header > ul {\n",
       "  display: inline;\n",
       "  margin-top: 0;\n",
       "  margin-bottom: 0;\n",
       "}\n",
       "\n",
       ".xr-obj-type,\n",
       ".xr-array-name {\n",
       "  margin-left: 2px;\n",
       "  margin-right: 10px;\n",
       "}\n",
       "\n",
       ".xr-obj-type {\n",
       "  color: var(--xr-font-color2);\n",
       "}\n",
       "\n",
       ".xr-sections {\n",
       "  padding-left: 0 !important;\n",
       "  display: grid;\n",
       "  grid-template-columns: 150px auto auto 1fr 20px 20px;\n",
       "}\n",
       "\n",
       ".xr-section-item {\n",
       "  display: contents;\n",
       "}\n",
       "\n",
       ".xr-section-item input {\n",
       "  display: none;\n",
       "}\n",
       "\n",
       ".xr-section-item input + label {\n",
       "  color: var(--xr-disabled-color);\n",
       "}\n",
       "\n",
       ".xr-section-item input:enabled + label {\n",
       "  cursor: pointer;\n",
       "  color: var(--xr-font-color2);\n",
       "}\n",
       "\n",
       ".xr-section-item input:enabled + label:hover {\n",
       "  color: var(--xr-font-color0);\n",
       "}\n",
       "\n",
       ".xr-section-summary {\n",
       "  grid-column: 1;\n",
       "  color: var(--xr-font-color2);\n",
       "  font-weight: 500;\n",
       "}\n",
       "\n",
       ".xr-section-summary > span {\n",
       "  display: inline-block;\n",
       "  padding-left: 0.5em;\n",
       "}\n",
       "\n",
       ".xr-section-summary-in:disabled + label {\n",
       "  color: var(--xr-font-color2);\n",
       "}\n",
       "\n",
       ".xr-section-summary-in + label:before {\n",
       "  display: inline-block;\n",
       "  content: '►';\n",
       "  font-size: 11px;\n",
       "  width: 15px;\n",
       "  text-align: center;\n",
       "}\n",
       "\n",
       ".xr-section-summary-in:disabled + label:before {\n",
       "  color: var(--xr-disabled-color);\n",
       "}\n",
       "\n",
       ".xr-section-summary-in:checked + label:before {\n",
       "  content: '▼';\n",
       "}\n",
       "\n",
       ".xr-section-summary-in:checked + label > span {\n",
       "  display: none;\n",
       "}\n",
       "\n",
       ".xr-section-summary,\n",
       ".xr-section-inline-details {\n",
       "  padding-top: 4px;\n",
       "  padding-bottom: 4px;\n",
       "}\n",
       "\n",
       ".xr-section-inline-details {\n",
       "  grid-column: 2 / -1;\n",
       "}\n",
       "\n",
       ".xr-section-details {\n",
       "  display: none;\n",
       "  grid-column: 1 / -1;\n",
       "  margin-bottom: 5px;\n",
       "}\n",
       "\n",
       ".xr-section-summary-in:checked ~ .xr-section-details {\n",
       "  display: contents;\n",
       "}\n",
       "\n",
       ".xr-array-wrap {\n",
       "  grid-column: 1 / -1;\n",
       "  display: grid;\n",
       "  grid-template-columns: 20px auto;\n",
       "}\n",
       "\n",
       ".xr-array-wrap > label {\n",
       "  grid-column: 1;\n",
       "  vertical-align: top;\n",
       "}\n",
       "\n",
       ".xr-preview {\n",
       "  color: var(--xr-font-color3);\n",
       "}\n",
       "\n",
       ".xr-array-preview,\n",
       ".xr-array-data {\n",
       "  padding: 0 5px !important;\n",
       "  grid-column: 2;\n",
       "}\n",
       "\n",
       ".xr-array-data,\n",
       ".xr-array-in:checked ~ .xr-array-preview {\n",
       "  display: none;\n",
       "}\n",
       "\n",
       ".xr-array-in:checked ~ .xr-array-data,\n",
       ".xr-array-preview {\n",
       "  display: inline-block;\n",
       "}\n",
       "\n",
       ".xr-dim-list {\n",
       "  display: inline-block !important;\n",
       "  list-style: none;\n",
       "  padding: 0 !important;\n",
       "  margin: 0;\n",
       "}\n",
       "\n",
       ".xr-dim-list li {\n",
       "  display: inline-block;\n",
       "  padding: 0;\n",
       "  margin: 0;\n",
       "}\n",
       "\n",
       ".xr-dim-list:before {\n",
       "  content: '(';\n",
       "}\n",
       "\n",
       ".xr-dim-list:after {\n",
       "  content: ')';\n",
       "}\n",
       "\n",
       ".xr-dim-list li:not(:last-child):after {\n",
       "  content: ',';\n",
       "  padding-right: 5px;\n",
       "}\n",
       "\n",
       ".xr-has-index {\n",
       "  font-weight: bold;\n",
       "}\n",
       "\n",
       ".xr-var-list,\n",
       ".xr-var-item {\n",
       "  display: contents;\n",
       "}\n",
       "\n",
       ".xr-var-item > div,\n",
       ".xr-var-item label,\n",
       ".xr-var-item > .xr-var-name span {\n",
       "  background-color: var(--xr-background-color-row-even);\n",
       "  margin-bottom: 0;\n",
       "}\n",
       "\n",
       ".xr-var-item > .xr-var-name:hover span {\n",
       "  padding-right: 5px;\n",
       "}\n",
       "\n",
       ".xr-var-list > li:nth-child(odd) > div,\n",
       ".xr-var-list > li:nth-child(odd) > label,\n",
       ".xr-var-list > li:nth-child(odd) > .xr-var-name span {\n",
       "  background-color: var(--xr-background-color-row-odd);\n",
       "}\n",
       "\n",
       ".xr-var-name {\n",
       "  grid-column: 1;\n",
       "}\n",
       "\n",
       ".xr-var-dims {\n",
       "  grid-column: 2;\n",
       "}\n",
       "\n",
       ".xr-var-dtype {\n",
       "  grid-column: 3;\n",
       "  text-align: right;\n",
       "  color: var(--xr-font-color2);\n",
       "}\n",
       "\n",
       ".xr-var-preview {\n",
       "  grid-column: 4;\n",
       "}\n",
       "\n",
       ".xr-var-name,\n",
       ".xr-var-dims,\n",
       ".xr-var-dtype,\n",
       ".xr-preview,\n",
       ".xr-attrs dt {\n",
       "  white-space: nowrap;\n",
       "  overflow: hidden;\n",
       "  text-overflow: ellipsis;\n",
       "  padding-right: 10px;\n",
       "}\n",
       "\n",
       ".xr-var-name:hover,\n",
       ".xr-var-dims:hover,\n",
       ".xr-var-dtype:hover,\n",
       ".xr-attrs dt:hover {\n",
       "  overflow: visible;\n",
       "  width: auto;\n",
       "  z-index: 1;\n",
       "}\n",
       "\n",
       ".xr-var-attrs,\n",
       ".xr-var-data {\n",
       "  display: none;\n",
       "  background-color: var(--xr-background-color) !important;\n",
       "  padding-bottom: 5px !important;\n",
       "}\n",
       "\n",
       ".xr-var-attrs-in:checked ~ .xr-var-attrs,\n",
       ".xr-var-data-in:checked ~ .xr-var-data {\n",
       "  display: block;\n",
       "}\n",
       "\n",
       ".xr-var-data > table {\n",
       "  float: right;\n",
       "}\n",
       "\n",
       ".xr-var-name span,\n",
       ".xr-var-data,\n",
       ".xr-attrs {\n",
       "  padding-left: 25px !important;\n",
       "}\n",
       "\n",
       ".xr-attrs,\n",
       ".xr-var-attrs,\n",
       ".xr-var-data {\n",
       "  grid-column: 1 / -1;\n",
       "}\n",
       "\n",
       "dl.xr-attrs {\n",
       "  padding: 0;\n",
       "  margin: 0;\n",
       "  display: grid;\n",
       "  grid-template-columns: 125px auto;\n",
       "}\n",
       "\n",
       ".xr-attrs dt,\n",
       ".xr-attrs dd {\n",
       "  padding: 0;\n",
       "  margin: 0;\n",
       "  float: left;\n",
       "  padding-right: 10px;\n",
       "  width: auto;\n",
       "}\n",
       "\n",
       ".xr-attrs dt {\n",
       "  font-weight: normal;\n",
       "  grid-column: 1;\n",
       "}\n",
       "\n",
       ".xr-attrs dt:hover span {\n",
       "  display: inline-block;\n",
       "  background: var(--xr-background-color);\n",
       "  padding-right: 10px;\n",
       "}\n",
       "\n",
       ".xr-attrs dd {\n",
       "  grid-column: 2;\n",
       "  white-space: pre-wrap;\n",
       "  word-break: break-all;\n",
       "}\n",
       "\n",
       ".xr-icon-database,\n",
       ".xr-icon-file-text2 {\n",
       "  display: inline-block;\n",
       "  vertical-align: middle;\n",
       "  width: 1em;\n",
       "  height: 1.5em !important;\n",
       "  stroke-width: 0;\n",
       "  stroke: currentColor;\n",
       "  fill: currentColor;\n",
       "}\n",
       "</style><pre class='xr-text-repr-fallback'>&lt;xarray.DataArray &#x27;LFP_&#x27; (time: 26521344)&gt;\n",
       "array([-91.65432  , -52.163403 ,  13.439454 , ...,  34.76087  ,\n",
       "        -7.074648 ,   0.2540025], dtype=float32)\n",
       "Coordinates:\n",
       "  * time       (time) float64 0.0 0.000983 0.001966 ... 2.607e+04 2.607e+04\n",
       "    channel    int64 2\n",
       "    timedelta  (time) timedelta64[ns] 00:00:00 ... 07:14:31.540488775\n",
       "    datetime   (time) datetime64[ns] 2021-10-18T10:46:59.999999 ... 2021-10-1...\n",
       "Attributes:\n",
       "    units:    uV\n",
       "    fs:       1017.252625</pre><div class='xr-wrap' hidden><div class='xr-header'><div class='xr-obj-type'>xarray.DataArray</div><div class='xr-array-name'>'LFP_'</div><ul class='xr-dim-list'><li><span class='xr-has-index'>time</span>: 26521344</li></ul></div><ul class='xr-sections'><li class='xr-section-item'><div class='xr-array-wrap'><input id='section-81cab1c8-09fe-40cf-b5cf-53a1648db1b1' class='xr-array-in' type='checkbox' checked><label for='section-81cab1c8-09fe-40cf-b5cf-53a1648db1b1' title='Show/hide data repr'><svg class='icon xr-icon-database'><use xlink:href='#icon-database'></use></svg></label><div class='xr-array-preview xr-preview'><span>-91.65 -52.16 13.44 -27.59 -86.4 ... 67.34 17.32 34.76 -7.075 0.254</span></div><div class='xr-array-data'><pre>array([-91.65432  , -52.163403 ,  13.439454 , ...,  34.76087  ,\n",
       "        -7.074648 ,   0.2540025], dtype=float32)</pre></div></div></li><li class='xr-section-item'><input id='section-ad54e1fa-6f17-4c51-8c6d-de927d3757a6' class='xr-section-summary-in' type='checkbox'  checked><label for='section-ad54e1fa-6f17-4c51-8c6d-de927d3757a6' class='xr-section-summary' >Coordinates: <span>(4)</span></label><div class='xr-section-inline-details'></div><div class='xr-section-details'><ul class='xr-var-list'><li class='xr-var-item'><div class='xr-var-name'><span class='xr-has-index'>time</span></div><div class='xr-var-dims'>(time)</div><div class='xr-var-dtype'>float64</div><div class='xr-var-preview xr-preview'>0.0 0.000983 ... 2.607e+04</div><input id='attrs-79df087e-3bea-4634-89b3-a98a143c153e' class='xr-var-attrs-in' type='checkbox' disabled><label for='attrs-79df087e-3bea-4634-89b3-a98a143c153e' title='Show/Hide attributes'><svg class='icon xr-icon-file-text2'><use xlink:href='#icon-file-text2'></use></svg></label><input id='data-d38e7486-d100-4647-8a02-9cecce0c5025' class='xr-var-data-in' type='checkbox'><label for='data-d38e7486-d100-4647-8a02-9cecce0c5025' title='Show/Hide data repr'><svg class='icon xr-icon-database'><use xlink:href='#icon-database'></use></svg></label><div class='xr-var-attrs'><dl class='xr-attrs'></dl></div><div class='xr-var-data'><pre>array([0.000000e+00, 9.830400e-04, 1.966080e-03, ..., 2.607154e+04,\n",
       "       2.607154e+04, 2.607154e+04])</pre></div></li><li class='xr-var-item'><div class='xr-var-name'><span>channel</span></div><div class='xr-var-dims'>()</div><div class='xr-var-dtype'>int64</div><div class='xr-var-preview xr-preview'>2</div><input id='attrs-be7a15ee-3c99-4d15-aa5e-bc76ec06f460' class='xr-var-attrs-in' type='checkbox' disabled><label for='attrs-be7a15ee-3c99-4d15-aa5e-bc76ec06f460' title='Show/Hide attributes'><svg class='icon xr-icon-file-text2'><use xlink:href='#icon-file-text2'></use></svg></label><input id='data-513159ef-a1e4-4b0c-a336-3da21f7393ef' class='xr-var-data-in' type='checkbox'><label for='data-513159ef-a1e4-4b0c-a336-3da21f7393ef' title='Show/Hide data repr'><svg class='icon xr-icon-database'><use xlink:href='#icon-database'></use></svg></label><div class='xr-var-attrs'><dl class='xr-attrs'></dl></div><div class='xr-var-data'><pre>array(2)</pre></div></li><li class='xr-var-item'><div class='xr-var-name'><span>timedelta</span></div><div class='xr-var-dims'>(time)</div><div class='xr-var-dtype'>timedelta64[ns]</div><div class='xr-var-preview xr-preview'>00:00:00 ... 07:14:31.540488775</div><input id='attrs-58844622-edc4-4884-9ff8-9ef7b8875f6f' class='xr-var-attrs-in' type='checkbox' disabled><label for='attrs-58844622-edc4-4884-9ff8-9ef7b8875f6f' title='Show/Hide attributes'><svg class='icon xr-icon-file-text2'><use xlink:href='#icon-file-text2'></use></svg></label><input id='data-4b0b422e-126f-4be5-bbc6-325c9852bf12' class='xr-var-data-in' type='checkbox'><label for='data-4b0b422e-126f-4be5-bbc6-325c9852bf12' title='Show/Hide data repr'><svg class='icon xr-icon-database'><use xlink:href='#icon-database'></use></svg></label><div class='xr-var-attrs'><dl class='xr-attrs'></dl></div><div class='xr-var-data'><pre>array([             0,         983039,        1966079, ..., 26071538522695,\n",
       "       26071539505735, 26071540488775], dtype=&#x27;timedelta64[ns]&#x27;)</pre></div></li><li class='xr-var-item'><div class='xr-var-name'><span>datetime</span></div><div class='xr-var-dims'>(time)</div><div class='xr-var-dtype'>datetime64[ns]</div><div class='xr-var-preview xr-preview'>2021-10-18T10:46:59.999999 ... 2...</div><input id='attrs-7dac21e5-1737-49e9-bb89-483935c886e9' class='xr-var-attrs-in' type='checkbox' disabled><label for='attrs-7dac21e5-1737-49e9-bb89-483935c886e9' title='Show/Hide attributes'><svg class='icon xr-icon-file-text2'><use xlink:href='#icon-file-text2'></use></svg></label><input id='data-f7c9f471-7799-42a8-9601-80a21feaab95' class='xr-var-data-in' type='checkbox'><label for='data-f7c9f471-7799-42a8-9601-80a21feaab95' title='Show/Hide data repr'><svg class='icon xr-icon-database'><use xlink:href='#icon-database'></use></svg></label><div class='xr-var-attrs'><dl class='xr-attrs'></dl></div><div class='xr-var-data'><pre>array([&#x27;2021-10-18T10:46:59.999999000&#x27;, &#x27;2021-10-18T10:47:00.000982039&#x27;,\n",
       "       &#x27;2021-10-18T10:47:00.001965079&#x27;, ..., &#x27;2021-10-18T18:01:31.538521695&#x27;,\n",
       "       &#x27;2021-10-18T18:01:31.539504735&#x27;, &#x27;2021-10-18T18:01:31.540487775&#x27;],\n",
       "      dtype=&#x27;datetime64[ns]&#x27;)</pre></div></li></ul></div></li><li class='xr-section-item'><input id='section-c3c7b7ae-25d4-4766-b7c3-b768e92fb3f7' class='xr-section-summary-in' type='checkbox'  checked><label for='section-c3c7b7ae-25d4-4766-b7c3-b768e92fb3f7' class='xr-section-summary' >Attributes: <span>(2)</span></label><div class='xr-section-inline-details'></div><div class='xr-section-details'><dl class='xr-attrs'><dt><span>units :</span></dt><dd>uV</dd><dt><span>fs :</span></dt><dd>1017.252625</dd></dl></div></li></ul></div></div>"
      ],
      "text/plain": [
       "<xarray.DataArray 'LFP_' (time: 26521344)>\n",
       "array([-91.65432  , -52.163403 ,  13.439454 , ...,  34.76087  ,\n",
       "        -7.074648 ,   0.2540025], dtype=float32)\n",
       "Coordinates:\n",
       "  * time       (time) float64 0.0 0.000983 0.001966 ... 2.607e+04 2.607e+04\n",
       "    channel    int64 2\n",
       "    timedelta  (time) timedelta64[ns] 00:00:00 ... 07:14:31.540488775\n",
       "    datetime   (time) datetime64[ns] 2021-10-18T10:46:59.999999 ... 2021-10-1...\n",
       "Attributes:\n",
       "    units:    uV\n",
       "    fs:       1017.252625"
      ]
     },
     "execution_count": 20,
     "metadata": {},
     "output_type": "execute_result"
    }
   ],
   "source": [
    "a2x1['f'].sel(channel=2).plot.hist\n"
   ]
  },
  {
   "cell_type": "code",
   "execution_count": 61,
   "id": "73e8f300",
   "metadata": {},
   "outputs": [
    {
     "data": {
      "application/vnd.jupyter.widget-view+json": {
       "model_id": "552e4aabc81347678217e28bccb63474",
       "version_major": 2,
       "version_minor": 0
      },
      "text/plain": [
       "Canvas(toolbar=Toolbar(toolitems=[('Home', 'Reset original view', 'home', 'home'), ('Back', 'Back to previous …"
      ]
     },
     "metadata": {},
     "output_type": "display_data"
    },
    {
     "data": {
      "application/vnd.jupyter.widget-view+json": {
       "model_id": "e75b72923df14d189e00480ce9af2c05",
       "version_major": 2,
       "version_minor": 0
      },
      "text/plain": [
       "Canvas(toolbar=Toolbar(toolitems=[('Home', 'Reset original view', 'home', 'home'), ('Back', 'Back to previous …"
      ]
     },
     "metadata": {},
     "output_type": "display_data"
    },
    {
     "data": {
      "application/vnd.jupyter.widget-view+json": {
       "model_id": "07aa9f9102bc4a82b884cbb1662f21a8",
       "version_major": 2,
       "version_minor": 0
      },
      "text/plain": [
       "Canvas(toolbar=Toolbar(toolitems=[('Home', 'Reset original view', 'home', 'home'), ('Back', 'Back to previous …"
      ]
     },
     "metadata": {},
     "output_type": "display_data"
    }
   ],
   "source": [
    "band='delta'\n",
    "for chan in [1,2,3]:\n",
    "    b, s = kp.plot_spectrogram_with_bandpower(a2x1['espg'], bands_def, band, hyp=None, channel=chan, start_time=0, end_time=26000, title=band.capitalize()+\" Power, EEG-\"+str(chan)+\", ACHR_2 1-hr Pulse\")\n",
    "    b.set_ylim(0, 4500)\n",
    "    b.axvspan(\n",
    "            a2x1[\"stim_on\"][10],\n",
    "            a2x1[\"stim_off\"][10],\n",
    "            alpha=0.3,\n",
    "            color='lightskyblue',\n",
    "            zorder=1000,\n",
    "            ec=\"none\",\n",
    "        )"
   ]
  },
  {
   "cell_type": "code",
   "execution_count": 8,
   "id": "73e8f300",
   "metadata": {},
   "outputs": [
    {
     "data": {
      "application/vnd.jupyter.widget-view+json": {
       "model_id": "d677522275b04c4eb770321942c54b51",
       "version_major": 2,
       "version_minor": 0
      },
      "text/plain": [
       "Canvas(toolbar=Toolbar(toolitems=[('Home', 'Reset original view', 'home', 'home'), ('Back', 'Back to previous …"
      ]
     },
     "metadata": {},
     "output_type": "display_data"
    },
    {
     "data": {
      "application/vnd.jupyter.widget-view+json": {
       "model_id": "c1a447f812874bf9babc63aaaba1c30b",
       "version_major": 2,
       "version_minor": 0
      },
      "text/plain": [
       "Canvas(toolbar=Toolbar(toolitems=[('Home', 'Reset original view', 'home', 'home'), ('Back', 'Back to previous …"
      ]
     },
     "metadata": {},
     "output_type": "display_data"
    }
   ],
   "source": [
    "band='delta'\n",
    "for chan in [1,3]:\n",
    "    b, s = kp.plot_spectrogram_with_bandpower(a2x1['fspg'], bands_def, band, hyp=None, channel=chan, start_time=0, end_time=26000, title=band.capitalize()+\" Power, LFP-\"+str(chan)+\", ACHR_2 1-hr Pulse\")\n",
    "    #b.set_ylim(0, 200000)\n",
    "    b.axvspan(\n",
    "            a2x1[\"stim_on\"][10],\n",
    "            a2x1[\"stim_off\"][10],\n",
    "            alpha=0.3,\n",
    "            color='lightskyblue',\n",
    "            zorder=1000,\n",
    "            ec=\"none\",\n",
    "        )"
   ]
  },
  {
   "cell_type": "markdown",
   "id": "e8cfa981",
   "metadata": {},
   "source": [
    "# Exp-2"
   ]
  },
  {
   "cell_type": "markdown",
   "id": "fd4ac1f8",
   "metadata": {},
   "source": [
    "## Load data"
   ]
  },
  {
   "cell_type": "code",
   "execution_count": 2,
   "id": "01ba22d7",
   "metadata": {},
   "outputs": [],
   "source": [
    "x2p = '/Volumes/opto_loc/Data/ACHR_2/ACHR_2_TANK/ACHR_2-exp2'\n",
    "b2p = '/Volumes/opto_loc/Data/ACHR_2/ACHR_2_TANK/ACHR_2-exp2-bl'\n",
    "p2p = '/Volumes/opto_loc/Data/ACHR_2/ACHR_2_TANK/ACHR_2-exp2-post'\n",
    "a2x2 = {}\n",
    "a2x2['e'], a2x2['espg'] = kd.get_data_spg(x2p, store='EEG_', t1=0, t2=0, channel=kd_ref['echans'])\n",
    "a2x2['f'], a2x2['fspg'] = kd.get_data_spg(x2p, store='LFP_', t1=0, t2=0, channel=kd_ref['fchans'])\n",
    "a2x2['be'], a2x2['bespg'] = kd.get_data_spg(b2p, store='EEG_', t1=0, t2=0, channel=kd_ref['echans'])\n",
    "a2x2['bf'], a2x2['bfspg'] = kd.get_data_spg(b2p, store='LFP_', t1=0, t2=0, channel=kd_ref['fchans'])"
   ]
  },
  {
   "cell_type": "code",
   "execution_count": 5,
   "id": "f5790ce4",
   "metadata": {},
   "outputs": [
    {
     "name": "stdout",
     "output_type": "stream",
     "text": [
      "read from t=0s to t=85286.54s\n",
      "Using 1017.2526 Hz as SEV sampling rate for EEG_\n",
      "Remember to save all data in xset-style dictionary, and to add experiment name key (key = \"name\") before using save_xset\n",
      "read from t=0s to t=85286.54s\n",
      "Using 1017.2526 Hz as SEV sampling rate for LFP_\n",
      "Remember to save all data in xset-style dictionary, and to add experiment name key (key = \"name\") before using save_xset\n"
     ]
    }
   ],
   "source": [
    "a2x2['pe'], a2x2['pespg'] = kd.get_data_spg(p2p, store='EEG_', t1=0, t2=0, channel=kd_ref['echans'])\n",
    "a2x2['pf'], a2x2['pfspg'] = kd.get_data_spg(p2p, store='LFP_', t1=0, t2=0, channel=kd_ref['fchans'])"
   ]
  },
  {
   "cell_type": "code",
   "execution_count": 6,
   "id": "87ae239f",
   "metadata": {},
   "outputs": [
    {
     "name": "stdout",
     "output_type": "stream",
     "text": [
      "read from t=0s to t=102476.04s\n",
      "read from t=0s to t=102476.04s\n"
     ]
    }
   ],
   "source": [
    "a2x2['stim_on'] = tdt.read_block(x2p, evtype=['epocs']).epocs.Bn1_.onset \n",
    "a2x2['stim_off'] = tdt.read_block(x2p, evtype=['epocs']).epocs.Bn1_.offset "
   ]
  },
  {
   "cell_type": "markdown",
   "id": "621d216e",
   "metadata": {},
   "source": [
    "## Exp-2 PLOTS"
   ]
  },
  {
   "cell_type": "code",
   "execution_count": 64,
   "id": "5eb54cd0",
   "metadata": {},
   "outputs": [
    {
     "data": {
      "application/vnd.jupyter.widget-view+json": {
       "model_id": "72ea6d84d44944759d3c05bd5cb0516e",
       "version_major": 2,
       "version_minor": 0
      },
      "text/plain": [
       "Canvas(toolbar=Toolbar(toolitems=[('Home', 'Reset original view', 'home', 'home'), ('Back', 'Back to previous …"
      ]
     },
     "metadata": {},
     "output_type": "display_data"
    },
    {
     "data": {
      "application/vnd.jupyter.widget-view+json": {
       "model_id": "8e32ab68312f4cb895f90eaec75d1656",
       "version_major": 2,
       "version_minor": 0
      },
      "text/plain": [
       "Canvas(toolbar=Toolbar(toolitems=[('Home', 'Reset original view', 'home', 'home'), ('Back', 'Back to previous …"
      ]
     },
     "metadata": {},
     "output_type": "display_data"
    },
    {
     "data": {
      "application/vnd.jupyter.widget-view+json": {
       "model_id": "1ccab3eb4088459c8e5f7d21239453ff",
       "version_major": 2,
       "version_minor": 0
      },
      "text/plain": [
       "Canvas(toolbar=Toolbar(toolitems=[('Home', 'Reset original view', 'home', 'home'), ('Back', 'Back to previous …"
      ]
     },
     "metadata": {},
     "output_type": "display_data"
    },
    {
     "data": {
      "application/vnd.jupyter.widget-view+json": {
       "model_id": "d04e4c06e38b4291bd5e6bb55bf85def",
       "version_major": 2,
       "version_minor": 0
      },
      "text/plain": [
       "Canvas(toolbar=Toolbar(toolitems=[('Home', 'Reset original view', 'home', 'home'), ('Back', 'Back to previous …"
      ]
     },
     "metadata": {},
     "output_type": "display_data"
    },
    {
     "data": {
      "application/vnd.jupyter.widget-view+json": {
       "model_id": "f491dc0360c640bdaae6a54c5d9f5ce4",
       "version_major": 2,
       "version_minor": 0
      },
      "text/plain": [
       "Canvas(toolbar=Toolbar(toolitems=[('Home', 'Reset original view', 'home', 'home'), ('Back', 'Back to previous …"
      ]
     },
     "metadata": {},
     "output_type": "display_data"
    },
    {
     "data": {
      "application/vnd.jupyter.widget-view+json": {
       "model_id": "f251079dcd3c4432aaf722a88d3bc02d",
       "version_major": 2,
       "version_minor": 0
      },
      "text/plain": [
       "Canvas(toolbar=Toolbar(toolitems=[('Home', 'Reset original view', 'home', 'home'), ('Back', 'Back to previous …"
      ]
     },
     "metadata": {},
     "output_type": "display_data"
    },
    {
     "data": {
      "application/vnd.jupyter.widget-view+json": {
       "model_id": "91ab050101a247e2b00ea3d50307d6ea",
       "version_major": 2,
       "version_minor": 0
      },
      "text/plain": [
       "Canvas(toolbar=Toolbar(toolitems=[('Home', 'Reset original view', 'home', 'home'), ('Back', 'Back to previous …"
      ]
     },
     "metadata": {},
     "output_type": "display_data"
    },
    {
     "data": {
      "application/vnd.jupyter.widget-view+json": {
       "model_id": "db4faf2a04954e2b93458e28df0907ae",
       "version_major": 2,
       "version_minor": 0
      },
      "text/plain": [
       "Canvas(toolbar=Toolbar(toolitems=[('Home', 'Reset original view', 'home', 'home'), ('Back', 'Back to previous …"
      ]
     },
     "metadata": {},
     "output_type": "display_data"
    }
   ],
   "source": [
    "plt.close('all')\n",
    "band='delta'\n",
    "spg = a2x2['bfspg']\n",
    "chans = [2,4,6,8,10,12,14,16]\n",
    "for chan in chans:\n",
    "    b, s = kp.plot_spectrogram_with_bandpower(spg, bands_def, band, hyp=None, channel=chan, start_time=0, end_time=spg.time.max(), title=band.capitalize()+\" Power, LFP-\"+str(chan)+\", ACHR_2, Experiment-2 Baseline\")\n",
    "    b.set_ylim(0, 200000)\n",
    "    b.axvspan(\n",
    "            43200,\n",
    "            86400,\n",
    "            alpha=0.3,\n",
    "            color='midnightblue',\n",
    "            zorder=1000,\n",
    "            ec=\"none\",\n",
    "        )"
   ]
  },
  {
   "cell_type": "code",
   "execution_count": 249,
   "id": "5eb54cd0",
   "metadata": {},
   "outputs": [
    {
     "data": {
      "application/vnd.jupyter.widget-view+json": {
       "model_id": "6d28335a8c72481fb4d3f5f0bbe1bad6",
       "version_major": 2,
       "version_minor": 0
      },
      "text/plain": [
       "Canvas(toolbar=Toolbar(toolitems=[('Home', 'Reset original view', 'home', 'home'), ('Back', 'Back to previous …"
      ]
     },
     "metadata": {},
     "output_type": "display_data"
    },
    {
     "data": {
      "application/vnd.jupyter.widget-view+json": {
       "model_id": "621c3f58b99143a9bdf107b940174dee",
       "version_major": 2,
       "version_minor": 0
      },
      "text/plain": [
       "Canvas(toolbar=Toolbar(toolitems=[('Home', 'Reset original view', 'home', 'home'), ('Back', 'Back to previous …"
      ]
     },
     "metadata": {},
     "output_type": "display_data"
    }
   ],
   "source": [
    "plt.close('all')\n",
    "band='sigma'\n",
    "spg = a2x2['bfspg']\n",
    "chans = [12,14]\n",
    "for chan in chans:\n",
    "    b, s = kp.plot_spectrogram_with_bandpower(spg, bands_def, band, hyp=None, channel=chan, start_time=0, end_time=spg.time.max(), title=band.capitalize()+\" Power, LFP-\"+str(chan)+\", ACHR_2, Experiment-2 Baseline\")\n",
    "    b.set_ylim(0, 10000)\n",
    "    b.axvspan(\n",
    "            43200,\n",
    "            86400,\n",
    "            alpha=0.3,\n",
    "            color='midnightblue',\n",
    "            zorder=1000,\n",
    "            ec=\"none\",\n",
    "        )"
   ]
  },
  {
   "cell_type": "code",
   "execution_count": 66,
   "id": "5eb54cd0",
   "metadata": {},
   "outputs": [
    {
     "data": {
      "application/vnd.jupyter.widget-view+json": {
       "model_id": "5b9669fdb1174b999a5086c23d3c6fb5",
       "version_major": 2,
       "version_minor": 0
      },
      "text/plain": [
       "Canvas(toolbar=Toolbar(toolitems=[('Home', 'Reset original view', 'home', 'home'), ('Back', 'Back to previous …"
      ]
     },
     "metadata": {},
     "output_type": "display_data"
    },
    {
     "data": {
      "application/vnd.jupyter.widget-view+json": {
       "model_id": "f0ba214f3d5843beb1587371259dccc0",
       "version_major": 2,
       "version_minor": 0
      },
      "text/plain": [
       "Canvas(toolbar=Toolbar(toolitems=[('Home', 'Reset original view', 'home', 'home'), ('Back', 'Back to previous …"
      ]
     },
     "metadata": {},
     "output_type": "display_data"
    },
    {
     "data": {
      "application/vnd.jupyter.widget-view+json": {
       "model_id": "8cce7f53bc11437eb829e54979ea7b05",
       "version_major": 2,
       "version_minor": 0
      },
      "text/plain": [
       "Canvas(toolbar=Toolbar(toolitems=[('Home', 'Reset original view', 'home', 'home'), ('Back', 'Back to previous …"
      ]
     },
     "metadata": {},
     "output_type": "display_data"
    },
    {
     "data": {
      "application/vnd.jupyter.widget-view+json": {
       "model_id": "ec49974b489746209b9f62268f57d76b",
       "version_major": 2,
       "version_minor": 0
      },
      "text/plain": [
       "Canvas(toolbar=Toolbar(toolitems=[('Home', 'Reset original view', 'home', 'home'), ('Back', 'Back to previous …"
      ]
     },
     "metadata": {},
     "output_type": "display_data"
    },
    {
     "data": {
      "application/vnd.jupyter.widget-view+json": {
       "model_id": "f6b1198052934d9ca601f1cafa29452a",
       "version_major": 2,
       "version_minor": 0
      },
      "text/plain": [
       "Canvas(toolbar=Toolbar(toolitems=[('Home', 'Reset original view', 'home', 'home'), ('Back', 'Back to previous …"
      ]
     },
     "metadata": {},
     "output_type": "display_data"
    },
    {
     "data": {
      "application/vnd.jupyter.widget-view+json": {
       "model_id": "07a143e358ed49c0b7f3c3ffd1ff06c3",
       "version_major": 2,
       "version_minor": 0
      },
      "text/plain": [
       "Canvas(toolbar=Toolbar(toolitems=[('Home', 'Reset original view', 'home', 'home'), ('Back', 'Back to previous …"
      ]
     },
     "metadata": {},
     "output_type": "display_data"
    },
    {
     "data": {
      "application/vnd.jupyter.widget-view+json": {
       "model_id": "86f8e3ee377443f8b39d95bb271ac523",
       "version_major": 2,
       "version_minor": 0
      },
      "text/plain": [
       "Canvas(toolbar=Toolbar(toolitems=[('Home', 'Reset original view', 'home', 'home'), ('Back', 'Back to previous …"
      ]
     },
     "metadata": {},
     "output_type": "display_data"
    },
    {
     "data": {
      "application/vnd.jupyter.widget-view+json": {
       "model_id": "a707846f33024dd7907310a8ee3c39ee",
       "version_major": 2,
       "version_minor": 0
      },
      "text/plain": [
       "Canvas(toolbar=Toolbar(toolitems=[('Home', 'Reset original view', 'home', 'home'), ('Back', 'Back to previous …"
      ]
     },
     "metadata": {},
     "output_type": "display_data"
    }
   ],
   "source": [
    "plt.close('all')\n",
    "band='delta'\n",
    "spg = a2x2['fspg']\n",
    "chans = [2,4,6,8,10,12,14,16]\n",
    "for chan in chans:\n",
    "    b, s = kp.plot_spectrogram_with_bandpower(spg, bands_def, band, hyp=None, channel=chan, start_time=0, end_time=spg.time.max(), title=band.capitalize()+\" Power, LFP-\"+str(chan)+\", ACHR_2, Experiment-2\")\n",
    "    b.set_ylim(0, 200000)\n",
    "    b.axvspan(\n",
    "            2803.79,\n",
    "            16871.40,\n",
    "            alpha=0.3,\n",
    "            color='lightskyblue',\n",
    "            zorder=1000,\n",
    "            ec=\"none\",\n",
    "        )\n",
    "    b.axvspan(\n",
    "            43200,\n",
    "            86400,\n",
    "            alpha=0.3,\n",
    "            color='darkslategrey',\n",
    "            zorder=1000,\n",
    "            ec=\"none\",\n",
    "        )"
   ]
  },
  {
   "cell_type": "code",
   "execution_count": 258,
   "id": "5eb54cd0",
   "metadata": {},
   "outputs": [
    {
     "data": {
      "application/vnd.jupyter.widget-view+json": {
       "model_id": "0e976334ef5347658d0e9d5a29ff328c",
       "version_major": 2,
       "version_minor": 0
      },
      "text/plain": [
       "Canvas(toolbar=Toolbar(toolitems=[('Home', 'Reset original view', 'home', 'home'), ('Back', 'Back to previous …"
      ]
     },
     "metadata": {},
     "output_type": "display_data"
    },
    {
     "data": {
      "application/vnd.jupyter.widget-view+json": {
       "model_id": "739581a55fc14bc898bc0b97af49232c",
       "version_major": 2,
       "version_minor": 0
      },
      "text/plain": [
       "Canvas(toolbar=Toolbar(toolitems=[('Home', 'Reset original view', 'home', 'home'), ('Back', 'Back to previous …"
      ]
     },
     "metadata": {},
     "output_type": "display_data"
    }
   ],
   "source": [
    "plt.close('all')\n",
    "band='sigma'\n",
    "spg = a2x2['fspg']\n",
    "chans = [12,14]\n",
    "for chan in chans:\n",
    "    b, s = kp.plot_spectrogram_with_bandpower(spg, bands_def, band, hyp=None, channel=chan, start_time=0, end_time=spg.time.max(), title=band.capitalize()+\" Power, LFP-\"+str(chan)+\", ACHR_2, Experiment-2\")\n",
    "    b.set_ylim(0, 10000)\n",
    "    b.axvspan(\n",
    "            2803.79,\n",
    "            16871.40,\n",
    "            alpha=0.3,\n",
    "            color='lightskyblue',\n",
    "            zorder=1000,\n",
    "            ec=\"none\",\n",
    "        )\n",
    "    b.axvspan(\n",
    "            43200,\n",
    "            86400,\n",
    "            alpha=0.3,\n",
    "            color='midnightblue',\n",
    "            zorder=1000,\n",
    "            ec=\"none\",\n",
    "        )"
   ]
  },
  {
   "cell_type": "code",
   "execution_count": null,
   "id": "c1bf1bfa",
   "metadata": {},
   "outputs": [],
   "source": []
  },
  {
   "cell_type": "markdown",
   "id": "b1e07504",
   "metadata": {},
   "source": [
    "# Exp-3"
   ]
  },
  {
   "cell_type": "code",
   "execution_count": 44,
   "id": "7010e6e3",
   "metadata": {},
   "outputs": [],
   "source": [
    "def plot_bp_set(spg, bands, hyp, channel, start_time, end_time, ss=12, figsize=(15,5), title=None):\n",
    "    spg = spg.sel(channel=channel, time=slice(start_time, end_time))\n",
    "    bp_set = kd.get_bp_set2(spg, bands)\n",
    "    bp_set = kd.get_smoothed_ds(bp_set, smoothing_sigma=ss)\n",
    "    ax_index = np.arange(0, len(bands))\n",
    "    keys = kd.get_key_list(bands)\n",
    "\n",
    "    fig, axes = plt.subplots(ncols=1, nrows=len(bands), figsize=figsize)\n",
    "\n",
    "    for i, k in zip(ax_index, keys):\n",
    "        fr = bp_set[k].f_range\n",
    "        fr_str = '('+str(fr[0]) + ' -> ' +str(fr[1])+' Hz)'\n",
    "        ax = sns.lineplot(x=bp_set[k].time, y=bp_set[k], ax=axes[i])\n",
    "        ax.set_ylabel('Raw '+k.capitalize()+' Power')\n",
    "        ax.set_title(k.capitalize()+' Bandpower '+fr_str)\n",
    "    fig.suptitle(title)\n",
    "    fig.tight_layout(pad=1)\n",
    "    return fig, axes"
   ]
  },
  {
   "cell_type": "code",
   "execution_count": 2,
   "id": "01ba22d7",
   "metadata": {},
   "outputs": [],
   "source": [
    "x3p = '/Volumes/opto_loc/Data/ACHR_2/ACHR_2_TANK/ACHR_2-exp3'\n",
    "b3p = '/Volumes/opto_loc/Data/ACHR_2/ACHR_2_TANK/ACHR_2-exp3-bl'"
   ]
  },
  {
   "cell_type": "code",
   "execution_count": 3,
   "id": "f5790ce4",
   "metadata": {},
   "outputs": [
    {
     "name": "stdout",
     "output_type": "stream",
     "text": [
      "read from t=0s to t=191466.87s\n",
      "Using 1017.2526 Hz as SEV sampling rate for EEG_\n",
      "Remember to save all data in xset-style dictionary, and to add experiment name key (key = \"name\") before using save_xset\n",
      "read from t=0s to t=191466.87s\n",
      "Using 1017.2526 Hz as SEV sampling rate for LFP_\n",
      "Remember to save all data in xset-style dictionary, and to add experiment name key (key = \"name\") before using save_xset\n"
     ]
    }
   ],
   "source": [
    "a2x3 = {}\n",
    "a2x3['e'], a2x3['espg'] = kd.get_data_spg(x3p, store='EEG_', t1=0, t2=0, channel=kd_ref['echans'])\n",
    "a2x3['f'], a2x3['fspg'] = kd.get_data_spg(x3p, store='LFP_', t1=0, t2=0, channel=kd_ref['fchans'])"
   ]
  },
  {
   "cell_type": "code",
   "execution_count": 4,
   "id": "f5790ce4",
   "metadata": {},
   "outputs": [
    {
     "ename": "NameError",
     "evalue": "name 'b2p' is not defined",
     "output_type": "error",
     "traceback": [
      "\u001b[0;31m---------------------------------------------------------------------------\u001b[0m",
      "\u001b[0;31mNameError\u001b[0m                                 Traceback (most recent call last)",
      "\u001b[0;32m/tmp/ipykernel_2913918/3299115916.py\u001b[0m in \u001b[0;36m<module>\u001b[0;34m\u001b[0m\n\u001b[0;32m----> 1\u001b[0;31m \u001b[0ma2x3\u001b[0m\u001b[0;34m[\u001b[0m\u001b[0;34m'be'\u001b[0m\u001b[0;34m]\u001b[0m\u001b[0;34m,\u001b[0m \u001b[0ma2x3\u001b[0m\u001b[0;34m[\u001b[0m\u001b[0;34m'bespg'\u001b[0m\u001b[0;34m]\u001b[0m \u001b[0;34m=\u001b[0m \u001b[0mkd\u001b[0m\u001b[0;34m.\u001b[0m\u001b[0mget_data_spg\u001b[0m\u001b[0;34m(\u001b[0m\u001b[0mb2p\u001b[0m\u001b[0;34m,\u001b[0m \u001b[0mstore\u001b[0m\u001b[0;34m=\u001b[0m\u001b[0;34m'EEG_'\u001b[0m\u001b[0;34m,\u001b[0m \u001b[0mt1\u001b[0m\u001b[0;34m=\u001b[0m\u001b[0;36m0\u001b[0m\u001b[0;34m,\u001b[0m \u001b[0mt2\u001b[0m\u001b[0;34m=\u001b[0m\u001b[0;36m0\u001b[0m\u001b[0;34m,\u001b[0m \u001b[0mchannel\u001b[0m\u001b[0;34m=\u001b[0m\u001b[0mkd_ref\u001b[0m\u001b[0;34m[\u001b[0m\u001b[0;34m'echans'\u001b[0m\u001b[0;34m]\u001b[0m\u001b[0;34m)\u001b[0m\u001b[0;34m\u001b[0m\u001b[0;34m\u001b[0m\u001b[0m\n\u001b[0m\u001b[1;32m      2\u001b[0m \u001b[0ma2x3\u001b[0m\u001b[0;34m[\u001b[0m\u001b[0;34m'bf'\u001b[0m\u001b[0;34m]\u001b[0m\u001b[0;34m,\u001b[0m \u001b[0ma2x3\u001b[0m\u001b[0;34m[\u001b[0m\u001b[0;34m'bfspg'\u001b[0m\u001b[0;34m]\u001b[0m \u001b[0;34m=\u001b[0m \u001b[0mkd\u001b[0m\u001b[0;34m.\u001b[0m\u001b[0mget_data_spg\u001b[0m\u001b[0;34m(\u001b[0m\u001b[0mb2p\u001b[0m\u001b[0;34m,\u001b[0m \u001b[0mstore\u001b[0m\u001b[0;34m=\u001b[0m\u001b[0;34m'LFP_'\u001b[0m\u001b[0;34m,\u001b[0m \u001b[0mt1\u001b[0m\u001b[0;34m=\u001b[0m\u001b[0;36m0\u001b[0m\u001b[0;34m,\u001b[0m \u001b[0mt2\u001b[0m\u001b[0;34m=\u001b[0m\u001b[0;36m0\u001b[0m\u001b[0;34m,\u001b[0m \u001b[0mchannel\u001b[0m\u001b[0;34m=\u001b[0m\u001b[0mkd_ref\u001b[0m\u001b[0;34m[\u001b[0m\u001b[0;34m'fchans'\u001b[0m\u001b[0;34m]\u001b[0m\u001b[0;34m)\u001b[0m\u001b[0;34m\u001b[0m\u001b[0;34m\u001b[0m\u001b[0m\n\u001b[1;32m      3\u001b[0m \u001b[0;34m\u001b[0m\u001b[0m\n\u001b[1;32m      4\u001b[0m \u001b[0ma2x3\u001b[0m\u001b[0;34m[\u001b[0m\u001b[0;34m'stim_on'\u001b[0m\u001b[0;34m]\u001b[0m \u001b[0;34m=\u001b[0m \u001b[0mtdt\u001b[0m\u001b[0;34m.\u001b[0m\u001b[0mread_block\u001b[0m\u001b[0;34m(\u001b[0m\u001b[0mx3p\u001b[0m\u001b[0;34m,\u001b[0m \u001b[0mevtype\u001b[0m\u001b[0;34m=\u001b[0m\u001b[0;34m[\u001b[0m\u001b[0;34m'epocs'\u001b[0m\u001b[0;34m]\u001b[0m\u001b[0;34m)\u001b[0m\u001b[0;34m.\u001b[0m\u001b[0mepocs\u001b[0m\u001b[0;34m.\u001b[0m\u001b[0mBn1_\u001b[0m\u001b[0;34m.\u001b[0m\u001b[0monset\u001b[0m\u001b[0;34m\u001b[0m\u001b[0;34m\u001b[0m\u001b[0m\n\u001b[1;32m      5\u001b[0m \u001b[0ma2x3\u001b[0m\u001b[0;34m[\u001b[0m\u001b[0;34m'stim_off'\u001b[0m\u001b[0;34m]\u001b[0m \u001b[0;34m=\u001b[0m \u001b[0mtdt\u001b[0m\u001b[0;34m.\u001b[0m\u001b[0mread_block\u001b[0m\u001b[0;34m(\u001b[0m\u001b[0mx3p\u001b[0m\u001b[0;34m,\u001b[0m \u001b[0mevtype\u001b[0m\u001b[0;34m=\u001b[0m\u001b[0;34m[\u001b[0m\u001b[0;34m'epocs'\u001b[0m\u001b[0;34m]\u001b[0m\u001b[0;34m)\u001b[0m\u001b[0;34m.\u001b[0m\u001b[0mepocs\u001b[0m\u001b[0;34m.\u001b[0m\u001b[0mBn1_\u001b[0m\u001b[0;34m.\u001b[0m\u001b[0moffset\u001b[0m\u001b[0;34m\u001b[0m\u001b[0;34m\u001b[0m\u001b[0m\n",
      "\u001b[0;31mNameError\u001b[0m: name 'b2p' is not defined"
     ]
    }
   ],
   "source": [
    "a2x3['be'], a2x3['bespg'] = kd.get_data_spg(b2p, store='EEG_', t1=0, t2=0, channel=kd_ref['echans'])\n",
    "a2x3['bf'], a2x3['bfspg'] = kd.get_data_spg(b2p, store='LFP_', t1=0, t2=0, channel=kd_ref['fchans'])\n",
    "\n",
    "a2x3['stim_on'] = tdt.read_block(x3p, evtype=['epocs']).epocs.Bn1_.onset \n",
    "a2x3['stim_off'] = tdt.read_block(x3p, evtype=['epocs']).epocs.Bn1_.offset "
   ]
  },
  {
   "cell_type": "code",
   "execution_count": 52,
   "id": "ecc1b035",
   "metadata": {},
   "outputs": [
    {
     "data": {
      "text/plain": [
       "array([2355.13352192])"
      ]
     },
     "execution_count": 52,
     "metadata": {},
     "output_type": "execute_result"
    }
   ],
   "source": [
    "a2x3['stim_on']"
   ]
  },
  {
   "cell_type": "code",
   "execution_count": 53,
   "id": "ecc1b035",
   "metadata": {},
   "outputs": [
    {
     "data": {
      "text/plain": [
       "array([20421.34355968])"
      ]
     },
     "execution_count": 53,
     "metadata": {},
     "output_type": "execute_result"
    }
   ],
   "source": [
    "a2x3['stim_off']"
   ]
  },
  {
   "cell_type": "code",
   "execution_count": 58,
   "id": "eb20addd",
   "metadata": {},
   "outputs": [
    {
     "data": {
      "application/vnd.jupyter.widget-view+json": {
       "model_id": "d8a0cedefb3e430eb9f766aa1c29e403",
       "version_major": 2,
       "version_minor": 0
      },
      "text/plain": [
       "Canvas(toolbar=Toolbar(toolitems=[('Home', 'Reset original view', 'home', 'home'), ('Back', 'Back to previous …"
      ]
     },
     "metadata": {},
     "output_type": "display_data"
    },
    {
     "data": {
      "application/vnd.jupyter.widget-view+json": {
       "model_id": "919564f27f934483bafe184bd2dc36ca",
       "version_major": 2,
       "version_minor": 0
      },
      "text/plain": [
       "Canvas(toolbar=Toolbar(toolitems=[('Home', 'Reset original view', 'home', 'home'), ('Back', 'Back to previous …"
      ]
     },
     "metadata": {},
     "output_type": "display_data"
    },
    {
     "data": {
      "application/vnd.jupyter.widget-view+json": {
       "model_id": "11a99fc41caf43e8acbe38ba0405d583",
       "version_major": 2,
       "version_minor": 0
      },
      "text/plain": [
       "Canvas(toolbar=Toolbar(toolitems=[('Home', 'Reset original view', 'home', 'home'), ('Back', 'Back to previous …"
      ]
     },
     "metadata": {},
     "output_type": "display_data"
    }
   ],
   "source": [
    "plt.close('all')\n",
    "band='delta'\n",
    "spg = a2x3['espg']\n",
    "chans = [1,2,3]\n",
    "for chan in chans:\n",
    "    b, s = kp.plot_spectrogram_with_bandpower(spg, bands_def, band, hyp=None, channel=chan, start_time=0, end_time=43200, title=band.capitalize()+\" Power, EEG-\"+str(chan)+\", ACHR_2, Experiment-3\")\n",
    "    #b.set_ylim(0, 10000)\n",
    "    b.axvspan(\n",
    "            2355.13,\n",
    "            20421.34,\n",
    "            alpha=0.3,\n",
    "            color='lightskyblue',\n",
    "            zorder=1000,\n",
    "            ec=\"none\",\n",
    "        )\n",
    "    b.axvspan(\n",
    "            43200,\n",
    "            86400,\n",
    "            alpha=0.3,\n",
    "            color='midnightblue',\n",
    "            zorder=1000,\n",
    "            ec=\"none\",\n",
    "        )"
   ]
  },
  {
   "cell_type": "code",
   "execution_count": 57,
   "id": "eb20addd",
   "metadata": {},
   "outputs": [
    {
     "data": {
      "application/vnd.jupyter.widget-view+json": {
       "model_id": "b1432b7cc7b1430bbbe66a266476f6c5",
       "version_major": 2,
       "version_minor": 0
      },
      "text/plain": [
       "Canvas(toolbar=Toolbar(toolitems=[('Home', 'Reset original view', 'home', 'home'), ('Back', 'Back to previous …"
      ]
     },
     "metadata": {},
     "output_type": "display_data"
    },
    {
     "data": {
      "application/vnd.jupyter.widget-view+json": {
       "model_id": "86a34d610cbf497b92cbdbf34b9b5a21",
       "version_major": 2,
       "version_minor": 0
      },
      "text/plain": [
       "Canvas(toolbar=Toolbar(toolitems=[('Home', 'Reset original view', 'home', 'home'), ('Back', 'Back to previous …"
      ]
     },
     "metadata": {},
     "output_type": "display_data"
    },
    {
     "data": {
      "application/vnd.jupyter.widget-view+json": {
       "model_id": "9d14317884e94664812f602346a4b66a",
       "version_major": 2,
       "version_minor": 0
      },
      "text/plain": [
       "Canvas(toolbar=Toolbar(toolitems=[('Home', 'Reset original view', 'home', 'home'), ('Back', 'Back to previous …"
      ]
     },
     "metadata": {},
     "output_type": "display_data"
    },
    {
     "data": {
      "application/vnd.jupyter.widget-view+json": {
       "model_id": "23af331a785a46c1889dc87af4c9072e",
       "version_major": 2,
       "version_minor": 0
      },
      "text/plain": [
       "Canvas(toolbar=Toolbar(toolitems=[('Home', 'Reset original view', 'home', 'home'), ('Back', 'Back to previous …"
      ]
     },
     "metadata": {},
     "output_type": "display_data"
    },
    {
     "data": {
      "application/vnd.jupyter.widget-view+json": {
       "model_id": "8d249fd252194e638377a81d816b5584",
       "version_major": 2,
       "version_minor": 0
      },
      "text/plain": [
       "Canvas(toolbar=Toolbar(toolitems=[('Home', 'Reset original view', 'home', 'home'), ('Back', 'Back to previous …"
      ]
     },
     "metadata": {},
     "output_type": "display_data"
    },
    {
     "data": {
      "application/vnd.jupyter.widget-view+json": {
       "model_id": "34ee81acce1346a8945f90672a1c959f",
       "version_major": 2,
       "version_minor": 0
      },
      "text/plain": [
       "Canvas(toolbar=Toolbar(toolitems=[('Home', 'Reset original view', 'home', 'home'), ('Back', 'Back to previous …"
      ]
     },
     "metadata": {},
     "output_type": "display_data"
    },
    {
     "data": {
      "application/vnd.jupyter.widget-view+json": {
       "model_id": "86d9b0fabfce4971b703b882d784ce88",
       "version_major": 2,
       "version_minor": 0
      },
      "text/plain": [
       "Canvas(toolbar=Toolbar(toolitems=[('Home', 'Reset original view', 'home', 'home'), ('Back', 'Back to previous …"
      ]
     },
     "metadata": {},
     "output_type": "display_data"
    },
    {
     "data": {
      "application/vnd.jupyter.widget-view+json": {
       "model_id": "0969eb3ec16742b392b9fb6ea87125b7",
       "version_major": 2,
       "version_minor": 0
      },
      "text/plain": [
       "Canvas(toolbar=Toolbar(toolitems=[('Home', 'Reset original view', 'home', 'home'), ('Back', 'Back to previous …"
      ]
     },
     "metadata": {},
     "output_type": "display_data"
    },
    {
     "data": {
      "application/vnd.jupyter.widget-view+json": {
       "model_id": "3ae73edd8f8b486dbdd622d2b5f92454",
       "version_major": 2,
       "version_minor": 0
      },
      "text/plain": [
       "Canvas(toolbar=Toolbar(toolitems=[('Home', 'Reset original view', 'home', 'home'), ('Back', 'Back to previous …"
      ]
     },
     "metadata": {},
     "output_type": "display_data"
    },
    {
     "data": {
      "application/vnd.jupyter.widget-view+json": {
       "model_id": "b21b1da616904d9696a72944b33ee049",
       "version_major": 2,
       "version_minor": 0
      },
      "text/plain": [
       "Canvas(toolbar=Toolbar(toolitems=[('Home', 'Reset original view', 'home', 'home'), ('Back', 'Back to previous …"
      ]
     },
     "metadata": {},
     "output_type": "display_data"
    },
    {
     "data": {
      "application/vnd.jupyter.widget-view+json": {
       "model_id": "3d6aecdb10814239a16d4cc882dec189",
       "version_major": 2,
       "version_minor": 0
      },
      "text/plain": [
       "Canvas(toolbar=Toolbar(toolitems=[('Home', 'Reset original view', 'home', 'home'), ('Back', 'Back to previous …"
      ]
     },
     "metadata": {},
     "output_type": "display_data"
    },
    {
     "data": {
      "application/vnd.jupyter.widget-view+json": {
       "model_id": "47534ea21c4c4c3bbe40a08992a4aee6",
       "version_major": 2,
       "version_minor": 0
      },
      "text/plain": [
       "Canvas(toolbar=Toolbar(toolitems=[('Home', 'Reset original view', 'home', 'home'), ('Back', 'Back to previous …"
      ]
     },
     "metadata": {},
     "output_type": "display_data"
    },
    {
     "data": {
      "application/vnd.jupyter.widget-view+json": {
       "model_id": "4cfe1c53392b4db8b0899f810cbca822",
       "version_major": 2,
       "version_minor": 0
      },
      "text/plain": [
       "Canvas(toolbar=Toolbar(toolitems=[('Home', 'Reset original view', 'home', 'home'), ('Back', 'Back to previous …"
      ]
     },
     "metadata": {},
     "output_type": "display_data"
    },
    {
     "data": {
      "application/vnd.jupyter.widget-view+json": {
       "model_id": "209ecc5edd7d4372b5a21421f42cca5f",
       "version_major": 2,
       "version_minor": 0
      },
      "text/plain": [
       "Canvas(toolbar=Toolbar(toolitems=[('Home', 'Reset original view', 'home', 'home'), ('Back', 'Back to previous …"
      ]
     },
     "metadata": {},
     "output_type": "display_data"
    },
    {
     "data": {
      "application/vnd.jupyter.widget-view+json": {
       "model_id": "bc2e8346ec004b65ae677dc276b6a47a",
       "version_major": 2,
       "version_minor": 0
      },
      "text/plain": [
       "Canvas(toolbar=Toolbar(toolitems=[('Home', 'Reset original view', 'home', 'home'), ('Back', 'Back to previous …"
      ]
     },
     "metadata": {},
     "output_type": "display_data"
    },
    {
     "data": {
      "application/vnd.jupyter.widget-view+json": {
       "model_id": "05fd158ec96444a6aa12059b380efaf5",
       "version_major": 2,
       "version_minor": 0
      },
      "text/plain": [
       "Canvas(toolbar=Toolbar(toolitems=[('Home', 'Reset original view', 'home', 'home'), ('Back', 'Back to previous …"
      ]
     },
     "metadata": {},
     "output_type": "display_data"
    }
   ],
   "source": [
    "plt.close('all')\n",
    "band='delta'\n",
    "spg = a2x3['fspg']\n",
    "chans = [10,12,14,16]\n",
    "for chan in chans:\n",
    "    b, s = kp.plot_spectrogram_with_bandpower(spg, bands_def, band, hyp=None, channel=chan, start_time=0, end_time=55000, title=band.capitalize()+\" Power, LFP-\"+str(chan)+\", ACHR_2, Experiment-3\")\n",
    "    #b.set_ylim(0, 10000)\n",
    "    b.axvspan(\n",
    "            2355.13,\n",
    "            20421.34,\n",
    "            alpha=0.3,\n",
    "            color='lightskyblue',\n",
    "            zorder=1000,\n",
    "            ec=\"none\",\n",
    "        )\n",
    "    b.axvspan(\n",
    "            43200,\n",
    "            86400,\n",
    "            alpha=0.3,\n",
    "            color='midnightblue',\n",
    "            zorder=1000,\n",
    "            ec=\"none\",\n",
    "        )"
   ]
  },
  {
   "cell_type": "code",
   "execution_count": null,
   "id": "eb20addd",
   "metadata": {},
   "outputs": [
    {
     "data": {
      "application/vnd.jupyter.widget-view+json": {
       "model_id": "b1432b7cc7b1430bbbe66a266476f6c5",
       "version_major": 2,
       "version_minor": 0
      },
      "text/plain": [
       "Canvas(toolbar=Toolbar(toolitems=[('Home', 'Reset original view', 'home', 'home'), ('Back', 'Back to previous …"
      ]
     },
     "metadata": {},
     "output_type": "display_data"
    },
    {
     "data": {
      "application/vnd.jupyter.widget-view+json": {
       "model_id": "86a34d610cbf497b92cbdbf34b9b5a21",
       "version_major": 2,
       "version_minor": 0
      },
      "text/plain": [
       "Canvas(toolbar=Toolbar(toolitems=[('Home', 'Reset original view', 'home', 'home'), ('Back', 'Back to previous …"
      ]
     },
     "metadata": {},
     "output_type": "display_data"
    },
    {
     "data": {
      "application/vnd.jupyter.widget-view+json": {
       "model_id": "9d14317884e94664812f602346a4b66a",
       "version_major": 2,
       "version_minor": 0
      },
      "text/plain": [
       "Canvas(toolbar=Toolbar(toolitems=[('Home', 'Reset original view', 'home', 'home'), ('Back', 'Back to previous …"
      ]
     },
     "metadata": {},
     "output_type": "display_data"
    },
    {
     "data": {
      "application/vnd.jupyter.widget-view+json": {
       "model_id": "23af331a785a46c1889dc87af4c9072e",
       "version_major": 2,
       "version_minor": 0
      },
      "text/plain": [
       "Canvas(toolbar=Toolbar(toolitems=[('Home', 'Reset original view', 'home', 'home'), ('Back', 'Back to previous …"
      ]
     },
     "metadata": {},
     "output_type": "display_data"
    },
    {
     "data": {
      "application/vnd.jupyter.widget-view+json": {
       "model_id": "8d249fd252194e638377a81d816b5584",
       "version_major": 2,
       "version_minor": 0
      },
      "text/plain": [
       "Canvas(toolbar=Toolbar(toolitems=[('Home', 'Reset original view', 'home', 'home'), ('Back', 'Back to previous …"
      ]
     },
     "metadata": {},
     "output_type": "display_data"
    },
    {
     "data": {
      "application/vnd.jupyter.widget-view+json": {
       "model_id": "34ee81acce1346a8945f90672a1c959f",
       "version_major": 2,
       "version_minor": 0
      },
      "text/plain": [
       "Canvas(toolbar=Toolbar(toolitems=[('Home', 'Reset original view', 'home', 'home'), ('Back', 'Back to previous …"
      ]
     },
     "metadata": {},
     "output_type": "display_data"
    },
    {
     "data": {
      "application/vnd.jupyter.widget-view+json": {
       "model_id": "86d9b0fabfce4971b703b882d784ce88",
       "version_major": 2,
       "version_minor": 0
      },
      "text/plain": [
       "Canvas(toolbar=Toolbar(toolitems=[('Home', 'Reset original view', 'home', 'home'), ('Back', 'Back to previous …"
      ]
     },
     "metadata": {},
     "output_type": "display_data"
    },
    {
     "data": {
      "application/vnd.jupyter.widget-view+json": {
       "model_id": "0969eb3ec16742b392b9fb6ea87125b7",
       "version_major": 2,
       "version_minor": 0
      },
      "text/plain": [
       "Canvas(toolbar=Toolbar(toolitems=[('Home', 'Reset original view', 'home', 'home'), ('Back', 'Back to previous …"
      ]
     },
     "metadata": {},
     "output_type": "display_data"
    },
    {
     "data": {
      "application/vnd.jupyter.widget-view+json": {
       "model_id": "3ae73edd8f8b486dbdd622d2b5f92454",
       "version_major": 2,
       "version_minor": 0
      },
      "text/plain": [
       "Canvas(toolbar=Toolbar(toolitems=[('Home', 'Reset original view', 'home', 'home'), ('Back', 'Back to previous …"
      ]
     },
     "metadata": {},
     "output_type": "display_data"
    },
    {
     "data": {
      "application/vnd.jupyter.widget-view+json": {
       "model_id": "b21b1da616904d9696a72944b33ee049",
       "version_major": 2,
       "version_minor": 0
      },
      "text/plain": [
       "Canvas(toolbar=Toolbar(toolitems=[('Home', 'Reset original view', 'home', 'home'), ('Back', 'Back to previous …"
      ]
     },
     "metadata": {},
     "output_type": "display_data"
    },
    {
     "data": {
      "application/vnd.jupyter.widget-view+json": {
       "model_id": "3d6aecdb10814239a16d4cc882dec189",
       "version_major": 2,
       "version_minor": 0
      },
      "text/plain": [
       "Canvas(toolbar=Toolbar(toolitems=[('Home', 'Reset original view', 'home', 'home'), ('Back', 'Back to previous …"
      ]
     },
     "metadata": {},
     "output_type": "display_data"
    },
    {
     "data": {
      "application/vnd.jupyter.widget-view+json": {
       "model_id": "47534ea21c4c4c3bbe40a08992a4aee6",
       "version_major": 2,
       "version_minor": 0
      },
      "text/plain": [
       "Canvas(toolbar=Toolbar(toolitems=[('Home', 'Reset original view', 'home', 'home'), ('Back', 'Back to previous …"
      ]
     },
     "metadata": {},
     "output_type": "display_data"
    },
    {
     "data": {
      "application/vnd.jupyter.widget-view+json": {
       "model_id": "4cfe1c53392b4db8b0899f810cbca822",
       "version_major": 2,
       "version_minor": 0
      },
      "text/plain": [
       "Canvas(toolbar=Toolbar(toolitems=[('Home', 'Reset original view', 'home', 'home'), ('Back', 'Back to previous …"
      ]
     },
     "metadata": {},
     "output_type": "display_data"
    },
    {
     "data": {
      "application/vnd.jupyter.widget-view+json": {
       "model_id": "209ecc5edd7d4372b5a21421f42cca5f",
       "version_major": 2,
       "version_minor": 0
      },
      "text/plain": [
       "Canvas(toolbar=Toolbar(toolitems=[('Home', 'Reset original view', 'home', 'home'), ('Back', 'Back to previous …"
      ]
     },
     "metadata": {},
     "output_type": "display_data"
    },
    {
     "data": {
      "application/vnd.jupyter.widget-view+json": {
       "model_id": "bc2e8346ec004b65ae677dc276b6a47a",
       "version_major": 2,
       "version_minor": 0
      },
      "text/plain": [
       "Canvas(toolbar=Toolbar(toolitems=[('Home', 'Reset original view', 'home', 'home'), ('Back', 'Back to previous …"
      ]
     },
     "metadata": {},
     "output_type": "display_data"
    },
    {
     "data": {
      "application/vnd.jupyter.widget-view+json": {
       "model_id": "05fd158ec96444a6aa12059b380efaf5",
       "version_major": 2,
       "version_minor": 0
      },
      "text/plain": [
       "Canvas(toolbar=Toolbar(toolitems=[('Home', 'Reset original view', 'home', 'home'), ('Back', 'Back to previous …"
      ]
     },
     "metadata": {},
     "output_type": "display_data"
    }
   ],
   "source": [
    "plt.close('all')\n",
    "band='delta'\n",
    "spg = a2x3['bfspg']\n",
    "chans = [10,12,14,16]\n",
    "for chan in chans:\n",
    "    b, s = kp.plot_spectrogram_with_bandpower(spg, bands_def, band, hyp=None, channel=chan, start_time=0, end_time=43200, title=band.capitalize()+\" Power, LFP-\"+str(chan)+\", ACHR_2, Experiment-3 Baseline\")\n",
    "    #b.set_ylim(0, 10000)\n",
    "    b.axvspan(\n",
    "            43200,\n",
    "            86400,\n",
    "            alpha=0.3,\n",
    "            color='midnightblue',\n",
    "            zorder=1000,\n",
    "            ec=\"none\",\n",
    "        )"
   ]
  },
  {
   "cell_type": "code",
   "execution_count": 50,
   "id": "3cf0a3c0",
   "metadata": {},
   "outputs": [
    {
     "data": {
      "application/vnd.jupyter.widget-view+json": {
       "model_id": "4d7605b9f70c4e97a462ed966d7ba95c",
       "version_major": 2,
       "version_minor": 0
      },
      "text/plain": [
       "Canvas(toolbar=Toolbar(toolitems=[('Home', 'Reset original view', 'home', 'home'), ('Back', 'Back to previous …"
      ]
     },
     "metadata": {},
     "output_type": "display_data"
    },
    {
     "data": {
      "text/plain": [
       "(0.0, 1000.0)"
      ]
     },
     "execution_count": 50,
     "metadata": {},
     "output_type": "execute_result"
    }
   ],
   "source": [
    "bands2 = dict(delta=(0.5, 4), theta=(4, 8), sigma=(11,16), beta = (13, 20), low_gamma = (40, 55), high_gamma = (65, 80), zeta=(130,300))\n",
    "f, a = plot_bp_set(tspg, bands=bands2, hyp=None, channel=1, start_time=0, end_time=tspg.time.max(), ss=2, figsize=(20,18), title='')\n",
    "a[6].set_ylim(0,1000)"
   ]
  },
  {
   "cell_type": "code",
   "execution_count": null,
   "id": "119e1cf2",
   "metadata": {},
   "outputs": [],
   "source": []
  }
 ],
 "metadata": {
  "interpreter": {
   "hash": "8b4e5f83c5c43fbba261d328a2df1f0567bfa5b389d8ccfa34ce3cfd2f216fff"
  },
  "kernelspec": {
   "display_name": "Python 3.9.7 64-bit ('ecephys_t2': conda)",
   "name": "python3"
  },
  "language_info": {
   "codemirror_mode": {
    "name": "ipython",
    "version": 3
   },
   "file_extension": ".py",
   "mimetype": "text/x-python",
   "name": "python",
   "nbconvert_exporter": "python",
   "pygments_lexer": "ipython3",
   "version": "3.9.7"
  }
 },
 "nbformat": 4,
 "nbformat_minor": 5
}
