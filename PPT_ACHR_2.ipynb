{
 "cells": [
  {
   "cell_type": "markdown",
   "id": "65af1bf9",
   "metadata": {
    "tags": []
   },
   "source": [
    "# PPT_ACHR_2"
   ]
  },
  {
   "cell_type": "code",
   "execution_count": 1,
   "id": "eecf1bff",
   "metadata": {
    "execution": {
     "iopub.execute_input": "2021-10-17T01:39:35.987671Z",
     "iopub.status.busy": "2021-10-17T01:39:35.987671Z",
     "iopub.status.idle": "2021-10-17T01:39:38.208901Z",
     "shell.execute_reply": "2021-10-17T01:39:38.207898Z",
     "shell.execute_reply.started": "2021-10-17T01:39:35.987671Z"
    },
    "tags": []
   },
   "outputs": [],
   "source": [
    "%matplotlib widget\n",
    "%reload_ext autoreload\n",
    "%autoreload 2\n",
    "\n",
    "import numpy as np\n",
    "import scipy\n",
    "import pandas as pd\n",
    "import tdt\n",
    "from pathlib import Path\n",
    "import matplotlib.pyplot as plt\n",
    "import seaborn as sns\n",
    "import xarray as xr\n",
    "import yaml\n",
    "import re\n",
    "\n",
    "import hypnogram as hp\n",
    "from ecephys.utils import replace_outliers\n",
    "import ecephys.plot as eplt\n",
    "import ecephys.signal.timefrequency as tfr\n",
    "import ecephys.signal.kd_utils as kd\n",
    "import ecephys.signal.kd_plotting as kp\n",
    "import ecephys.signal.kd_pax as kpx\n",
    "import tdt_xarray as tx\n",
    "\n",
    "bands_def = dict(delta=(0.5, 4.1), theta=(4.1, 8), sigma=(11,16), beta = (13, 20), low_gamma = (40, 55), high_gamma = (65, 80))\n",
    "\n",
    "kd_ref = {}\n",
    "kd_ref['echans'] = [1,2,3]\n",
    "kd_ref['fchans']=[1,2,3,4,5,6,7,8,9,10,11,12,13,14,15,16]\n",
    "kd_ref['analysis_root'] = Path(r\"L:\\Data\\ACHR_PROJECT_MATERIALS\\PPT_ACHR_2\\analysis_data\")\n",
    "kd_ref['tank_root'] = Path(r\"L:\\Data\\PPT_ACHR_2_TANK\")"
   ]
  },
  {
   "cell_type": "markdown",
   "id": "fce00879",
   "metadata": {
    "tags": []
   },
   "source": [
    "# Test-a1"
   ]
  },
  {
   "cell_type": "code",
   "execution_count": 2,
   "id": "1dec46f7",
   "metadata": {
    "execution": {
     "iopub.execute_input": "2021-10-17T01:39:39.623976Z",
     "iopub.status.busy": "2021-10-17T01:39:39.623976Z",
     "iopub.status.idle": "2021-10-17T01:39:39.741066Z",
     "shell.execute_reply": "2021-10-17T01:39:39.740064Z",
     "shell.execute_reply.started": "2021-10-17T01:39:39.623976Z"
    },
    "tags": []
   },
   "outputs": [],
   "source": [
    "a1p = \"L:\\Data\\ACHR_2_TANK\\ACHR_2-test-a1\""
   ]
  },
  {
   "cell_type": "code",
   "execution_count": 3,
   "id": "84127819",
   "metadata": {
    "execution": {
     "iopub.execute_input": "2021-10-17T01:39:42.455030Z",
     "iopub.status.busy": "2021-10-17T01:39:42.454031Z",
     "iopub.status.idle": "2021-10-17T01:43:01.942442Z",
     "shell.execute_reply": "2021-10-17T01:43:01.941441Z",
     "shell.execute_reply.started": "2021-10-17T01:39:42.454031Z"
    }
   },
   "outputs": [
    {
     "name": "stdout",
     "output_type": "stream",
     "text": [
      "read from t=0s to t=52197.43s\n",
      "Using 1017.2526 Hz as SEV sampling rate for EEGr\n",
      "Remember to save all data in xset-style dictionary, and to add experiment name key (key = \"name\") before using save_xset\n",
      "read from t=0s to t=52197.43s\n",
      "Using 1017.2526 Hz as SEV sampling rate for EEG_\n",
      "Remember to save all data in xset-style dictionary, and to add experiment name key (key = \"name\") before using save_xset\n",
      "read from t=0s to t=52197.43s\n",
      "Using 1017.2526 Hz as SEV sampling rate for LFP_\n",
      "Remember to save all data in xset-style dictionary, and to add experiment name key (key = \"name\") before using save_xset\n"
     ]
    }
   ],
   "source": [
    "a2a1 = {}\n",
    "a2a1['er'], a2a1['er_spg'] = kd.get_data_spg(a1p, store='EEGr', t1=0, t2=0, channel=kd_ref['echans'])\n",
    "a2a1['e'], a2a1['e_spg'] = kd.get_data_spg(a1p, store='EEG_', t1=0, t2=0, channel=kd_ref['echans'])\n",
    "a2a1['f'], a2a1['f_spg'] = kd.get_data_spg(a1p, store='LFP_', t1=0, t2=0, channel=kd_ref['fchans'])"
   ]
  },
  {
   "cell_type": "code",
   "execution_count": 4,
   "id": "5dcdc22b",
   "metadata": {
    "execution": {
     "iopub.execute_input": "2021-10-17T01:43:01.943443Z",
     "iopub.status.busy": "2021-10-17T01:43:01.943443Z",
     "iopub.status.idle": "2021-10-17T01:43:05.452678Z",
     "shell.execute_reply": "2021-10-17T01:43:05.452217Z",
     "shell.execute_reply.started": "2021-10-17T01:43:01.943443Z"
    },
    "tags": []
   },
   "outputs": [
    {
     "data": {
      "application/vnd.jupyter.widget-view+json": {
       "model_id": "3bcacc5beca84b89b349d5d9fc0aed28",
       "version_major": 2,
       "version_minor": 0
      },
      "text/plain": [
       "Canvas(toolbar=Toolbar(toolitems=[('Home', 'Reset original view', 'home', 'home'), ('Back', 'Back to previous …"
      ]
     },
     "metadata": {},
     "output_type": "display_data"
    },
    {
     "data": {
      "application/vnd.jupyter.widget-view+json": {
       "model_id": "643fbc9687c645618e24aa5c29686694",
       "version_major": 2,
       "version_minor": 0
      },
      "text/plain": [
       "Canvas(toolbar=Toolbar(toolitems=[('Home', 'Reset original view', 'home', 'home'), ('Back', 'Back to previous …"
      ]
     },
     "metadata": {},
     "output_type": "display_data"
    },
    {
     "data": {
      "application/vnd.jupyter.widget-view+json": {
       "model_id": "4adce581aa4649cead181247c3e6b857",
       "version_major": 2,
       "version_minor": 0
      },
      "text/plain": [
       "Canvas(toolbar=Toolbar(toolitems=[('Home', 'Reset original view', 'home', 'home'), ('Back', 'Back to previous …"
      ]
     },
     "metadata": {},
     "output_type": "display_data"
    }
   ],
   "source": [
    "band='delta'\n",
    "chans = [1,2,3]\n",
    "for chan in chans:\n",
    "    b, s = kp.plot_spectrogram_with_bandpower(a2a1['e_spg'], bands_def, band, hyp=None, channel=chan, start_time=0, end_time=a2a1['e_spg'].time.max(), title=band.capitalize()+\" Power, Raw EEG-\"+str(chan)+\", ACHR_2 Recording\")\n",
    "    #b.set_ylim(0, 300000)"
   ]
  },
  {
   "cell_type": "code",
   "execution_count": 5,
   "id": "a230383a",
   "metadata": {},
   "outputs": [
    {
     "data": {
      "application/vnd.jupyter.widget-view+json": {
       "model_id": "1ce886a87f654a98b66cc2768cbec016",
       "version_major": 2,
       "version_minor": 0
      },
      "text/plain": [
       "Canvas(toolbar=Toolbar(toolitems=[('Home', 'Reset original view', 'home', 'home'), ('Back', 'Back to previous …"
      ]
     },
     "metadata": {},
     "output_type": "display_data"
    }
   ],
   "source": [
    "band = 'delta'\n",
    "chan = 1\n",
    "b, s = kp.plot_spectrogram_with_bandpower(a2a1['e_spg'], bands_def, band, hyp=None, channel=1, start_time=0, end_time=a2a1['e_spg'].time.max(), title=band.capitalize()+\" Power, Raw EEG-\"+str(chan)+\", ACHR_2 Recording\")"
   ]
  },
  {
   "cell_type": "code",
   "execution_count": 5,
   "id": "18bf7a8e-b63a-4a90-bccd-bef9c9e68055",
   "metadata": {
    "execution": {
     "iopub.execute_input": "2021-10-17T01:45:08.307227Z",
     "iopub.status.busy": "2021-10-17T01:45:08.307227Z",
     "iopub.status.idle": "2021-10-17T01:45:11.559126Z",
     "shell.execute_reply": "2021-10-17T01:45:11.559126Z",
     "shell.execute_reply.started": "2021-10-17T01:45:08.307227Z"
    },
    "tags": []
   },
   "outputs": [
    {
     "data": {
      "application/vnd.jupyter.widget-view+json": {
       "model_id": "17f47e9591cb491dbdde5bdc0853fada",
       "version_major": 2,
       "version_minor": 0
      },
      "text/plain": [
       "Canvas(toolbar=Toolbar(toolitems=[('Home', 'Reset original view', 'home', 'home'), ('Back', 'Back to previous …"
      ]
     },
     "metadata": {},
     "output_type": "display_data"
    },
    {
     "data": {
      "application/vnd.jupyter.widget-view+json": {
       "model_id": "39ce46d6bfb94fa29b5fb332873c8484",
       "version_major": 2,
       "version_minor": 0
      },
      "text/plain": [
       "Canvas(toolbar=Toolbar(toolitems=[('Home', 'Reset original view', 'home', 'home'), ('Back', 'Back to previous …"
      ]
     },
     "metadata": {},
     "output_type": "display_data"
    },
    {
     "data": {
      "application/vnd.jupyter.widget-view+json": {
       "model_id": "2cf07a5e45ae42ffb441a19b019acb5b",
       "version_major": 2,
       "version_minor": 0
      },
      "text/plain": [
       "Canvas(toolbar=Toolbar(toolitems=[('Home', 'Reset original view', 'home', 'home'), ('Back', 'Back to previous …"
      ]
     },
     "metadata": {},
     "output_type": "display_data"
    }
   ],
   "source": [
    "band='delta'\n",
    "chans = [1,2,3]\n",
    "for chan in chans:\n",
    "    b, s = kp.plot_spectrogram_with_bandpower(a2a1['e_spg'], bands_def, band, hyp=None, channel=chan, start_time=0, end_time=a2a1['e_spg'].time.max(), title=band.capitalize()+\" Power, Raw EEG-\"+str(chan)+\", ACHR_2 Recording\")\n",
    "    #b.set_ylim(0, 300000)"
   ]
  },
  {
   "cell_type": "code",
   "execution_count": 7,
   "id": "3669c3c8-7732-484d-9173-2a31353d52ba",
   "metadata": {
    "execution": {
     "iopub.execute_input": "2021-10-17T01:52:35.064696Z",
     "iopub.status.busy": "2021-10-17T01:52:35.064696Z",
     "iopub.status.idle": "2021-10-17T01:52:52.985868Z",
     "shell.execute_reply": "2021-10-17T01:52:52.984867Z",
     "shell.execute_reply.started": "2021-10-17T01:52:35.064696Z"
    },
    "tags": []
   },
   "outputs": [
    {
     "data": {
      "application/vnd.jupyter.widget-view+json": {
       "model_id": "21fb692853db41c49b9c98b9103b7861",
       "version_major": 2,
       "version_minor": 0
      },
      "text/plain": [
       "Canvas(toolbar=Toolbar(toolitems=[('Home', 'Reset original view', 'home', 'home'), ('Back', 'Back to previous …"
      ]
     },
     "metadata": {},
     "output_type": "display_data"
    },
    {
     "data": {
      "application/vnd.jupyter.widget-view+json": {
       "model_id": "be51857e19b1469a84d412cb1cf156a5",
       "version_major": 2,
       "version_minor": 0
      },
      "text/plain": [
       "Canvas(toolbar=Toolbar(toolitems=[('Home', 'Reset original view', 'home', 'home'), ('Back', 'Back to previous …"
      ]
     },
     "metadata": {},
     "output_type": "display_data"
    },
    {
     "data": {
      "application/vnd.jupyter.widget-view+json": {
       "model_id": "b23cdc777183414396c1e44111023e2f",
       "version_major": 2,
       "version_minor": 0
      },
      "text/plain": [
       "Canvas(toolbar=Toolbar(toolitems=[('Home', 'Reset original view', 'home', 'home'), ('Back', 'Back to previous …"
      ]
     },
     "metadata": {},
     "output_type": "display_data"
    },
    {
     "data": {
      "application/vnd.jupyter.widget-view+json": {
       "model_id": "3269f246811c4131999b6853190a1250",
       "version_major": 2,
       "version_minor": 0
      },
      "text/plain": [
       "Canvas(toolbar=Toolbar(toolitems=[('Home', 'Reset original view', 'home', 'home'), ('Back', 'Back to previous …"
      ]
     },
     "metadata": {},
     "output_type": "display_data"
    },
    {
     "data": {
      "application/vnd.jupyter.widget-view+json": {
       "model_id": "e7dfd56db0894afea839406bcda98d5d",
       "version_major": 2,
       "version_minor": 0
      },
      "text/plain": [
       "Canvas(toolbar=Toolbar(toolitems=[('Home', 'Reset original view', 'home', 'home'), ('Back', 'Back to previous …"
      ]
     },
     "metadata": {},
     "output_type": "display_data"
    },
    {
     "data": {
      "application/vnd.jupyter.widget-view+json": {
       "model_id": "6081fba17bba42a88ccace4542c73b5d",
       "version_major": 2,
       "version_minor": 0
      },
      "text/plain": [
       "Canvas(toolbar=Toolbar(toolitems=[('Home', 'Reset original view', 'home', 'home'), ('Back', 'Back to previous …"
      ]
     },
     "metadata": {},
     "output_type": "display_data"
    },
    {
     "data": {
      "application/vnd.jupyter.widget-view+json": {
       "model_id": "885e126e95524d7799ed04269feaff35",
       "version_major": 2,
       "version_minor": 0
      },
      "text/plain": [
       "Canvas(toolbar=Toolbar(toolitems=[('Home', 'Reset original view', 'home', 'home'), ('Back', 'Back to previous …"
      ]
     },
     "metadata": {},
     "output_type": "display_data"
    },
    {
     "data": {
      "application/vnd.jupyter.widget-view+json": {
       "model_id": "d3a2279ca8ec4cb8aa7b6031f240bf73",
       "version_major": 2,
       "version_minor": 0
      },
      "text/plain": [
       "Canvas(toolbar=Toolbar(toolitems=[('Home', 'Reset original view', 'home', 'home'), ('Back', 'Back to previous …"
      ]
     },
     "metadata": {},
     "output_type": "display_data"
    },
    {
     "data": {
      "application/vnd.jupyter.widget-view+json": {
       "model_id": "d7f4e97f0c9f4e7da45849114867ac3b",
       "version_major": 2,
       "version_minor": 0
      },
      "text/plain": [
       "Canvas(toolbar=Toolbar(toolitems=[('Home', 'Reset original view', 'home', 'home'), ('Back', 'Back to previous …"
      ]
     },
     "metadata": {},
     "output_type": "display_data"
    },
    {
     "data": {
      "application/vnd.jupyter.widget-view+json": {
       "model_id": "35acc5ba1f204716a74a637dfaa41bfa",
       "version_major": 2,
       "version_minor": 0
      },
      "text/plain": [
       "Canvas(toolbar=Toolbar(toolitems=[('Home', 'Reset original view', 'home', 'home'), ('Back', 'Back to previous …"
      ]
     },
     "metadata": {},
     "output_type": "display_data"
    },
    {
     "data": {
      "application/vnd.jupyter.widget-view+json": {
       "model_id": "aabf44e6d6084da783c58478498aed0d",
       "version_major": 2,
       "version_minor": 0
      },
      "text/plain": [
       "Canvas(toolbar=Toolbar(toolitems=[('Home', 'Reset original view', 'home', 'home'), ('Back', 'Back to previous …"
      ]
     },
     "metadata": {},
     "output_type": "display_data"
    },
    {
     "name": "stderr",
     "output_type": "stream",
     "text": [
      "c:\\users\\driessen2\\documents\\github\\ecephys\\ecephys\\signal\\kd_plotting.py:32: RuntimeWarning: More than 20 figures have been opened. Figures created through the pyplot interface (`matplotlib.pyplot.figure`) are retained until explicitly closed and may consume too much memory. (To control this warning, see the rcParam `figure.max_open_warning`).\n",
      "  fig, (bp_ax, spg_ax) = plt.subplots(\n"
     ]
    },
    {
     "data": {
      "application/vnd.jupyter.widget-view+json": {
       "model_id": "8c8ea3baca9e48929ae123752407ff87",
       "version_major": 2,
       "version_minor": 0
      },
      "text/plain": [
       "Canvas(toolbar=Toolbar(toolitems=[('Home', 'Reset original view', 'home', 'home'), ('Back', 'Back to previous …"
      ]
     },
     "metadata": {},
     "output_type": "display_data"
    },
    {
     "data": {
      "application/vnd.jupyter.widget-view+json": {
       "model_id": "782f52fcc24a4c96a5abbc91524d30fe",
       "version_major": 2,
       "version_minor": 0
      },
      "text/plain": [
       "Canvas(toolbar=Toolbar(toolitems=[('Home', 'Reset original view', 'home', 'home'), ('Back', 'Back to previous …"
      ]
     },
     "metadata": {},
     "output_type": "display_data"
    },
    {
     "data": {
      "application/vnd.jupyter.widget-view+json": {
       "model_id": "d6e7228632de4a35b85d66998251fe65",
       "version_major": 2,
       "version_minor": 0
      },
      "text/plain": [
       "Canvas(toolbar=Toolbar(toolitems=[('Home', 'Reset original view', 'home', 'home'), ('Back', 'Back to previous …"
      ]
     },
     "metadata": {},
     "output_type": "display_data"
    },
    {
     "data": {
      "application/vnd.jupyter.widget-view+json": {
       "model_id": "a912c6fdbfa14239a00278ebeff8dbac",
       "version_major": 2,
       "version_minor": 0
      },
      "text/plain": [
       "Canvas(toolbar=Toolbar(toolitems=[('Home', 'Reset original view', 'home', 'home'), ('Back', 'Back to previous …"
      ]
     },
     "metadata": {},
     "output_type": "display_data"
    },
    {
     "data": {
      "application/vnd.jupyter.widget-view+json": {
       "model_id": "0ca315bf996e4b38968e9aba1e4d5bba",
       "version_major": 2,
       "version_minor": 0
      },
      "text/plain": [
       "Canvas(toolbar=Toolbar(toolitems=[('Home', 'Reset original view', 'home', 'home'), ('Back', 'Back to previous …"
      ]
     },
     "metadata": {},
     "output_type": "display_data"
    }
   ],
   "source": [
    "band='delta'\n",
    "chans = kd_ref['fchans']\n",
    "for chan in chans:\n",
    "    b, s = kp.plot_spectrogram_with_bandpower(a2a1['f_spg'], bands_def, band, hyp=None, channel=chan, start_time=0, end_time=a2a1['f_spg'].time.max(), title=band.capitalize()+\" Power, Filtered LFP-\"+str(chan)+\", ACHR_2 Recording\")\n",
    "    #b.set_ylim(0, 300000)"
   ]
  }
 ],
 "metadata": {
  "interpreter": {
   "hash": "f43608876f49eb59662039e914f1622581ce242a9f40390c01ad83dbb0e66dc9"
  },
  "kernelspec": {
   "display_name": "Python 3 (ipykernel)",
   "language": "python",
   "name": "python3"
  },
  "language_info": {
   "codemirror_mode": {
    "name": "ipython",
    "version": 3
   },
   "file_extension": ".py",
   "mimetype": "text/x-python",
   "name": "python",
   "nbconvert_exporter": "python",
   "pygments_lexer": "ipython3",
   "version": "3.9.6"
  }
 },
 "nbformat": 4,
 "nbformat_minor": 5
}
