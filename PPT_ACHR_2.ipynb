{
 "cells": [
  {
   "cell_type": "markdown",
   "id": "65af1bf9",
   "metadata": {
    "tags": []
   },
   "source": [
    "# PPT_ACHR_2"
   ]
  },
  {
   "cell_type": "code",
   "execution_count": 7,
   "id": "eecf1bff",
   "metadata": {
    "execution": {
     "iopub.execute_input": "2021-10-17T01:39:35.987671Z",
     "iopub.status.busy": "2021-10-17T01:39:35.987671Z",
     "iopub.status.idle": "2021-10-17T01:39:38.208901Z",
     "shell.execute_reply": "2021-10-17T01:39:38.207898Z",
     "shell.execute_reply.started": "2021-10-17T01:39:35.987671Z"
    },
    "tags": []
   },
   "outputs": [],
   "source": [
    "%matplotlib widget\n",
    "%reload_ext autoreload\n",
    "%autoreload 2\n",
    "\n",
    "import numpy as np\n",
    "import scipy\n",
    "import pandas as pd\n",
    "import tdt\n",
    "from pathlib import Path\n",
    "import matplotlib.pyplot as plt\n",
    "import seaborn as sns\n",
    "import xarray as xr\n",
    "import yaml\n",
    "import re\n",
    "\n",
    "import hypnogram as hp\n",
    "from ecephys.utils import replace_outliers\n",
    "import ecephys.plot as eplt\n",
    "import ecephys.signal.timefrequency as tfr\n",
    "import ecephys.signal.kd_utils as kd\n",
    "import ecephys.signal.kd_plotting as kp\n",
    "import ecephys.signal.kd_pax as kpx\n",
    "import tdt_xarray as tx\n",
    "\n",
    "bands_def = dict(delta=(0.5, 4.1), theta=(4.1, 8), sigma=(11,16), beta = (13, 20), low_gamma = (40, 55), high_gamma = (65, 80))\n",
    "\n",
    "kd_ref = {}\n",
    "kd_ref['echans'] = [1,2,3]\n",
    "kd_ref['fchans']=[1,2,3,4,5,6,7,8,9,10,11,12,13,14,15,16]\n",
    "kd_ref['analysis_root'] = Path(r\"L:\\Data\\ACHR_PROJECT_MATERIALS\\PPT_ACHR_2\\analysis_data\")\n",
    "kd_ref['tank_root'] = Path(r\"L:\\Data\\PPT_ACHR_2_TANK\")"
   ]
  },
  {
   "cell_type": "markdown",
   "id": "fce00879",
   "metadata": {
    "tags": []
   },
   "source": [
    "# Test-a1"
   ]
  },
  {
   "cell_type": "code",
   "execution_count": 2,
   "id": "1dec46f7",
   "metadata": {
    "execution": {
     "iopub.execute_input": "2021-10-17T01:39:39.623976Z",
     "iopub.status.busy": "2021-10-17T01:39:39.623976Z",
     "iopub.status.idle": "2021-10-17T01:39:39.741066Z",
     "shell.execute_reply": "2021-10-17T01:39:39.740064Z",
     "shell.execute_reply.started": "2021-10-17T01:39:39.623976Z"
    },
    "tags": []
   },
   "outputs": [],
   "source": [
    "a1p = \"L:\\Data\\ACHR_2_TANK\\ACHR_2-test-a1\"\n",
    "a2p = \"L:\\Data\\ACHR_2_TANK\\ACHR_2-test-a2\"\n",
    "a3p = \"L:\\Data\\ACHR_2_TANK\\ACHR_2-test-a3\"\n",
    "a4p = \"L:\\Data\\ACHR_2_TANK\\ACHR_2-test-a4\"\n",
    "a5p = \"L:\\Data\\ACHR_2_TANK\\ACHR_2-test-a5\""
   ]
  },
  {
   "cell_type": "code",
   "execution_count": null,
   "metadata": {},
   "outputs": [],
   "source": [
    "a2a1 = {}\n",
    "a2a2 = {}\n",
    "a2a3 = {}\n",
    "a2a4 = {}\n",
    "a2a5 = {}"
   ]
  },
  {
   "cell_type": "code",
   "execution_count": 3,
   "id": "84127819",
   "metadata": {
    "execution": {
     "iopub.execute_input": "2021-10-17T01:39:42.455030Z",
     "iopub.status.busy": "2021-10-17T01:39:42.454031Z",
     "iopub.status.idle": "2021-10-17T01:43:01.942442Z",
     "shell.execute_reply": "2021-10-17T01:43:01.941441Z",
     "shell.execute_reply.started": "2021-10-17T01:39:42.454031Z"
    }
   },
   "outputs": [
    {
     "name": "stdout",
     "output_type": "stream",
     "text": [
      "read from t=0s to t=52197.43s\n",
      "Using 1017.2526 Hz as SEV sampling rate for EEGr\n",
      "Remember to save all data in xset-style dictionary, and to add experiment name key (key = \"name\") before using save_xset\n",
      "read from t=0s to t=52197.43s\n",
      "Using 1017.2526 Hz as SEV sampling rate for EEG_\n",
      "Remember to save all data in xset-style dictionary, and to add experiment name key (key = \"name\") before using save_xset\n",
      "read from t=0s to t=52197.43s\n",
      "Using 1017.2526 Hz as SEV sampling rate for LFP_\n",
      "Remember to save all data in xset-style dictionary, and to add experiment name key (key = \"name\") before using save_xset\n"
     ]
    }
   ],
   "source": [
    "a2a1 = {}\n",
    "a2a1['er'], a2a1['er_spg'] = kd.get_data_spg(a1p, store='EEGr', t1=0, t2=0, channel=kd_ref['echans'])\n",
    "a2a1['e'], a2a1['e_spg'] = kd.get_data_spg(a1p, store='EEG_', t1=0, t2=0, channel=kd_ref['echans'])\n",
    "a2a1['f'], a2a1['f_spg'] = kd.get_data_spg(a1p, store='LFP_', t1=0, t2=0, channel=kd_ref['fchans'])"
   ]
  },
  {
   "cell_type": "code",
   "execution_count": 6,
   "id": "5dcdc22b",
   "metadata": {
    "execution": {
     "iopub.execute_input": "2021-10-17T01:43:01.943443Z",
     "iopub.status.busy": "2021-10-17T01:43:01.943443Z",
     "iopub.status.idle": "2021-10-17T01:43:05.452678Z",
     "shell.execute_reply": "2021-10-17T01:43:05.452217Z",
     "shell.execute_reply.started": "2021-10-17T01:43:01.943443Z"
    },
    "tags": []
   },
   "outputs": [
    {
     "data": {
      "application/vnd.jupyter.widget-view+json": {
       "model_id": "284c634e936b40c69ea3a8f6f5afad67",
       "version_major": 2,
       "version_minor": 0
      },
      "text/plain": [
       "Canvas(toolbar=Toolbar(toolitems=[('Home', 'Reset original view', 'home', 'home'), ('Back', 'Back to previous …"
      ]
     },
     "metadata": {},
     "output_type": "display_data"
    },
    {
     "data": {
      "application/vnd.jupyter.widget-view+json": {
       "model_id": "8a63e450d8dd43c58804af98451420b7",
       "version_major": 2,
       "version_minor": 0
      },
      "text/plain": [
       "Canvas(toolbar=Toolbar(toolitems=[('Home', 'Reset original view', 'home', 'home'), ('Back', 'Back to previous …"
      ]
     },
     "metadata": {},
     "output_type": "display_data"
    },
    {
     "data": {
      "application/vnd.jupyter.widget-view+json": {
       "model_id": "bcc7fd723dc141b1bbe735a4c7e1eb1d",
       "version_major": 2,
       "version_minor": 0
      },
      "text/plain": [
       "Canvas(toolbar=Toolbar(toolitems=[('Home', 'Reset original view', 'home', 'home'), ('Back', 'Back to previous …"
      ]
     },
     "metadata": {},
     "output_type": "display_data"
    }
   ],
   "source": [
    "band='sigma'\n",
    "chans = [1,2,3]\n",
    "for chan in chans:\n",
    "    b, s = kp.plot_spectrogram_with_bandpower(a2a1['e_spg'], bands_def, band, hyp=None, channel=chan, start_time=0, end_time=a2a1['e_spg'].time.max(), title=band.capitalize()+\" Power, Raw EEG-\"+str(chan)+\", ACHR_2 Recording\")\n",
    "    #b.set_ylim(0, 300000)"
   ]
  },
  {
   "cell_type": "code",
   "execution_count": 31,
   "metadata": {},
   "outputs": [
    {
     "ename": "NameError",
     "evalue": "name 'test' is not defined",
     "output_type": "error",
     "traceback": [
      "\u001b[1;31m---------------------------------------------------------------------------\u001b[0m",
      "\u001b[1;31mNameError\u001b[0m                                 Traceback (most recent call last)",
      "\u001b[1;32mC:\\Users\\DRIESS~1\\AppData\\Local\\Temp/ipykernel_66924/271365407.py\u001b[0m in \u001b[0;36m<module>\u001b[1;34m\u001b[0m\n\u001b[1;32m----> 1\u001b[1;33m \u001b[1;32mdef\u001b[0m \u001b[0mcomp_psd\u001b[0m\u001b[1;33m(\u001b[0m\u001b[0mspg1\u001b[0m\u001b[1;33m,\u001b[0m \u001b[0mspg2\u001b[0m\u001b[1;33m,\u001b[0m \u001b[0mmedian\u001b[0m\u001b[1;33m=\u001b[0m\u001b[1;32mTrue\u001b[0m\u001b[1;33m,\u001b[0m \u001b[0mkeys\u001b[0m\u001b[1;33m=\u001b[0m\u001b[0mkeys\u001b[0m\u001b[1;33m,\u001b[0m \u001b[0mtest\u001b[0m\u001b[1;33m=\u001b[0m\u001b[0mtest\u001b[0m\u001b[1;33m)\u001b[0m\u001b[1;33m:\u001b[0m\u001b[1;33m\u001b[0m\u001b[1;33m\u001b[0m\u001b[0m\n\u001b[0m\u001b[0;32m      2\u001b[0m     \u001b[0mpsd1\u001b[0m \u001b[1;33m=\u001b[0m \u001b[0mspg1\u001b[0m\u001b[1;33m.\u001b[0m\u001b[0mmedian\u001b[0m\u001b[1;33m(\u001b[0m\u001b[0mdim\u001b[0m\u001b[1;33m=\u001b[0m\u001b[1;34m'time'\u001b[0m\u001b[1;33m)\u001b[0m\u001b[1;33m\u001b[0m\u001b[1;33m\u001b[0m\u001b[0m\n\u001b[0;32m      3\u001b[0m     \u001b[0mpsd2\u001b[0m \u001b[1;33m=\u001b[0m \u001b[0mspg2\u001b[0m\u001b[1;33m.\u001b[0m\u001b[0mmedian\u001b[0m\u001b[1;33m(\u001b[0m\u001b[0mdim\u001b[0m\u001b[1;33m=\u001b[0m\u001b[1;34m'time'\u001b[0m\u001b[1;33m)\u001b[0m\u001b[1;33m\u001b[0m\u001b[1;33m\u001b[0m\u001b[0m\n\u001b[0;32m      4\u001b[0m     \u001b[1;32mif\u001b[0m \u001b[0mmedian\u001b[0m \u001b[1;32mis\u001b[0m \u001b[1;32mnot\u001b[0m \u001b[1;32mTrue\u001b[0m\u001b[1;33m:\u001b[0m\u001b[1;33m\u001b[0m\u001b[1;33m\u001b[0m\u001b[0m\n\u001b[0;32m      5\u001b[0m         \u001b[0mpsd1\u001b[0m \u001b[1;33m=\u001b[0m \u001b[0mspg1\u001b[0m\u001b[1;33m.\u001b[0m\u001b[0mmean\u001b[0m\u001b[1;33m(\u001b[0m\u001b[0mdim\u001b[0m\u001b[1;33m=\u001b[0m\u001b[1;34m'time'\u001b[0m\u001b[1;33m)\u001b[0m\u001b[1;33m\u001b[0m\u001b[1;33m\u001b[0m\u001b[0m\n",
      "\u001b[1;31mNameError\u001b[0m: name 'test' is not defined"
     ]
    }
   ],
   "source": [
    "keys = ['EEG-filtered', 'EEG-raw']\n",
    "test = 'Recording-Config'\n",
    "def comp_psd(spg1, spg2, median=True, keys=keys, test=test):\n",
    "    psd1 = spg1.median(dim='time')\n",
    "    psd2 = spg2.median(dim='time')\n",
    "    if median is not True: \n",
    "        psd1 = spg1.mean(dim='time')\n",
    "        psd2 = spg2.mean(dim='time')\n",
    "    \n",
    "    "
   ]
  },
  {
   "cell_type": "code",
   "execution_count": 30,
   "metadata": {},
   "outputs": [],
   "source": [
    "keys = ['EEG-filtered', 'EEG-raw']"
   ]
  },
  {
   "cell_type": "code",
   "execution_count": 12,
   "metadata": {},
   "outputs": [],
   "source": [
    "p1, p2 = comp_psd(a2a1['e_spg'], a2a1['er_spg'])"
   ]
  },
  {
   "cell_type": "code",
   "execution_count": 20,
   "metadata": {},
   "outputs": [],
   "source": [
    "pdf = pd.concat([p1.to_dataframe('power'), p2.to_dataframe('power')], keys=keys).rename_axis(index={None: 'Recording-Config'})"
   ]
  },
  {
   "cell_type": "code",
   "execution_count": 21,
   "metadata": {},
   "outputs": [
    {
     "data": {
      "text/html": [
       "<div>\n",
       "<style scoped>\n",
       "    .dataframe tbody tr th:only-of-type {\n",
       "        vertical-align: middle;\n",
       "    }\n",
       "\n",
       "    .dataframe tbody tr th {\n",
       "        vertical-align: top;\n",
       "    }\n",
       "\n",
       "    .dataframe thead th {\n",
       "        text-align: right;\n",
       "    }\n",
       "</style>\n",
       "<table border=\"1\" class=\"dataframe\">\n",
       "  <thead>\n",
       "    <tr style=\"text-align: right;\">\n",
       "      <th></th>\n",
       "      <th></th>\n",
       "      <th></th>\n",
       "      <th>power</th>\n",
       "    </tr>\n",
       "    <tr>\n",
       "      <th>Recording-Config</th>\n",
       "      <th>frequency</th>\n",
       "      <th>channel</th>\n",
       "      <th></th>\n",
       "    </tr>\n",
       "  </thead>\n",
       "  <tbody>\n",
       "    <tr>\n",
       "      <th rowspan=\"5\" valign=\"top\">EEG-filtered</th>\n",
       "      <th rowspan=\"3\" valign=\"top\">0.000000</th>\n",
       "      <th>1</th>\n",
       "      <td>4.120041</td>\n",
       "    </tr>\n",
       "    <tr>\n",
       "      <th>2</th>\n",
       "      <td>0.752644</td>\n",
       "    </tr>\n",
       "    <tr>\n",
       "      <th>3</th>\n",
       "      <td>0.938457</td>\n",
       "    </tr>\n",
       "    <tr>\n",
       "      <th rowspan=\"2\" valign=\"top\">0.250001</th>\n",
       "      <th>1</th>\n",
       "      <td>29.235540</td>\n",
       "    </tr>\n",
       "    <tr>\n",
       "      <th>2</th>\n",
       "      <td>4.304672</td>\n",
       "    </tr>\n",
       "    <tr>\n",
       "      <th>...</th>\n",
       "      <th>...</th>\n",
       "      <th>...</th>\n",
       "      <td>...</td>\n",
       "    </tr>\n",
       "    <tr>\n",
       "      <th rowspan=\"5\" valign=\"top\">EEG-raw</th>\n",
       "      <th rowspan=\"2\" valign=\"top\">508.251312</th>\n",
       "      <th>2</th>\n",
       "      <td>0.093025</td>\n",
       "    </tr>\n",
       "    <tr>\n",
       "      <th>3</th>\n",
       "      <td>0.095398</td>\n",
       "    </tr>\n",
       "    <tr>\n",
       "      <th rowspan=\"3\" valign=\"top\">508.501312</th>\n",
       "      <th>1</th>\n",
       "      <td>0.177327</td>\n",
       "    </tr>\n",
       "    <tr>\n",
       "      <th>2</th>\n",
       "      <td>0.080527</td>\n",
       "    </tr>\n",
       "    <tr>\n",
       "      <th>3</th>\n",
       "      <td>0.085419</td>\n",
       "    </tr>\n",
       "  </tbody>\n",
       "</table>\n",
       "<p>12210 rows × 1 columns</p>\n",
       "</div>"
      ],
      "text/plain": [
       "                                         power\n",
       "Recording-Config frequency  channel           \n",
       "EEG-filtered     0.000000   1         4.120041\n",
       "                            2         0.752644\n",
       "                            3         0.938457\n",
       "                 0.250001   1        29.235540\n",
       "                            2         4.304672\n",
       "...                                        ...\n",
       "EEG-raw          508.251312 2         0.093025\n",
       "                            3         0.095398\n",
       "                 508.501312 1         0.177327\n",
       "                            2         0.080527\n",
       "                            3         0.085419\n",
       "\n",
       "[12210 rows x 1 columns]"
      ]
     },
     "execution_count": 21,
     "metadata": {},
     "output_type": "execute_result"
    }
   ],
   "source": [
    "pdf"
   ]
  },
  {
   "cell_type": "code",
   "execution_count": 29,
   "metadata": {},
   "outputs": [
    {
     "data": {
      "application/vnd.jupyter.widget-view+json": {
       "model_id": "04271428aa67462790361356909b287e",
       "version_major": 2,
       "version_minor": 0
      },
      "text/plain": [
       "Canvas(toolbar=Toolbar(toolitems=[('Home', 'Reset original view', 'home', 'home'), ('Back', 'Back to previous …"
      ]
     },
     "metadata": {},
     "output_type": "display_data"
    },
    {
     "data": {
      "text/plain": [
       "(0.0, 130.0)"
      ]
     },
     "execution_count": 29,
     "metadata": {},
     "output_type": "execute_result"
    }
   ],
   "source": [
    "ax = sns.relplot(data=pdf, x='frequency', y='power', hue='Recording-Config', col='channel', kind='line')\n",
    "x = ax.axes\n",
    "x[0,0].set_ylim(0, 100)\n",
    "x[0,0].set_xlim(0, 130)"
   ]
  }
 ],
 "metadata": {
  "interpreter": {
   "hash": "f43608876f49eb59662039e914f1622581ce242a9f40390c01ad83dbb0e66dc9"
  },
  "kernelspec": {
   "display_name": "Python 3.9.6 64-bit ('ecephys': conda)",
   "name": "python3"
  },
  "language_info": {
   "codemirror_mode": {
    "name": "ipython",
    "version": 3
   },
   "file_extension": ".py",
   "mimetype": "text/x-python",
   "name": "python",
   "nbconvert_exporter": "python",
   "pygments_lexer": "ipython3",
   "version": "3.9.6"
  }
 },
 "nbformat": 4,
 "nbformat_minor": 5
}
