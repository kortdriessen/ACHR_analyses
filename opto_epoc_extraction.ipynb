{
 "cells": [
  {
   "cell_type": "code",
   "execution_count": 1,
   "source": [
    "%matplotlib widget"
   ],
   "outputs": [],
   "metadata": {}
  },
  {
   "cell_type": "code",
   "execution_count": 3,
   "source": [
    "import numpy as np\r\n",
    "import pandas as pd\r\n",
    "import tdt\r\n",
    "from pathlib import Path\r\n",
    "import matplotlib.pyplot as plt\r\n",
    "\r\n",
    "from neurodsp.plts.time_series import plot_time_series\r\n",
    "from ripple_detection.core import gaussian_smooth"
   ],
   "outputs": [],
   "metadata": {}
  },
  {
   "cell_type": "code",
   "execution_count": 4,
   "source": [
    "# Setup paths\r\n",
    "subject_dir = Path('L:\\Data\\PPT_ACHR_1_TANK')\r\n",
    "opto_block_path = subject_dir / 'PPT_ACHR_1-exp3'"
   ],
   "outputs": [],
   "metadata": {}
  },
  {
   "cell_type": "code",
   "execution_count": 5,
   "source": [
    "# Load epoc data\r\n",
    "td = tdt.read_block(opto_block_path, evtype=['epocs'])"
   ],
   "outputs": [
    {
     "output_type": "stream",
     "name": "stdout",
     "text": [
      "read from t=0s to t=89765.29s\n"
     ]
    }
   ],
   "metadata": {}
  },
  {
   "cell_type": "code",
   "execution_count": 7,
   "source": [
    "#extract the TDT onset times\r\n",
    "ons = td.epocs.OPO_.onset"
   ],
   "outputs": [],
   "metadata": {}
  },
  {
   "cell_type": "code",
   "execution_count": 8,
   "source": [
    "# Extract the true onset times\r\n",
    "idx = 0\r\n",
    "true_ons = [0]\r\n",
    "for i in ons:\r\n",
    "    if idx == 0:\r\n",
    "        true_ons.append(i)\r\n",
    "    elif (i-ons[idx-1]) > 10:\r\n",
    "        true_ons.append(i)\r\n",
    "    idx = idx + 1"
   ],
   "outputs": [],
   "metadata": {}
  },
  {
   "cell_type": "code",
   "execution_count": 10,
   "source": [
    "ons.shape"
   ],
   "outputs": [
    {
     "output_type": "execute_result",
     "data": {
      "text/plain": [
       "(6816,)"
      ]
     },
     "metadata": {},
     "execution_count": 10
    }
   ],
   "metadata": {}
  },
  {
   "cell_type": "code",
   "execution_count": 9,
   "source": [
    "list(enumerate(true_ons))"
   ],
   "outputs": [
    {
     "output_type": "execute_result",
     "data": {
      "text/plain": [
       "[(0, 0),\n",
       " (1, 30042.22271488),\n",
       " (2, 30252.96973824),\n",
       " (3, 30402.264104960002),\n",
       " (4, 30692.23882752)]"
      ]
     },
     "metadata": {},
     "execution_count": 9
    }
   ],
   "metadata": {}
  },
  {
   "cell_type": "code",
   "execution_count": null,
   "source": [],
   "outputs": [],
   "metadata": {}
  },
  {
   "cell_type": "code",
   "execution_count": 7,
   "source": [
    "# Convert true onset times back into ndarry, and get rid of 0 in the first position, to give an array with ONLY the true onset times. \r\n",
    "true_onss = np.array(true_ons)\r\n",
    "true_onss = np.delete(true_onss, 0, 0)"
   ],
   "outputs": [],
   "metadata": {}
  },
  {
   "cell_type": "code",
   "execution_count": 8,
   "source": [
    "true_onss"
   ],
   "outputs": [
    {
     "output_type": "execute_result",
     "data": {
      "text/plain": [
       "array([16325.97737472, 16451.73813248, 16562.07089664, 16742.17017344,\n",
       "       17213.66188032, 18192.34168832, 18576.96456704])"
      ]
     },
     "metadata": {},
     "execution_count": 8
    }
   ],
   "metadata": {}
  }
 ],
 "metadata": {
  "kernelspec": {
   "name": "python3",
   "display_name": "Python 3.9.6 64-bit ('ecephys': conda)"
  },
  "language_info": {
   "codemirror_mode": {
    "name": "ipython",
    "version": 3
   },
   "file_extension": ".py",
   "mimetype": "text/x-python",
   "name": "python",
   "nbconvert_exporter": "python",
   "pygments_lexer": "ipython3",
   "version": "3.9.6"
  },
  "interpreter": {
   "hash": "f43608876f49eb59662039e914f1622581ce242a9f40390c01ad83dbb0e66dc9"
  }
 },
 "nbformat": 4,
 "nbformat_minor": 5
}